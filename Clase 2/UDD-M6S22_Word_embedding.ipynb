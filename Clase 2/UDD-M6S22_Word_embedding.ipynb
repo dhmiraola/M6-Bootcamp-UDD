{
 "cells": [
  {
   "cell_type": "markdown",
   "metadata": {
    "id": "z7BNvWkgJtx0"
   },
   "source": [
    "# **Bootcamp Ciencia de Datos e Inteligencia Artificial**\n",
    "# **Módulo 6. Procesamiento de lenguaje natural**\n",
    "## **Semana 22. Word embbeding**\n",
    "\n",
    "¡Hola! Te damos la bienvenida a la semana 22. Durante esta semana comprenderás e implementarás la incrustación de palabras con ML, además, dominarás el modelo de Word2Vec para Word Embedding. Por último, aprenderás a usar la representación de palabras en un modelo de Word Embedding.\n",
    "\n",
    "Revisa el contenido con especial atención, haz tu copia y comienza a practicar. De esa manera surgirán dudas que podrás resolver con tu *coach* el día de tu clase."
   ]
  },
  {
   "cell_type": "markdown",
   "metadata": {
    "id": "dssmYV_qw_gF"
   },
   "source": [
    "# Word embbeding\n",
    "\n",
    "La **incrustación de palabras**, mejor conocida por su nombre en inglés (**_word embeeding_**), es la representación vectorial con números reales ($\\mathbb{R}$) de palabras dentro de un vocabulario, es decir, es la transformación de palabras en vectores numéricos.\n",
    "\n",
    "El **_Word Embbeding_** tiene diversas aplicaciones en el procesamiento de Lenguaje Natural o **NLP** (_Natural Language Processing_, por sus siglas en inglés), ya sea para el análisis de sentimiento, la clasificación de texto o algún otro modelo de **NLP**. Este paso mejora la precisión de dichas herramientas, dado que permite añadir información exterior y brinda mayor contexto al significado de las palabras analizadas."
   ]
  },
  {
   "cell_type": "markdown",
   "metadata": {
    "id": "5IjafV46xHtY"
   },
   "source": [
    "Cada palabrada dada en un idioma específico puede representarse como un conjunto numérico, es decir, se trata de un vector. Estos vectores pueden tener $n$ dimensones enfocadas en conocer el siginificado de tales vocablos y, para conseguirlo, les atribuye un valor. Dicho de otra manera, imagina que tienes un diccionario que, en lugar de incluir un significado, ofrece un vector o una serie de números, de manera que las palabras similares tendrán valores semejantes, mas no idénticos."
   ]
  },
  {
   "cell_type": "markdown",
   "metadata": {
    "id": "8XUJIqhPxJW3"
   },
   "source": [
    "Estas comparaciones utilizan determinado código y una nueva serie de funciones especializada en la vectorización de palabras conocidas como `Word2Vec`. Esta recibe su nombre por su parecido al enunciado en inglés _word to vector_ (palabra a vector) y se incluye en el paquete `gensim`.\n",
    "\n",
    "El primer paso consiste en importar esta paquetería. Si por alguna razón **Google Colab** no la detecta, será necesario instalarla con la siguiente función:\n",
    "```python\n",
    "!pip install gensim\n",
    "```\n",
    "\n",
    "Si ya tenías esta paquetería y ejecutas la línea de código anterior, esta se descargará de nuevo, pero descuida, no afectará al código."
   ]
  },
  {
   "cell_type": "markdown",
   "metadata": {
    "id": "Z4pm4k3XCVse"
   },
   "source": [
    "Primero, se importan `gensim` y `Word2Vec`. En este punto es necesario recalcar que se ha importado `Word2Vec`. Observa cuáles son las letras mayúsculas, pues existe una clase similar que incluye todo en minúsculas. Recuerda que **Python** sabe diferenciar entre mayúsculas y minúsculas."
   ]
  },
  {
   "cell_type": "code",
   "execution_count": 1,
   "metadata": {},
   "outputs": [],
   "source": [
    "# !pip install gensim"
   ]
  },
  {
   "cell_type": "code",
   "execution_count": 2,
   "metadata": {
    "executionInfo": {
     "elapsed": 1458,
     "status": "ok",
     "timestamp": 1696804075058,
     "user": {
      "displayName": "Daniel León",
      "userId": "12683270823614804897"
     },
     "user_tz": 300
    },
    "id": "lUPYi-jEySFJ"
   },
   "outputs": [
    {
     "name": "stderr",
     "output_type": "stream",
     "text": [
      "C:\\Users\\Diego\\anaconda3\\envs\\gpu\\Lib\\site-packages\\paramiko\\transport.py:219: CryptographyDeprecationWarning: Blowfish has been deprecated\n",
      "  \"class\": algorithms.Blowfish,\n"
     ]
    }
   ],
   "source": [
    "import gensim\n",
    "from gensim.models import Word2Vec"
   ]
  },
  {
   "cell_type": "markdown",
   "metadata": {
    "id": "BT6QP1iKDDvl"
   },
   "source": [
    "A continuación, se importan las paqueterías utilizadas para manipular _arrays_ y _dataframes_."
   ]
  },
  {
   "cell_type": "code",
   "execution_count": 3,
   "metadata": {
    "executionInfo": {
     "elapsed": 316,
     "status": "ok",
     "timestamp": 1696804075370,
     "user": {
      "displayName": "Daniel León",
      "userId": "12683270823614804897"
     },
     "user_tz": 300
    },
    "id": "X9tLPoc80mVK"
   },
   "outputs": [],
   "source": [
    "import pandas as pd\n",
    "import numpy as np"
   ]
  },
  {
   "cell_type": "markdown",
   "metadata": {
    "id": "3M6K3AmUDaki"
   },
   "source": [
    "Es importante comenzar con frases sencillas, las cuales van a \"tokenizarse\" para su mejor entendimiento."
   ]
  },
  {
   "cell_type": "code",
   "execution_count": 4,
   "metadata": {
    "executionInfo": {
     "elapsed": 8,
     "status": "ok",
     "timestamp": 1696804075371,
     "user": {
      "displayName": "Daniel León",
      "userId": "12683270823614804897"
     },
     "user_tz": 300
    },
    "id": "A9Of0AfK0oM7"
   },
   "outputs": [],
   "source": [
    "presentacion = [\n",
    "    ['mi', 'nombre', 'ser', 'antonio'],\n",
    "    ['mi', 'tener', '28', 'años', 'y', 'ser', 'cientifico', 'de', 'datos'],\n",
    "    ['mi', 'pelicula', 'favorita', 'ser', 'django'],\n",
    "    ['mi', 'gustar', 'el', 'futbol', 'y', 'el' ,'americano'],\n",
    "    ['mi', 'equipo', 'favorito', 'ser', 'liverpool'],\n",
    "    ['mi', 'gustar', 'la', 'comida', 'japonesa']\n",
    "]"
   ]
  },
  {
   "cell_type": "markdown",
   "metadata": {
    "id": "lQZJbZcSEEdw"
   },
   "source": [
    "Seguro notaste que las palabras están escritas de manera básica y sin conjugaciones, debido a que esto hace más eficientes los procesos de NLP.\n",
    "\n",
    "Este ejemplo es una lista de listas, muy común en los conjuntos de entrenamiento de este tipo de información."
   ]
  },
  {
   "cell_type": "markdown",
   "metadata": {
    "id": "tD_TG3u4FEVg"
   },
   "source": [
    "Este modelo recibirá el nombre de `model_mini`. Para hacerlo se utiliza la clase `Word2Vec`, la cual solicita tres argumentos:\n",
    "- `sentences`: se indican las listas de palabras limpias y procesadas.\n",
    "- `min_count`: señala el mínimo de apariciones de una palabra para considerarla para vectorizar. Dado que se procesa un número amplio de palabras, `Word2Vec` solo toma algunas repetidas ciertas veces. Así, al decir que el mínimo es `1`, implica que todas las palabras tendrán su respectivo vector.\n",
    "- `size`: es el tamaño del vector, es decir, los números que contiene cada _array_. Aunque su indicación no es obligatoria, en este ejemplo se anotará un tamaño de `10`."
   ]
  },
  {
   "cell_type": "code",
   "execution_count": 5,
   "metadata": {
    "colab": {
     "base_uri": "https://localhost:8080/"
    },
    "executionInfo": {
     "elapsed": 6,
     "status": "ok",
     "timestamp": 1696804075371,
     "user": {
      "displayName": "Daniel León",
      "userId": "12683270823614804897"
     },
     "user_tz": 300
    },
    "id": "p8ItThkT0s9w",
    "outputId": "bd495135-07f1-4537-b230-ac9797a1eee7"
   },
   "outputs": [
    {
     "name": "stdout",
     "output_type": "stream",
     "text": [
      "Word2Vec<vocab=24, vector_size=10, alpha=0.025>\n"
     ]
    }
   ],
   "source": [
    "model_mini = Word2Vec(sentences = presentacion, min_count= 1, vector_size= 10)\n",
    "print(model_mini)"
   ]
  },
  {
   "cell_type": "markdown",
   "metadata": {
    "id": "iXbFD8FvG6sx"
   },
   "source": [
    "Luego de entrenar el modelo, es posible averiguar algunos detalles mediante el argumeto `.wv` (del inglés _Word Vector_)."
   ]
  },
  {
   "cell_type": "markdown",
   "metadata": {
    "id": "fl2MCuEVHgD9"
   },
   "source": [
    "Si se indican una o más palabras dentro de los enunciados, se imprimirá el vector diseñado. En este caso, se tomará como ejemplo la palabra `'fútbol'`, aunque puedes replicarlo con alguna otra."
   ]
  },
  {
   "cell_type": "code",
   "execution_count": 6,
   "metadata": {
    "colab": {
     "base_uri": "https://localhost:8080/"
    },
    "executionInfo": {
     "elapsed": 353,
     "status": "ok",
     "timestamp": 1696804077667,
     "user": {
      "displayName": "Daniel León",
      "userId": "12683270823614804897"
     },
     "user_tz": 300
    },
    "id": "nppAi3Ce00na",
    "outputId": "98879daa-4ce2-4fcc-83ee-44628ed268cb"
   },
   "outputs": [
    {
     "name": "stdout",
     "output_type": "stream",
     "text": [
      "[-0.03704398 -0.08742675  0.05449758  0.06504529 -0.00776462 -0.06716229\n",
      " -0.07088374 -0.02489532  0.05132244 -0.03667898]\n"
     ]
    }
   ],
   "source": [
    "print(model_mini.wv['futbol'])"
   ]
  },
  {
   "cell_type": "markdown",
   "metadata": {
    "id": "T7GZ3-m-H0bK"
   },
   "source": [
    "El vector resultante tiene una longitud de `10`, que coincide con el argumento `size= 10` señalado durante el entrenamiento del modelo."
   ]
  },
  {
   "cell_type": "markdown",
   "metadata": {
    "id": "p7cW-VgAILrT"
   },
   "source": [
    "A continuación, se utiliza `.key_to_index` para observar los todas las palabras que generaron algún tipo de vector."
   ]
  },
  {
   "cell_type": "code",
   "execution_count": 7,
   "metadata": {
    "colab": {
     "base_uri": "https://localhost:8080/"
    },
    "executionInfo": {
     "elapsed": 6,
     "status": "ok",
     "timestamp": 1696804078852,
     "user": {
      "displayName": "Daniel León",
      "userId": "12683270823614804897"
     },
     "user_tz": 300
    },
    "id": "uLRATU1J02rR",
    "outputId": "c8f1c600-715a-4474-c9de-c41bcf18f19d"
   },
   "outputs": [
    {
     "data": {
      "text/plain": [
       "{'mi': 0,\n",
       " 'ser': 1,\n",
       " 'el': 2,\n",
       " 'gustar': 3,\n",
       " 'y': 4,\n",
       " 'datos': 5,\n",
       " 'nombre': 6,\n",
       " 'antonio': 7,\n",
       " 'tener': 8,\n",
       " '28': 9,\n",
       " 'años': 10,\n",
       " 'cientifico': 11,\n",
       " 'de': 12,\n",
       " 'japonesa': 13,\n",
       " 'comida': 14,\n",
       " 'favorita': 15,\n",
       " 'django': 16,\n",
       " 'futbol': 17,\n",
       " 'americano': 18,\n",
       " 'equipo': 19,\n",
       " 'favorito': 20,\n",
       " 'liverpool': 21,\n",
       " 'la': 22,\n",
       " 'pelicula': 23}"
      ]
     },
     "execution_count": 7,
     "metadata": {},
     "output_type": "execute_result"
    }
   ],
   "source": [
    "#from gensim.models import KeyedVectors\n",
    "model_mini.wv.key_to_index"
   ]
  },
  {
   "cell_type": "code",
   "execution_count": 8,
   "metadata": {},
   "outputs": [
    {
     "name": "stdout",
     "output_type": "stream",
     "text": [
      "[-0.00410083 -0.08371338 -0.05601967  0.07103731  0.0335198   0.07227336\n",
      "  0.06802097  0.07530955 -0.03785921 -0.00559268]\n"
     ]
    }
   ],
   "source": [
    "print(model_mini.wv['cientifico'])"
   ]
  },
  {
   "cell_type": "markdown",
   "metadata": {
    "id": "FUMQSYCII3PQ"
   },
   "source": [
    "Si únicamente se desea saber el índice y no conocer todo el objeto, entonces se escribe:"
   ]
  },
  {
   "cell_type": "code",
   "execution_count": 9,
   "metadata": {
    "colab": {
     "base_uri": "https://localhost:8080/"
    },
    "executionInfo": {
     "elapsed": 6,
     "status": "ok",
     "timestamp": 1696804125579,
     "user": {
      "displayName": "Daniel León",
      "userId": "12683270823614804897"
     },
     "user_tz": 300
    },
    "id": "22zNisvtw2YW",
    "outputId": "3ae66fa8-8602-4d39-e5b3-37e68c823631"
   },
   "outputs": [
    {
     "data": {
      "text/plain": [
       "['mi',\n",
       " 'ser',\n",
       " 'el',\n",
       " 'gustar',\n",
       " 'y',\n",
       " 'datos',\n",
       " 'nombre',\n",
       " 'antonio',\n",
       " 'tener',\n",
       " '28',\n",
       " 'años',\n",
       " 'cientifico',\n",
       " 'de',\n",
       " 'japonesa',\n",
       " 'comida',\n",
       " 'favorita',\n",
       " 'django',\n",
       " 'futbol',\n",
       " 'americano',\n",
       " 'equipo',\n",
       " 'favorito',\n",
       " 'liverpool',\n",
       " 'la',\n",
       " 'pelicula']"
      ]
     },
     "execution_count": 9,
     "metadata": {},
     "output_type": "execute_result"
    }
   ],
   "source": [
    "list(model_mini.wv.index_to_key)"
   ]
  },
  {
   "cell_type": "markdown",
   "metadata": {
    "id": "H9zeUqQGLb5x"
   },
   "source": [
    "En seguida, se aplican conocimientos en `numpy` para observar todos los vectores generados. Recuerda que se trata de un ejemplo muy pequeño, donde además se solicitaron vectores de tamaño `10`, aunque en la aplicación real  el número y tamaño de los vectores aumenta considerablemente. Toma esto en consideración en caso de que quieras utilizar `print` para ver los datos.\n",
    "\n",
    "Para usar el código, este se asigna a un objeto llamado `X_mini`"
   ]
  },
  {
   "cell_type": "code",
   "execution_count": 10,
   "metadata": {
    "colab": {
     "base_uri": "https://localhost:8080/"
    },
    "executionInfo": {
     "elapsed": 284,
     "status": "ok",
     "timestamp": 1696804139738,
     "user": {
      "displayName": "Daniel León",
      "userId": "12683270823614804897"
     },
     "user_tz": 300
    },
    "id": "UzAvSk9CLJYx",
    "outputId": "4e2f446b-7cba-4ebb-c7fa-9cc976c5ef0c"
   },
   "outputs": [
    {
     "data": {
      "text/plain": [
       "array([[-0.00536227,  0.00236431,  0.0510335 ,  0.09009273, -0.0930295 ,\n",
       "        -0.07116809,  0.06458873,  0.08972988, -0.05015428, -0.03763372],\n",
       "       [ 0.07380505, -0.01533471, -0.04536613,  0.06554051, -0.0486016 ,\n",
       "        -0.01816018,  0.0287658 ,  0.00991874, -0.08285215, -0.09448818],\n",
       "       [ 0.0731664 ,  0.05066232,  0.06769606,  0.007573  ,  0.06367437,\n",
       "        -0.03410163, -0.00944201,  0.05782584, -0.07535953, -0.03937403],\n",
       "       [-0.07507457, -0.0093028 ,  0.09546229, -0.07322591, -0.02321804,\n",
       "        -0.01942166,  0.08078457, -0.05923115,  0.00039007, -0.04752908],\n",
       "       [-0.09602271,  0.05008184, -0.08755569, -0.04392126, -0.00033126,\n",
       "        -0.00298307, -0.07662516,  0.09615408,  0.04980484,  0.09231248],\n",
       "       [-0.08158551,  0.04491206, -0.04139107,  0.00820952,  0.08504539,\n",
       "        -0.04461534,  0.04523471, -0.06781939, -0.03549725,  0.09402893],\n",
       "       [-0.01577653,  0.00321372, -0.0414063 , -0.07682689, -0.01508008,\n",
       "         0.02469795, -0.00888027,  0.05533662, -0.02742977,  0.02260065],\n",
       "       [ 0.05455794,  0.08345953, -0.01453741, -0.09208143,  0.04370552,\n",
       "         0.00571785,  0.07441908, -0.00813283, -0.02638414, -0.08753009],\n",
       "       [-0.00856557,  0.02826563,  0.05401429,  0.07052656, -0.05703121,\n",
       "         0.0185882 ,  0.06088864, -0.04798051, -0.03107261,  0.0679763 ],\n",
       "       [ 0.01634217,  0.00186492,  0.03473383,  0.00215766,  0.09624603,\n",
       "         0.05062323, -0.089116  , -0.0703664 ,  0.00902545,  0.06396654],\n",
       "       [-0.08618939,  0.03660974,  0.05189333,  0.05737542,  0.07474387,\n",
       "        -0.06167386,  0.01112085,  0.0605309 , -0.0284078 , -0.06168615],\n",
       "       [-0.00410083, -0.08371338, -0.05601967,  0.07103731,  0.0335198 ,\n",
       "         0.07227336,  0.06802097,  0.07530955, -0.03785921, -0.00559268],\n",
       "       [ 0.02348151, -0.04522844,  0.08388173, -0.09862135,  0.06770737,\n",
       "         0.0291417 , -0.04926699,  0.04402792, -0.01740264,  0.06715058],\n",
       "       [ 0.09965602, -0.04363748, -0.00593667, -0.05698244,  0.03856884,\n",
       "         0.02783605,  0.06890593,  0.06104797,  0.09536094,  0.09273595],\n",
       "       [ 0.07898068, -0.06989504, -0.09155865, -0.00355753, -0.03099841,\n",
       "         0.07894317,  0.05938574, -0.01545663,  0.01510963,  0.01790041],\n",
       "       [ 0.07817571, -0.09510187, -0.00205531,  0.03469197, -0.00938972,\n",
       "         0.08381772,  0.09010784,  0.06536506, -0.00711621,  0.07710405],\n",
       "       [-0.08534335,  0.03207107, -0.04637997, -0.05088955,  0.03589618,\n",
       "         0.05370339,  0.07769515, -0.05766506,  0.07433361,  0.06625496],\n",
       "       [-0.03704398, -0.08742675,  0.05449758,  0.06504529, -0.00776462,\n",
       "        -0.06716229, -0.07088374, -0.02489532,  0.05132244, -0.03667898],\n",
       "       [-0.09366944,  0.03828239,  0.04890372, -0.06431688,  0.01211494,\n",
       "        -0.02077236,  0.00022693, -0.09882195,  0.02690943, -0.04750201],\n",
       "       [ 0.01087646, -0.01576225,  0.02196673, -0.07881576, -0.02717184,\n",
       "         0.02663199,  0.05346682, -0.02391515, -0.09510094,  0.04505879],\n",
       "       [ 0.00094564,  0.0307732 , -0.06812645, -0.01375465,  0.07668581,\n",
       "         0.0734641 , -0.03673297,  0.02642702, -0.08317129,  0.06205486],\n",
       "       [-0.04637323, -0.03164107,  0.09311356,  0.00873386,  0.07490703,\n",
       "        -0.06074063,  0.05160507,  0.09922823, -0.08457391, -0.05135691],\n",
       "       [-0.07068297, -0.04863847, -0.0377641 , -0.08538546,  0.0795964 ,\n",
       "        -0.04847619,  0.08424009,  0.05264205, -0.0655566 ,  0.03956333],\n",
       "       [ 0.0547015 , -0.07426536, -0.0740572 , -0.02475231, -0.08625726,\n",
       "        -0.01581572, -0.00403433,  0.03299684,  0.01441881, -0.00881422]],\n",
       "      dtype=float32)"
      ]
     },
     "execution_count": 10,
     "metadata": {},
     "output_type": "execute_result"
    }
   ],
   "source": [
    "X_mini = model_mini.wv[model_mini.wv.index_to_key]\n",
    "X_mini"
   ]
  },
  {
   "cell_type": "markdown",
   "metadata": {
    "id": "j_7UZUyTM0aO"
   },
   "source": [
    "Las palabras se transformaron en un diagrama y dado que son vectores de diez dimensiones, es necesario reducir las dimensiones. Para hacerlo, se utiliza `PCA` de `sklearn`."
   ]
  },
  {
   "cell_type": "code",
   "execution_count": 11,
   "metadata": {
    "colab": {
     "base_uri": "https://localhost:8080/"
    },
    "executionInfo": {
     "elapsed": 820,
     "status": "ok",
     "timestamp": 1696804146995,
     "user": {
      "displayName": "Daniel León",
      "userId": "12683270823614804897"
     },
     "user_tz": 300
    },
    "id": "fiiwU-1wNsRh",
    "outputId": "38d0a733-d023-43d0-a43a-2f8af61af4e7"
   },
   "outputs": [
    {
     "data": {
      "text/plain": [
       "array([[ 1.13607422e-01,  1.33065805e-01],\n",
       "       [ 4.83740941e-02,  1.43567711e-01],\n",
       "       [ 8.28460380e-02,  4.22212556e-02],\n",
       "       [ 9.33657214e-02, -5.42519838e-02],\n",
       "       [-6.70645609e-02, -9.61256176e-02],\n",
       "       [ 4.51308768e-03, -1.18940987e-01],\n",
       "       [-4.37545441e-02, -1.48262810e-02],\n",
       "       [ 2.82830000e-02, -1.05171129e-02],\n",
       "       [ 1.65448058e-02,  1.74753275e-02],\n",
       "       [-3.78030762e-02, -9.28011835e-02],\n",
       "       [ 1.47317499e-01, -1.72008220e-02],\n",
       "       [-4.61822301e-02,  9.86115858e-02],\n",
       "       [-3.47606130e-02, -5.16716875e-02],\n",
       "       [-1.37106746e-01,  2.27925032e-02],\n",
       "       [-1.31105185e-01,  7.99051672e-02],\n",
       "       [-1.13986380e-01,  1.16207533e-01],\n",
       "       [-7.27570280e-02, -1.24026455e-01],\n",
       "       [ 8.14684033e-02,  1.14635164e-02],\n",
       "       [ 8.43956694e-02, -1.24474749e-01],\n",
       "       [-2.10795980e-02, -2.95940461e-03],\n",
       "       [-7.15524554e-02, -3.80821601e-02],\n",
       "       [ 1.37765288e-01,  3.54045853e-02],\n",
       "       [ 4.13515918e-05, -4.49404083e-02],\n",
       "       [-6.13698401e-02,  9.01039168e-02]], dtype=float32)"
      ]
     },
     "execution_count": 11,
     "metadata": {},
     "output_type": "execute_result"
    }
   ],
   "source": [
    "from sklearn.decomposition import PCA\n",
    "pca = PCA(n_components= 2) #n_component es la cantidad de dimensiones que necesitamos.\n",
    "X_mini_2d = pca.fit_transform(X_mini)\n",
    "X_mini_2d"
   ]
  },
  {
   "cell_type": "markdown",
   "metadata": {
    "id": "IUe6vVTnN-Mg"
   },
   "source": [
    "Ahora, se aplica un sencillo _scatter plot_."
   ]
  },
  {
   "cell_type": "code",
   "execution_count": 12,
   "metadata": {
    "executionInfo": {
     "elapsed": 232,
     "status": "ok",
     "timestamp": 1696804150277,
     "user": {
      "displayName": "Daniel León",
      "userId": "12683270823614804897"
     },
     "user_tz": 300
    },
    "id": "v5BgUwl1OLrn"
   },
   "outputs": [],
   "source": [
    "import matplotlib.pyplot as plt"
   ]
  },
  {
   "cell_type": "code",
   "execution_count": 13,
   "metadata": {
    "colab": {
     "base_uri": "https://localhost:8080/",
     "height": 599
    },
    "executionInfo": {
     "elapsed": 969,
     "status": "ok",
     "timestamp": 1696804163132,
     "user": {
      "displayName": "Daniel León",
      "userId": "12683270823614804897"
     },
     "user_tz": 300
    },
    "id": "pSmsSeqxOPoe",
    "outputId": "403369f1-b3f2-4629-fa6b-d427a9468e47"
   },
   "outputs": [
    {
     "data": {
      "image/png": "[encoded data removed]",
      "text/plain": [
       "<Figure size 700x700 with 1 Axes>"
      ]
     },
     "metadata": {},
     "output_type": "display_data"
    }
   ],
   "source": [
    "plt.figure(figsize= (7,7))\n",
    "plt.scatter(X_mini_2d[:, 0], X_mini_2d[:, 1])\n",
    "words = list(model_mini.wv.index_to_key)\n",
    "\n",
    "for i, word in enumerate(words):\n",
    "   plt.annotate(word, xy=(X_mini_2d[i, 0], X_mini_2d[i, 1]))\n",
    "\n",
    "plt.show()"
   ]
  },
  {
   "cell_type": "markdown",
   "metadata": {
    "id": "QxdJV89bPnrA"
   },
   "source": [
    "En la imagen anterior se observa que las palabras similares suelen estar juntas; en contraparte, las distintas se encuentran más lejanas entre sí. Este ejemplo aborda una serie pequeña y es una representación bidimensional de los escenarios reales con más dimensiones.\n",
    "Ahora, para saber cuáles palabras tienen un significado más cercano a otra (por ejemplo, a `'pelicula'`), existe un método para obtener la respuesta rápidamente: `most_similar`"
   ]
  },
  {
   "cell_type": "code",
   "execution_count": 14,
   "metadata": {
    "colab": {
     "base_uri": "https://localhost:8080/"
    },
    "executionInfo": {
     "elapsed": 254,
     "status": "ok",
     "timestamp": 1696804174100,
     "user": {
      "displayName": "Daniel León",
      "userId": "12683270823614804897"
     },
     "user_tz": 300
    },
    "id": "apvWKLpIPmH5",
    "outputId": "473b8c6d-a246-42c0-ab76-3d9e04e70d5f"
   },
   "outputs": [
    {
     "data": {
      "text/plain": [
       "[('comida', 0.631368100643158),\n",
       " ('ser', 0.41193631291389465),\n",
       " ('favorita', 0.35338476300239563),\n",
       " ('nombre', 0.3428654074668884),\n",
       " ('japonesa', 0.2823784649372101),\n",
       " ('cientifico', 0.21580740809440613),\n",
       " ('mi', 0.1605488657951355),\n",
       " ('y', 0.061490532010793686),\n",
       " ('equipo', 0.053066276013851166),\n",
       " ('futbol', 0.040249329060316086)]"
      ]
     },
     "execution_count": 14,
     "metadata": {},
     "output_type": "execute_result"
    }
   ],
   "source": [
    "model_mini.wv.most_similar(['pelicula'])"
   ]
  },
  {
   "cell_type": "code",
   "execution_count": 15,
   "metadata": {},
   "outputs": [
    {
     "data": {
      "text/plain": [
       "[('datos', 0.5917850732803345),\n",
       " ('americano', 0.4258928894996643),\n",
       " ('y', 0.34227845072746277),\n",
       " ('la', 0.3142183721065521),\n",
       " ('gustar', 0.2893202602863312),\n",
       " ('japonesa', 0.2813149690628052),\n",
       " ('comida', 0.1897796243429184),\n",
       " ('nombre', 0.16644424200057983),\n",
       " ('28', 0.15498636662960052),\n",
       " ('favorito', 0.1518729031085968)]"
      ]
     },
     "execution_count": 15,
     "metadata": {},
     "output_type": "execute_result"
    }
   ],
   "source": [
    "model_mini.wv.most_similar(['django'])"
   ]
  },
  {
   "cell_type": "code",
   "execution_count": 16,
   "metadata": {},
   "outputs": [
    {
     "data": {
      "text/plain": [
       "[('americano', 0.7669098377227783),\n",
       " ('equipo', 0.39199337363243103),\n",
       " ('liverpool', 0.3191201984882355),\n",
       " ('antonio', 0.29440855979919434),\n",
       " ('django', 0.2893202602863312),\n",
       " ('la', 0.2523331046104431),\n",
       " ('tener', 0.20688751339912415),\n",
       " ('años', 0.19952188432216644),\n",
       " ('mi', 0.10502881556749344),\n",
       " ('futbol', 0.09506480395793915)]"
      ]
     },
     "execution_count": 16,
     "metadata": {},
     "output_type": "execute_result"
    }
   ],
   "source": [
    "model_mini.wv.most_similar(['gustar'])"
   ]
  },
  {
   "cell_type": "code",
   "execution_count": 17,
   "metadata": {},
   "outputs": [
    {
     "data": {
      "text/plain": [
       "[('gustar', 0.7669097781181335),\n",
       " ('django', 0.4258929491043091),\n",
       " ('datos', 0.30376502871513367),\n",
       " ('antonio', 0.24738448858261108),\n",
       " ('años', 0.21395498514175415),\n",
       " ('futbol', 0.18092255294322968),\n",
       " ('28', 0.14397504925727844),\n",
       " ('equipo', 0.04996214807033539),\n",
       " ('la', 0.04436001926660538),\n",
       " ('liverpool', -0.009313303045928478)]"
      ]
     },
     "execution_count": 17,
     "metadata": {},
     "output_type": "execute_result"
    }
   ],
   "source": [
    "model_mini.wv.most_similar(['americano'])"
   ]
  },
  {
   "cell_type": "code",
   "execution_count": 18,
   "metadata": {},
   "outputs": [
    {
     "data": {
      "text/plain": [
       "[('favorita', 0.67023766040802),\n",
       " ('comida', 0.5146751999855042),\n",
       " ('de', 0.43467581272125244),\n",
       " ('pelicula', 0.2823784649372101),\n",
       " ('django', 0.28131499886512756),\n",
       " ('nombre', 0.22021909058094025),\n",
       " ('cientifico', 0.20973606407642365),\n",
       " ('la', 0.19822947680950165),\n",
       " ('y', 0.11157968640327454),\n",
       " ('equipo', 0.09980560094118118)]"
      ]
     },
     "execution_count": 18,
     "metadata": {},
     "output_type": "execute_result"
    }
   ],
   "source": [
    "model_mini.wv.most_similar(['japonesa'])"
   ]
  },
  {
   "cell_type": "code",
   "execution_count": 19,
   "metadata": {},
   "outputs": [
    {
     "data": {
      "text/plain": [
       "[('años', 0.7885133028030396),\n",
       " ('el', 0.6215400099754333),\n",
       " ('la', 0.5371708273887634),\n",
       " ('mi', 0.5109052658081055),\n",
       " ('gustar', 0.3191201686859131),\n",
       " ('cientifico', 0.28464171290397644),\n",
       " ('de', 0.2716566324234009),\n",
       " ('ser', 0.14064644277095795),\n",
       " ('futbol', 0.13855746388435364),\n",
       " ('antonio', 0.1382366120815277)]"
      ]
     },
     "execution_count": 19,
     "metadata": {},
     "output_type": "execute_result"
    }
   ],
   "source": [
    "model_mini.wv.most_similar(['liverpool'])"
   ]
  },
  {
   "cell_type": "markdown",
   "metadata": {
    "id": "-vFqGMTVQj6-"
   },
   "source": [
    "Observa que la ampliación se realiza sobre el primer modelo (`model_mini`) y no sobre el que tiene dimensiones reducidas.\n",
    "\n",
    "En este caso, la palabra `'pelicula'` tiene mayor similitud con `'28'`, con una certeza del 0.674264, seguida por `'antonio'` y `'favorito'`."
   ]
  },
  {
   "cell_type": "markdown",
   "metadata": {
    "id": "4Ag2kNmCRLmV"
   },
   "source": [
    "La utilidad de este tipo de ejercicios se observa en casos mayores. Para dimensionarlo, se utilizará `globe-twitter-25`, un modelo de 2 mil millones de tweets en varios idiomas, incluido el español, entrenado y guardado en el repositorio de `gensim`.\n",
    "\n",
    "Para acceder a él se importa una librería de `gensim` y se asigna un objeto con dicho modelo.\n",
    "\n",
    "> **NOTA**: Considera que el modelo pesa 104.8MB, así que puede demorar un poco en ejecutarse."
   ]
  },
  {
   "cell_type": "code",
   "execution_count": 20,
   "metadata": {
    "colab": {
     "base_uri": "https://localhost:8080/"
    },
    "executionInfo": {
     "elapsed": 53987,
     "status": "ok",
     "timestamp": 1696804233824,
     "user": {
      "displayName": "Daniel León",
      "userId": "12683270823614804897"
     },
     "user_tz": 300
    },
    "id": "O8a-o3iiSL_J",
    "outputId": "e2f976f3-4566-40b9-ab82-5895bd009b7c"
   },
   "outputs": [],
   "source": [
    "import gensim.downloader\n",
    "example = gensim.downloader.load('glove-twitter-25')"
   ]
  },
  {
   "cell_type": "markdown",
   "metadata": {
    "id": "i-z3ZdYPSrlo"
   },
   "source": [
    "Ahora, se analizarán las palabras más similares a `'amigo'`, `'millonario'` y `'python'`."
   ]
  },
  {
   "cell_type": "code",
   "execution_count": 21,
   "metadata": {
    "colab": {
     "base_uri": "https://localhost:8080/"
    },
    "executionInfo": {
     "elapsed": 243,
     "status": "ok",
     "timestamp": 1696804265132,
     "user": {
      "displayName": "Daniel León",
      "userId": "12683270823614804897"
     },
     "user_tz": 300
    },
    "id": "hza-2hy7Shun",
    "outputId": "652409da-416e-4ce7-d2de-81c24a8a3217"
   },
   "outputs": [
    {
     "data": {
      "text/plain": [
       "[('querido', 0.9157805442810059),\n",
       " ('amor', 0.9084493517875671),\n",
       " ('tal', 0.8987413048744202),\n",
       " ('como', 0.8945374488830566),\n",
       " ('claro', 0.8913514018058777),\n",
       " ('colega', 0.889187753200531),\n",
       " ('bonito', 0.8887455463409424),\n",
       " ('todo', 0.8883935809135437),\n",
       " ('amiga', 0.8870384097099304),\n",
       " ('diga', 0.8802276849746704)]"
      ]
     },
     "execution_count": 21,
     "metadata": {},
     "output_type": "execute_result"
    }
   ],
   "source": [
    "example.most_similar('amigo')"
   ]
  },
  {
   "cell_type": "code",
   "execution_count": 22,
   "metadata": {
    "colab": {
     "base_uri": "https://localhost:8080/"
    },
    "executionInfo": {
     "elapsed": 356,
     "status": "ok",
     "timestamp": 1696804268126,
     "user": {
      "displayName": "Daniel León",
      "userId": "12683270823614804897"
     },
     "user_tz": 300
    },
    "id": "mTt_VmkgTQ72",
    "outputId": "b13c6962-3900-4d8f-8420-0aa3ddac3d37"
   },
   "outputs": [
    {
     "data": {
      "text/plain": [
       "[('multimillonario', 0.8197100162506104),\n",
       " ('futbolista', 0.8027464151382446),\n",
       " ('delantero', 0.8003640174865723),\n",
       " ('deportista', 0.7990654706954956),\n",
       " ('peruano', 0.7978659868240356),\n",
       " ('fanatico', 0.7928324937820435),\n",
       " ('discapacitado', 0.7899059057235718),\n",
       " ('inmigrante', 0.7888672947883606),\n",
       " ('chileno', 0.7882347106933594),\n",
       " ('hondureño', 0.7869491577148438)]"
      ]
     },
     "execution_count": 22,
     "metadata": {},
     "output_type": "execute_result"
    }
   ],
   "source": [
    "example.most_similar('millonario')"
   ]
  },
  {
   "cell_type": "code",
   "execution_count": 23,
   "metadata": {
    "colab": {
     "base_uri": "https://localhost:8080/"
    },
    "executionInfo": {
     "elapsed": 271,
     "status": "ok",
     "timestamp": 1696804269931,
     "user": {
      "displayName": "Daniel León",
      "userId": "12683270823614804897"
     },
     "user_tz": 300
    },
    "id": "E4T9UxCjTXwd",
    "outputId": "1342d32d-f9a3-4fd6-92b0-7cccf4893107"
   },
   "outputs": [
    {
     "data": {
      "text/plain": [
       "[('matrix', 0.8728230595588684),\n",
       " ('electronic', 0.858686625957489),\n",
       " ('osx', 0.858174741268158),\n",
       " ('silicon', 0.8497913479804993),\n",
       " ('fusion', 0.8460885286331177),\n",
       " ('instruments', 0.8459755778312683),\n",
       " ('charcoal', 0.8439996838569641),\n",
       " ('lightroom', 0.842175304889679),\n",
       " ('slider', 0.8419185876846313),\n",
       " ('illustrator', 0.8409003019332886)]"
      ]
     },
     "execution_count": 23,
     "metadata": {},
     "output_type": "execute_result"
    }
   ],
   "source": [
    "example.most_similar('python')"
   ]
  },
  {
   "cell_type": "code",
   "execution_count": 24,
   "metadata": {},
   "outputs": [
    {
     "data": {
      "text/plain": [
       "[('colombia', 0.9749589562416077),\n",
       " ('argentina', 0.9523670077323914),\n",
       " ('mexico', 0.951471209526062),\n",
       " ('ecuador', 0.9401147961616516),\n",
       " ('paraguay', 0.9388746023178101),\n",
       " ('méxico', 0.9284105896949768),\n",
       " ('monterrey', 0.9209353923797607),\n",
       " ('guatemala', 0.9203668236732483),\n",
       " ('perú', 0.9189109802246094),\n",
       " ('uruguay', 0.9149983525276184)]"
      ]
     },
     "execution_count": 24,
     "metadata": {},
     "output_type": "execute_result"
    }
   ],
   "source": [
    "example.most_similar('chile')"
   ]
  },
  {
   "cell_type": "code",
   "execution_count": 25,
   "metadata": {},
   "outputs": [
    {
     "data": {
      "text/plain": [
       "[('sessions', 0.9001991748809814),\n",
       " ('banquet', 0.8856373429298401),\n",
       " ('pre-show', 0.8696349859237671),\n",
       " ('kickboxing', 0.8691214919090271),\n",
       " ('masterclass', 0.8553981781005859),\n",
       " ('session', 0.84486985206604),\n",
       " ('crossfit', 0.8413044810295105),\n",
       " ('pratice', 0.8364756107330322),\n",
       " ('invitational', 0.8323386311531067),\n",
       " ('wod', 0.8304573893547058)]"
      ]
     },
     "execution_count": 25,
     "metadata": {},
     "output_type": "execute_result"
    }
   ],
   "source": [
    "example.most_similar('bootcamp')"
   ]
  },
  {
   "cell_type": "markdown",
   "metadata": {
    "id": "YpYr49K6Szx0"
   },
   "source": [
    "## Ponte a prueba\n",
    "Intenta usar alguna otra palabra y observa los resultados. ¿Tienen coherencia?¿Por qué piensas que el algoritmo estableció dichas palabras como similares? ¿Encuentras alguna aplicación útil de este método, como en el análisis del discurso de un político o en el chat de un grupo de WhatsApp?"
   ]
  },
  {
   "cell_type": "markdown",
   "metadata": {
    "id": "7P4xmAJcbvJQ"
   },
   "source": [
    "#### **Ponte a prueba 2**\n",
    "\n",
    "**Visualización de Palabras Similares Basadas en Vectores de Palabras**\n",
    "\n",
    "Usando el modelo glove-twitter-25 y la palabra clave \"estudiar\", realiza las siguientes tareas:\n",
    "\n",
    "- Carga el modelo y encuentra las 10 palabras más similares a \"estudiar\".\n",
    "- Representa estas palabras y sus similitudes en un gráfico de barras.\n",
    "- Analiza el gráfico y reflexiona sobre las relaciones entre las palabras."
   ]
  },
  {
   "cell_type": "code",
   "execution_count": 26,
   "metadata": {},
   "outputs": [
    {
     "data": {
      "text/plain": [
       "[('tarea', 0.9245120882987976),\n",
       " ('clase', 0.9237799048423767),\n",
       " ('clases', 0.9230238795280457),\n",
       " ('rendir', 0.9117064476013184),\n",
       " ('empezar', 0.8936383724212646),\n",
       " ('trabajar', 0.8875538110733032),\n",
       " ('paja', 0.8869296312332153),\n",
       " ('estudiando', 0.8865811824798584),\n",
       " ('aprobar', 0.8851075768470764),\n",
       " ('repasar', 0.8835597634315491)]"
      ]
     },
     "execution_count": 26,
     "metadata": {},
     "output_type": "execute_result"
    }
   ],
   "source": [
    "example.most_similar('estudiar')"
   ]
  },
  {
   "cell_type": "code",
   "execution_count": 27,
   "metadata": {},
   "outputs": [],
   "source": [
    "# Importa las librerías necesarias\n",
    "import gensim.downloader\n",
    "import matplotlib.pyplot as plt"
   ]
  },
  {
   "cell_type": "code",
   "execution_count": 28,
   "metadata": {},
   "outputs": [],
   "source": [
    "# 1. Carga el modelo y encuentra las 10 palabras más similares a \"estudiar\"\n",
    "model = gensim.downloader.load('glove-twitter-25')\n",
    "similar_words = model.most_similar('estudiar', topn=10)\n",
    "\n",
    "# Extraer palabras y similitudes\n",
    "words = [item[0] for item in similar_words]\n",
    "similarities = [item[1] for item in similar_words]"
   ]
  },
  {
   "cell_type": "code",
   "execution_count": 29,
   "metadata": {},
   "outputs": [
    {
     "data": {
      "image/png": "[encoded data removed]",
      "text/plain": [
       "<Figure size 600x300 with 1 Axes>"
      ]
     },
     "metadata": {},
     "output_type": "display_data"
    }
   ],
   "source": [
    "# 2. Representa estas palabras y sus similitudes en un gráfico de barras\n",
    "plt.figure(figsize=(6, 3))\n",
    "plt.barh(words, similarities, color='skyblue')\n",
    "plt.xlabel('Similitud')\n",
    "plt.ylabel('Palabras')\n",
    "plt.title('Palabras Similares a \"estudiar\"')\n",
    "plt.gca().invert_yaxis()\n",
    "plt.show()"
   ]
  },
  {
   "cell_type": "code",
   "execution_count": null,
   "metadata": {},
   "outputs": [],
   "source": []
  },
  {
   "cell_type": "code",
   "execution_count": null,
   "metadata": {},
   "outputs": [],
   "source": []
  },
  {
   "cell_type": "code",
   "execution_count": null,
   "metadata": {},
   "outputs": [],
   "source": []
  },
  {
   "cell_type": "code",
   "execution_count": null,
   "metadata": {},
   "outputs": [],
   "source": []
  },
  {
   "cell_type": "markdown",
   "metadata": {
    "id": "1hsAI6n2gUo-"
   },
   "source": [
    "## Ejemplo de base de datos de comentarios de Amazon\n",
    "\n",
    "Para hacer el análisis, es necesario instalar una librería llamada `datasets`,  usada por varios proyectos para hospedar _datasets_ y modelos entrenados."
   ]
  },
  {
   "cell_type": "code",
   "execution_count": 30,
   "metadata": {
    "colab": {
     "base_uri": "https://localhost:8080/"
    },
    "executionInfo": {
     "elapsed": 11944,
     "status": "ok",
     "timestamp": 1693579617673,
     "user": {
      "displayName": "Jesús Guzmán",
      "userId": "13617357887548646805"
     },
     "user_tz": 360
    },
    "id": "5RHtNW-vUVfe",
    "outputId": "b5d00612-be37-4b7d-b9ab-b75dfa513450"
   },
   "outputs": [],
   "source": [
    "# !pip install datasets"
   ]
  },
  {
   "cell_type": "markdown",
   "metadata": {
    "id": "bIoDrQOkgwA7"
   },
   "source": [
    "Una vez instalada, se emplea la función `load_data` y se indica que se desea un _dataset_ especial de Amazon en idioma español.\n",
    "\n",
    "> **NOTA**: considera que el archivo pesa más de 80 MB."
   ]
  },
  {
   "cell_type": "code",
   "execution_count": 31,
   "metadata": {
    "colab": {
     "base_uri": "https://localhost:8080/",
     "height": 465,
     "referenced_widgets": [
      "382e7a3ce20e47d49cb298248f81e9cc",
      "172452672cc14eb9bdbdfb33968008d6",
      "e0e297ddd570434aa9733f5f1f1ceb66",
      "9a3af3d6374148bb8bad54851f834e7e",
      "374d1df66b52453eae2d712074005b8b",
      "fc8fc85e891f4d05ae9b9f9f89412133",
      "f59f182ad22041c3bed51f3a75aa9869",
      "84ff430b3fdc47128fb9e7c6933a341e",
      "1c100a4f3e894525b8e66ebc8ad57c37",
      "99a59e859a9b4e988ea02ce4dbf526ab",
      "8dda244a0672427d81317908829e7c93",
      "7348851ed6084766aadda2869b9dcd27",
      "eea6a8737b7e46f48655d13d8772b9bd",
      "98eb7b3d3f95425789f86e4b65950c34",
      "fe0a8c4275fe43f788115617b4624adb",
      "4aafe0a643b14c409359d76cd096b110",
      "c92d9739bc6049fe89bc31ecc7209253",
      "48ec22d6a8b8453ea758fb45cd95f96a",
      "f6c07f8e7746487294eb3912ff1bb0bc",
      "4a6ffeed330c4854a8d4e6e2b3391191",
      "53277751064a49e0a04dd246972aafa2",
      "e9edbcc576814407a3068ac9af3ddbd3",
      "e3d3ffe588a5493e8fb8bb4b3862dd10",
      "3a8a5206e28e47cda83460e470647daf",
      "f8f677ae54ee49a7b39633c6aa6470c9",
      "4ee64637bda54b26b0d90c54c55f27e4",
      "06e5588398c94ed6a81066d0c7284224",
      "73fb656a13854849a12e1b233a40bda5",
      "1aee6cd5ac61431f928faa03735e794a",
      "fdd7ad8d609a4ed89042d8c7905b95b8",
      "972290f2e9204b3493638391dc99bf5a",
      "b70ce31a0c624f3f98be1e59bc6fc4ed",
      "42efacb2bd984d2f9fa4b6a4760aeb5b",
      "80f7420b628a46f3888615feacd52430",
      "639e1637bba24ee2ae28d110fe693b9a",
      "ce76667eca8e4f80aea466cb5cd8588f",
      "6110e7d9bc374b54a2ec6e27e14e92d6",
      "de34f779c56742a3a1eb4de580090b27",
      "ae5104599c3f469d903c9f3bf40952c7",
      "1f2368ba0f4947b2b6a3f18c3415a022",
      "636ba6a309ca4f80a801a7c5956ff45a",
      "75e4fe92238b4668897a9b942179c6df",
      "f34ff7677a5d4442840fcca2d5ffbe44",
      "447040f779b349e491df3d4f68f0566f",
      "89d6ccce44fb412e8ca908982f3cd6b1",
      "a061b6f4c9564f4f9720d49529db1520",
      "ea4c5573d610482f9c381b02ad349184",
      "5ecf3cfe48c94942839ba73d60f6de81",
      "1292da8a82aa4e728c531a5c2c2f0eb0",
      "e66fc93fc63848599feb20f5934bc6b5",
      "1cc1384fb7df45c29cbe710c56a5ff92",
      "3b8af8f4c05d4b7f87892634673652b1",
      "a019241a318242819dc9a0e11c201ed6",
      "6a9b5622f94b40d7a04c10dca8fe7c21",
      "f76a8f1845524b709e70fa91bfbcd43a",
      "08dedec1b349433b8f601a6228080e9e",
      "61b4d0ecd0804ce1b713df992f01f7bc",
      "2ee6d37c4a174c01a0eb8d5022bfd6b1",
      "7230425c7bfa4003b71782f542bf0fdd",
      "04c59090bb1d466788974c77f8b7a49f",
      "dbb7d9b8388a42f680d56f280db0a37f",
      "f5984b71307c4c969f78adb6ceb834d9",
      "b4214841bdb74b0eb93ea6cc2f9b45d2",
      "3f4e24561106420b9053048a595aa612",
      "6896013e44a247aabd5197d854a78ebf",
      "edf20283cd6f45669e1e4e737d29992f",
      "f101320c9a334c83bb3dcde9f0f4bde4",
      "d4c1a351eb394eb7a610a58b25892dab",
      "7cdeb6edf1a241dda83689b54abacdaa",
      "b991aa54bb86411da986f5a5132ccbbd",
      "b11044bea3de47c5870df17d7c12453c",
      "ea173863b2004a2b8bf69991ab1c6ff5",
      "ac6132c230134a66b7ecaf99e84c34f7",
      "eeb6fdf53e83499d967556b8cd1cac6c",
      "8fcfc3d3fce64ba2acc445761876d3eb",
      "5311f4c350184802a5bb5bc97ff9ed53",
      "73fb6805bed945b1bd6ccdfb428ace2f",
      "1ed851eb2f9c4c779bdbcc12e7519bf0",
      "b86f6f4c96b844e89b81f07e26f3239d",
      "75421a555eca4e8ab004b9a66bc9ad0d",
      "2691992e15674e3e96e4fc73e33d8209",
      "ce667df141a24d0a96892cfee8b79d27",
      "5a7c3e53904242d681eba2a65ffa28b9",
      "d0bc2b704ea34e50b824d50c0f9b7934",
      "ba78fddf9d8641e6ba0b471102367f39",
      "05ec0690a5b841df98fa12fd97f0a9dd",
      "409c7bcc74494f489253ff71fdb70473",
      "e3e5071199e34abda8af7fa79571dc37",
      "902841e65d44465a92f8f7f0397cd2c4",
      "b41c4e60c8e2473582a1e4b3affb7af2",
      "c576b687df9d4755b0d4f2d80ae4196b",
      "61596390c43d4e87ab3eabf6113cdd19",
      "8cdfce2933224ee7afa77401d5b754be",
      "f9560e882aaf43ce96ba0a35e6205e1d",
      "457bd331826e4f3093957c6c2a0e2024",
      "eb674ac6f8df4eba87f6218f52d31bb0",
      "a8d48897b41d4c1a95ef3b4c5ddd24cb",
      "df5ce70115b94e65ad1a1a72ed2e9e13",
      "3f0598c892274564ae28501626336042",
      "3b969872013444dab274c3f17f9d15dd",
      "96b2a6715cf2436b83c9db37cab103f1",
      "e368944ae304420cafca94198cd86bf1",
      "e0dc0ab4618f473c9be223ea65682733",
      "3a21879d94a245e6a7af67f3011ac5cd",
      "aeaba8a20db44f028e902e1b132b0891",
      "369b9ecd3a4a4df88f0fc2cf019b009d",
      "e0be3d24ed0246f2a0e5fae1f59d1b87",
      "187c8e307f324eb898ef2bccdf3ef900",
      "539a821e36724423983e536fea129218",
      "4af2ca6031354e868761ef484ad63af7",
      "98d47129cdee4c08a4fd9e97ed1d4e84",
      "7d6b26eb638b4945b507fa62b9063b63",
      "fe5b9a3b0fcc425a96d2d75ef39e81ec",
      "d9c25c44d7834e20966deb2d25105e8e",
      "3606f226a313442c85aa38ae44abe06d",
      "efe12c724daa4af990af83d5be7de666",
      "06b70bdb3fd84c35ae76dc59dead04c8",
      "df35dd489eb74ebe9a0a26eab3c9b65a",
      "a30153942a2a41ff805e04e6c60e19ee",
      "45abf2e73e5e41aea7664d6e31042f95",
      "c9f026fe5ad84912828ce8f1db67a47d",
      "d4d4dae0e6c944e7955a3a6c3169e4f6",
      "1696c7d7521d47779231d9e4023b59fb",
      "c570a1a465494ce5b0a58283436dbd2a",
      "6925a17d80b14dc7a94d4956e8c8c897",
      "9d2680cd810d466eacdb85af65f0730f",
      "ef550b2e30c5482285d282c9522faa0f",
      "a0d4f2b1409e497ca4cbfbe11941c057",
      "1da0c0fad3b34b56b59ecbbd00daa736",
      "1507e066c5354a4aa21e8ddc78720ea0",
      "0c5cd2a4f95a4a818987b847fa14b010",
      "7e4d011f08814ae38eb67d4805fe2489",
      "a39557cf33c941308a654a105d774f33",
      "e59fb1c628664a9ea6b4b159272c43f8",
      "aa78350b83f9472d8b7cb6958b4b3106",
      "21cb5fc3627044eaa65329ea75462c46",
      "46fc6e68af644b3886bcb908ce1f11e0",
      "7f579af2c23e4bb993f1894c240b45e0",
      "1dabf09c30324b9fbdf896669da99511",
      "69143c91ef254d50a1214e38e0928e87",
      "ec8bb07e89d94d4087db156bc2ec814e",
      "72d600dff5eb4ed4bafa77618db2612b",
      "43ecc676792e40d4bdf566ca80da4977",
      "f490c904b9464249b9f07d19b7d91005",
      "9f8cc826f6484c84a4a8c4ccafc2a108",
      "650f0afb24ce463280215307f4e6dd59",
      "67bf6c446a204968b28453859f0ef3c1",
      "9bd3733dfc77446689be61ec3b7f23b9",
      "267b8130e80d4cddaec7f8d883b037bc",
      "476713c754fd44129c1f35ff1d07f5e0",
      "c0d307cda32a4df7910d39b6b5ef15f9",
      "c89fb36091e74e39be05ca3beb6bdedf",
      "1426c530dec747ada61d53e6bfc3eb64",
      "44623f9d685b41acb4612bc818a6beec"
     ]
    },
    "executionInfo": {
     "elapsed": 43205,
     "status": "ok",
     "timestamp": 1693579660875,
     "user": {
      "displayName": "Jesús Guzmán",
      "userId": "13617357887548646805"
     },
     "user_tz": 360
    },
    "id": "fx884qaMSzCz",
    "outputId": "9ba0a4ff-b620-4546-bd17-2cc394450fec"
   },
   "outputs": [
    {
     "data": {
      "text/html": [
       "<div>\n",
       "<style scoped>\n",
       "    .dataframe tbody tr th:only-of-type {\n",
       "        vertical-align: middle;\n",
       "    }\n",
       "\n",
       "    .dataframe tbody tr th {\n",
       "        vertical-align: top;\n",
       "    }\n",
       "\n",
       "    .dataframe thead th {\n",
       "        text-align: right;\n",
       "    }\n",
       "</style>\n",
       "<table border=\"1\" class=\"dataframe\">\n",
       "  <thead>\n",
       "    <tr style=\"text-align: right;\">\n",
       "      <th></th>\n",
       "      <th>Unnamed: 0</th>\n",
       "      <th>review_id</th>\n",
       "      <th>product_id</th>\n",
       "      <th>reviewer_id</th>\n",
       "      <th>stars</th>\n",
       "      <th>review_body</th>\n",
       "      <th>review_title</th>\n",
       "      <th>language</th>\n",
       "      <th>product_category</th>\n",
       "    </tr>\n",
       "  </thead>\n",
       "  <tbody>\n",
       "    <tr>\n",
       "      <th>0</th>\n",
       "      <td>0</td>\n",
       "      <td>de_0203609</td>\n",
       "      <td>product_de_0865382</td>\n",
       "      <td>reviewer_de_0267719</td>\n",
       "      <td>1</td>\n",
       "      <td>Armband ist leider nach 1 Jahr kaputt gegangen</td>\n",
       "      <td>Leider nach 1 Jahr kaputt</td>\n",
       "      <td>de</td>\n",
       "      <td>sports</td>\n",
       "    </tr>\n",
       "    <tr>\n",
       "      <th>1</th>\n",
       "      <td>1</td>\n",
       "      <td>de_0559494</td>\n",
       "      <td>product_de_0678997</td>\n",
       "      <td>reviewer_de_0783625</td>\n",
       "      <td>1</td>\n",
       "      <td>In der Lieferung war nur Ein Akku!</td>\n",
       "      <td>EINS statt ZWEI Akkus!!!</td>\n",
       "      <td>de</td>\n",
       "      <td>home_improvement</td>\n",
       "    </tr>\n",
       "    <tr>\n",
       "      <th>2</th>\n",
       "      <td>2</td>\n",
       "      <td>de_0238777</td>\n",
       "      <td>product_de_0372235</td>\n",
       "      <td>reviewer_de_0911426</td>\n",
       "      <td>1</td>\n",
       "      <td>Ein Stern, weil gar keine geht nicht. Es hande...</td>\n",
       "      <td>Achtung Abzocke</td>\n",
       "      <td>de</td>\n",
       "      <td>drugstore</td>\n",
       "    </tr>\n",
       "    <tr>\n",
       "      <th>3</th>\n",
       "      <td>3</td>\n",
       "      <td>de_0477884</td>\n",
       "      <td>product_de_0719501</td>\n",
       "      <td>reviewer_de_0836478</td>\n",
       "      <td>1</td>\n",
       "      <td>Dachte, das wären einfach etwas festere Binden...</td>\n",
       "      <td>Zu viel des Guten</td>\n",
       "      <td>de</td>\n",
       "      <td>drugstore</td>\n",
       "    </tr>\n",
       "    <tr>\n",
       "      <th>4</th>\n",
       "      <td>4</td>\n",
       "      <td>de_0270868</td>\n",
       "      <td>product_de_0022613</td>\n",
       "      <td>reviewer_de_0736276</td>\n",
       "      <td>1</td>\n",
       "      <td>Meine Kinder haben kaum damit gespielt und nac...</td>\n",
       "      <td>Qualität sehr schlecht</td>\n",
       "      <td>de</td>\n",
       "      <td>toy</td>\n",
       "    </tr>\n",
       "  </tbody>\n",
       "</table>\n",
       "</div>"
      ],
      "text/plain": [
       "   Unnamed: 0   review_id          product_id          reviewer_id  stars  \\\n",
       "0           0  de_0203609  product_de_0865382  reviewer_de_0267719      1   \n",
       "1           1  de_0559494  product_de_0678997  reviewer_de_0783625      1   \n",
       "2           2  de_0238777  product_de_0372235  reviewer_de_0911426      1   \n",
       "3           3  de_0477884  product_de_0719501  reviewer_de_0836478      1   \n",
       "4           4  de_0270868  product_de_0022613  reviewer_de_0736276      1   \n",
       "\n",
       "                                         review_body  \\\n",
       "0     Armband ist leider nach 1 Jahr kaputt gegangen   \n",
       "1                 In der Lieferung war nur Ein Akku!   \n",
       "2  Ein Stern, weil gar keine geht nicht. Es hande...   \n",
       "3  Dachte, das wären einfach etwas festere Binden...   \n",
       "4  Meine Kinder haben kaum damit gespielt und nac...   \n",
       "\n",
       "                review_title language  product_category  \n",
       "0  Leider nach 1 Jahr kaputt       de            sports  \n",
       "1   EINS statt ZWEI Akkus!!!       de  home_improvement  \n",
       "2            Achtung Abzocke       de         drugstore  \n",
       "3          Zu viel des Guten       de         drugstore  \n",
       "4     Qualität sehr schlecht       de               toy  "
      ]
     },
     "execution_count": 31,
     "metadata": {},
     "output_type": "execute_result"
    }
   ],
   "source": [
    "train_df = pd.read_csv('train.csv')\n",
    "train_df.head()"
   ]
  },
  {
   "cell_type": "code",
   "execution_count": 32,
   "metadata": {},
   "outputs": [
    {
     "data": {
      "text/plain": [
       "(1200000, 9)"
      ]
     },
     "execution_count": 32,
     "metadata": {},
     "output_type": "execute_result"
    }
   ],
   "source": [
    "train_df.shape"
   ]
  },
  {
   "cell_type": "code",
   "execution_count": 33,
   "metadata": {},
   "outputs": [
    {
     "data": {
      "text/plain": [
       "array(['de', 'en', 'es', 'fr', 'ja', 'zh'], dtype=object)"
      ]
     },
     "execution_count": 33,
     "metadata": {},
     "output_type": "execute_result"
    }
   ],
   "source": [
    "# seleccionamos solo las filas en español\n",
    "train_df['language'].unique()"
   ]
  },
  {
   "cell_type": "code",
   "execution_count": 59,
   "metadata": {},
   "outputs": [
    {
     "data": {
      "text/plain": [
       "language\n",
       "es    200000\n",
       "Name: count, dtype: int64"
      ]
     },
     "execution_count": 59,
     "metadata": {},
     "output_type": "execute_result"
    }
   ],
   "source": [
    "# seleccionamos solo las filas en español\n",
    "train_df['language'].value_counts()"
   ]
  },
  {
   "cell_type": "code",
   "execution_count": 34,
   "metadata": {},
   "outputs": [
    {
     "data": {
      "text/html": [
       "<div>\n",
       "<style scoped>\n",
       "    .dataframe tbody tr th:only-of-type {\n",
       "        vertical-align: middle;\n",
       "    }\n",
       "\n",
       "    .dataframe tbody tr th {\n",
       "        vertical-align: top;\n",
       "    }\n",
       "\n",
       "    .dataframe thead th {\n",
       "        text-align: right;\n",
       "    }\n",
       "</style>\n",
       "<table border=\"1\" class=\"dataframe\">\n",
       "  <thead>\n",
       "    <tr style=\"text-align: right;\">\n",
       "      <th></th>\n",
       "      <th>Unnamed: 0</th>\n",
       "      <th>review_id</th>\n",
       "      <th>product_id</th>\n",
       "      <th>reviewer_id</th>\n",
       "      <th>stars</th>\n",
       "      <th>review_body</th>\n",
       "      <th>review_title</th>\n",
       "      <th>language</th>\n",
       "      <th>product_category</th>\n",
       "    </tr>\n",
       "  </thead>\n",
       "  <tbody>\n",
       "    <tr>\n",
       "      <th>400000</th>\n",
       "      <td>400000</td>\n",
       "      <td>es_0491108</td>\n",
       "      <td>product_es_0296024</td>\n",
       "      <td>reviewer_es_0999081</td>\n",
       "      <td>1</td>\n",
       "      <td>Nada bueno se me fue ka pantalla en menos de 8...</td>\n",
       "      <td>television Nevir</td>\n",
       "      <td>es</td>\n",
       "      <td>electronics</td>\n",
       "    </tr>\n",
       "    <tr>\n",
       "      <th>400001</th>\n",
       "      <td>400001</td>\n",
       "      <td>es_0869872</td>\n",
       "      <td>product_es_0922286</td>\n",
       "      <td>reviewer_es_0216771</td>\n",
       "      <td>1</td>\n",
       "      <td>Horrible, nos tuvimos que comprar otro porque ...</td>\n",
       "      <td>Dinero tirado a la basura con esta compra</td>\n",
       "      <td>es</td>\n",
       "      <td>electronics</td>\n",
       "    </tr>\n",
       "    <tr>\n",
       "      <th>400002</th>\n",
       "      <td>400002</td>\n",
       "      <td>es_0811721</td>\n",
       "      <td>product_es_0474543</td>\n",
       "      <td>reviewer_es_0929213</td>\n",
       "      <td>1</td>\n",
       "      <td>Te obligan a comprar dos unidades y te llega s...</td>\n",
       "      <td>solo llega una unidad cuando te obligan a comp...</td>\n",
       "      <td>es</td>\n",
       "      <td>drugstore</td>\n",
       "    </tr>\n",
       "    <tr>\n",
       "      <th>400003</th>\n",
       "      <td>400003</td>\n",
       "      <td>es_0359921</td>\n",
       "      <td>product_es_0656090</td>\n",
       "      <td>reviewer_es_0224702</td>\n",
       "      <td>1</td>\n",
       "      <td>No entro en descalificar al vendedor, solo pue...</td>\n",
       "      <td>PRODUCTO NO RECIBIDO.</td>\n",
       "      <td>es</td>\n",
       "      <td>wireless</td>\n",
       "    </tr>\n",
       "    <tr>\n",
       "      <th>400004</th>\n",
       "      <td>400004</td>\n",
       "      <td>es_0068940</td>\n",
       "      <td>product_es_0662544</td>\n",
       "      <td>reviewer_es_0224827</td>\n",
       "      <td>1</td>\n",
       "      <td>Llega tarde y co la talla equivocada</td>\n",
       "      <td>Devuelto</td>\n",
       "      <td>es</td>\n",
       "      <td>shoes</td>\n",
       "    </tr>\n",
       "    <tr>\n",
       "      <th>400005</th>\n",
       "      <td>400005</td>\n",
       "      <td>es_0779978</td>\n",
       "      <td>product_es_0103315</td>\n",
       "      <td>reviewer_es_0304973</td>\n",
       "      <td>1</td>\n",
       "      <td>Jamás me llegó y el vendedor nunca contacto co...</td>\n",
       "      <td>Jamás me llegó</td>\n",
       "      <td>es</td>\n",
       "      <td>home</td>\n",
       "    </tr>\n",
       "    <tr>\n",
       "      <th>400006</th>\n",
       "      <td>400006</td>\n",
       "      <td>es_0591840</td>\n",
       "      <td>product_es_0880915</td>\n",
       "      <td>reviewer_es_0642702</td>\n",
       "      <td>1</td>\n",
       "      <td>El paraguas es de muy mala calidad,da la sensa...</td>\n",
       "      <td>Horroroso!!!</td>\n",
       "      <td>es</td>\n",
       "      <td>luggage</td>\n",
       "    </tr>\n",
       "    <tr>\n",
       "      <th>400007</th>\n",
       "      <td>400007</td>\n",
       "      <td>es_0173297</td>\n",
       "      <td>product_es_0814677</td>\n",
       "      <td>reviewer_es_0895784</td>\n",
       "      <td>1</td>\n",
       "      <td>Tuve que devolverla porque al ser triangular n...</td>\n",
       "      <td>Poco funcional</td>\n",
       "      <td>es</td>\n",
       "      <td>office_product</td>\n",
       "    </tr>\n",
       "    <tr>\n",
       "      <th>400008</th>\n",
       "      <td>400008</td>\n",
       "      <td>es_0101300</td>\n",
       "      <td>product_es_0654228</td>\n",
       "      <td>reviewer_es_0789283</td>\n",
       "      <td>1</td>\n",
       "      <td>Estoy esperando despues de protestar varias ve...</td>\n",
       "      <td>No me llego</td>\n",
       "      <td>es</td>\n",
       "      <td>electronics</td>\n",
       "    </tr>\n",
       "    <tr>\n",
       "      <th>400009</th>\n",
       "      <td>400009</td>\n",
       "      <td>es_0487007</td>\n",
       "      <td>product_es_0877793</td>\n",
       "      <td>reviewer_es_0986278</td>\n",
       "      <td>1</td>\n",
       "      <td>Defectuoso. En apariencia muy bien producto, p...</td>\n",
       "      <td>Mala calidad, defectuoso</td>\n",
       "      <td>es</td>\n",
       "      <td>kitchen</td>\n",
       "    </tr>\n",
       "  </tbody>\n",
       "</table>\n",
       "</div>"
      ],
      "text/plain": [
       "        Unnamed: 0   review_id          product_id          reviewer_id  \\\n",
       "400000      400000  es_0491108  product_es_0296024  reviewer_es_0999081   \n",
       "400001      400001  es_0869872  product_es_0922286  reviewer_es_0216771   \n",
       "400002      400002  es_0811721  product_es_0474543  reviewer_es_0929213   \n",
       "400003      400003  es_0359921  product_es_0656090  reviewer_es_0224702   \n",
       "400004      400004  es_0068940  product_es_0662544  reviewer_es_0224827   \n",
       "400005      400005  es_0779978  product_es_0103315  reviewer_es_0304973   \n",
       "400006      400006  es_0591840  product_es_0880915  reviewer_es_0642702   \n",
       "400007      400007  es_0173297  product_es_0814677  reviewer_es_0895784   \n",
       "400008      400008  es_0101300  product_es_0654228  reviewer_es_0789283   \n",
       "400009      400009  es_0487007  product_es_0877793  reviewer_es_0986278   \n",
       "\n",
       "        stars                                        review_body  \\\n",
       "400000      1  Nada bueno se me fue ka pantalla en menos de 8...   \n",
       "400001      1  Horrible, nos tuvimos que comprar otro porque ...   \n",
       "400002      1  Te obligan a comprar dos unidades y te llega s...   \n",
       "400003      1  No entro en descalificar al vendedor, solo pue...   \n",
       "400004      1               Llega tarde y co la talla equivocada   \n",
       "400005      1  Jamás me llegó y el vendedor nunca contacto co...   \n",
       "400006      1  El paraguas es de muy mala calidad,da la sensa...   \n",
       "400007      1  Tuve que devolverla porque al ser triangular n...   \n",
       "400008      1  Estoy esperando despues de protestar varias ve...   \n",
       "400009      1  Defectuoso. En apariencia muy bien producto, p...   \n",
       "\n",
       "                                             review_title language  \\\n",
       "400000                                   television Nevir       es   \n",
       "400001          Dinero tirado a la basura con esta compra       es   \n",
       "400002  solo llega una unidad cuando te obligan a comp...       es   \n",
       "400003                              PRODUCTO NO RECIBIDO.       es   \n",
       "400004                                           Devuelto       es   \n",
       "400005                                     Jamás me llegó       es   \n",
       "400006                                       Horroroso!!!       es   \n",
       "400007                                     Poco funcional       es   \n",
       "400008                                        No me llego       es   \n",
       "400009                           Mala calidad, defectuoso       es   \n",
       "\n",
       "       product_category  \n",
       "400000      electronics  \n",
       "400001      electronics  \n",
       "400002        drugstore  \n",
       "400003         wireless  \n",
       "400004            shoes  \n",
       "400005             home  \n",
       "400006          luggage  \n",
       "400007   office_product  \n",
       "400008      electronics  \n",
       "400009          kitchen  "
      ]
     },
     "execution_count": 34,
     "metadata": {},
     "output_type": "execute_result"
    }
   ],
   "source": [
    "# Filtrar por idioma español \n",
    "train_df = train_df[train_df['language'] == 'es']\n",
    "train_df.head(10)"
   ]
  },
  {
   "cell_type": "code",
   "execution_count": null,
   "metadata": {},
   "outputs": [],
   "source": []
  },
  {
   "cell_type": "markdown",
   "metadata": {
    "id": "owrxwlgFhZdL"
   },
   "source": [
    "Para acceder exclusivamente a los archivos se utiliza el siguiente código, pues la descarga está seleccionada en pequeños modulos y únicamente se desea acceder a uno."
   ]
  },
  {
   "cell_type": "code",
   "execution_count": 49,
   "metadata": {
    "id": "wA2zGWpMVuLp"
   },
   "outputs": [
    {
     "data": {
      "text/plain": [
       "400000    Nada bueno se me fue ka pantalla en menos de 8...\n",
       "400001    Horrible, nos tuvimos que comprar otro porque ...\n",
       "400002    Te obligan a comprar dos unidades y te llega s...\n",
       "400003    No entro en descalificar al vendedor, solo pue...\n",
       "400004                 Llega tarde y co la talla equivocada\n",
       "Name: review_body, dtype: object"
      ]
     },
     "execution_count": 49,
     "metadata": {},
     "output_type": "execute_result"
    }
   ],
   "source": [
    "train_df['review_body'].head()"
   ]
  },
  {
   "cell_type": "markdown",
   "metadata": {
    "id": "Sak_ZdiPhkLU"
   },
   "source": [
    "A continuación se presentan los cinco primeros enunciados sobre lo que escribieron los clientes. Recuerda que son enunciados _sic erat scriptum_."
   ]
  },
  {
   "cell_type": "code",
   "execution_count": 37,
   "metadata": {
    "colab": {
     "base_uri": "https://localhost:8080/"
    },
    "executionInfo": {
     "elapsed": 4,
     "status": "ok",
     "timestamp": 1693579661125,
     "user": {
      "displayName": "Jesús Guzmán",
      "userId": "13617357887548646805"
     },
     "user_tz": 360
    },
    "id": "F-9ikDLzZs_4",
    "outputId": "082bfef0-3e8c-4ed6-a66d-67f8d2b6e4d7"
   },
   "outputs": [],
   "source": [
    "# df[0:6]"
   ]
  },
  {
   "cell_type": "markdown",
   "metadata": {
    "id": "kUjV_np4h_aC"
   },
   "source": [
    "A continuación, se realiza la limpieza de las palabras. Para hacerlo, se toman como bases la librería `unidecode`, que transforma las letras a un método único (elimina acentos), y `re`, especificamente su función `.sub`, que hace sustituciones.\n",
    "\n",
    "Nota: para importar `unidecode` se utilizan las funciones **pip**."
   ]
  },
  {
   "cell_type": "code",
   "execution_count": 38,
   "metadata": {
    "colab": {
     "base_uri": "https://localhost:8080/"
    },
    "executionInfo": {
     "elapsed": 9157,
     "status": "ok",
     "timestamp": 1693579670279,
     "user": {
      "displayName": "Jesús Guzmán",
      "userId": "13617357887548646805"
     },
     "user_tz": 360
    },
    "id": "nFQQ165AbtKV",
    "outputId": "087625f2-f518-4906-8b51-1e510f5c498a"
   },
   "outputs": [],
   "source": [
    "# !pip install unidecode"
   ]
  },
  {
   "cell_type": "markdown",
   "metadata": {
    "id": "5MqVtbRDOQsF"
   },
   "source": [
    "A continuación, se importa `unidecode` y se utiliza la librería `re` (_regular expression_), la cual está por default en **Python** y permite realizar sustituciones."
   ]
  },
  {
   "cell_type": "code",
   "execution_count": 39,
   "metadata": {
    "id": "-f5td8qgbqBn"
   },
   "outputs": [],
   "source": [
    "import unidecode\n",
    "import re"
   ]
  },
  {
   "cell_type": "markdown",
   "metadata": {
    "id": "2K04Pmq-OtPu"
   },
   "source": [
    "Para la limpieza de datos se utliza una lista vacía, a la cual se incluyen los valores.\n",
    "\n",
    "Para hacerlo, se aplica un bucle que examina enunciado por enunciado y ejecuta los siguientes cinco pasos:\n",
    "1. Convertir los textos a minúsculas con `.lower()`.\n",
    "2. Eliminar con `unidecode.unidecode()` los acentos y algunas letras extrañas como $ç$ o $ñ$.\n",
    "3. Remover símbolos de puntuación con `re.sub`, que hace sustituciones por espacios vacíos.\n",
    "4. Quitar todos los símbolos como signos de interrogación, puntos, comas, etcétera.\n",
    "5. Remover los dígitos."
   ]
  },
  {
   "cell_type": "code",
   "execution_count": 50,
   "metadata": {
    "id": "LKx_EbcgZKmB"
   },
   "outputs": [],
   "source": [
    "import re\n",
    "import unidecode\n",
    "import pandas as pd\n",
    "\n",
    "# crear una lista\n",
    "texto_limpio = []\n",
    "\n",
    "# Iterar sobre la columna 'review_body'\n",
    "for desc in train_df['review_body']:\n",
    "    # Convertir a minúscula\n",
    "    desc = desc.lower()\n",
    "    \n",
    "    # Quitar acentos\n",
    "    desc = unidecode.unidecode(desc)\n",
    "    \n",
    "    # Remover puntuación\n",
    "    desc = re.sub('[^a-zA-Z]', ' ', desc)\n",
    "    \n",
    "    # Remover símbolos\n",
    "    desc = re.sub(\"&lt;/?.*?&gt;\", \" \", desc)\n",
    "    \n",
    "    # Remover dígitos y caracteres especiales\n",
    "    desc = re.sub(\"(\\\\d|\\\\W)+\", \" \", desc)\n",
    "    \n",
    "    texto_limpio.append(desc)\n",
    "\n",
    "# Agregar los textos limpios como nueva columna al DataFrame\n",
    "train_df['texto_limpio'] = texto_limpio"
   ]
  },
  {
   "cell_type": "markdown",
   "metadata": {
    "id": "MjS7tGSFQsMY"
   },
   "source": [
    "Se revisarán únicamente los cinco primeros textos por practicidad. Presta especial atención a la forma de redactarlos, pues esta es la forma correcta en que `Word2Vec` lo procesará."
   ]
  },
  {
   "cell_type": "code",
   "execution_count": 51,
   "metadata": {
    "colab": {
     "base_uri": "https://localhost:8080/"
    },
    "executionInfo": {
     "elapsed": 5,
     "status": "ok",
     "timestamp": 1693579703092,
     "user": {
      "displayName": "Jesús Guzmán",
      "userId": "13617357887548646805"
     },
     "user_tz": 360
    },
    "id": "2tJT5d6UZ0KG",
    "outputId": "7034cc13-44e2-4bf2-b5db-f044c278c2f3"
   },
   "outputs": [
    {
     "data": {
      "text/plain": [
       "['nada bueno se me fue ka pantalla en menos de meses y no he recibido respuesta del fabricante',\n",
       " 'horrible nos tuvimos que comprar otro porque ni nosotros que sabemos ingles ni un informatico despues de una hora fue capaz de instalarlo',\n",
       " 'te obligan a comprar dos unidades y te llega solo una y no hay forma de reclamar una autentica estafa no compreis ',\n",
       " 'no entro en descalificar al vendedor solo puedo decir que tras dos meses de espera sigo sin el producto y tuve que contactar con amazon para reclamar su reembolso amazon un se hace cargo del problema pero yo e desembolsado mi dinero y en dos meses me lo devuelven perdida de tiempo total sin palabras y ustedes deciden',\n",
       " 'llega tarde y co la talla equivocada',\n",
       " 'jamas me llego y el vendedor nunca contacto conmigo a pesar de intentarlo veces']"
      ]
     },
     "execution_count": 51,
     "metadata": {},
     "output_type": "execute_result"
    }
   ],
   "source": [
    "texto_limpio[0:6]"
   ]
  },
  {
   "cell_type": "markdown",
   "metadata": {
    "id": "aqkUqJh8RkQN"
   },
   "source": [
    "Ahora, para que `Word2Vec` comprenda mejor el contexto de cada palabra, es necesario que cada enunciado sea una lista de palabras, las cuales estarán en otra lista.\n",
    "\n",
    "Por lo general, esta lista de listas se denomina _corpus_. Para hacerlo, se utilizará un bucle _for_."
   ]
  },
  {
   "cell_type": "code",
   "execution_count": 52,
   "metadata": {
    "id": "aWW1Y-yjeorP"
   },
   "outputs": [],
   "source": [
    "corpus = []\n",
    "for i in texto_limpio:\n",
    "   lista_palabras = i.split(' ')\n",
    "   corpus.append(lista_palabras)"
   ]
  },
  {
   "cell_type": "markdown",
   "metadata": {
    "id": "rnx4W-igTkqD"
   },
   "source": [
    "A continuación se muestran las tres primeras listas de palabras en `corpus`."
   ]
  },
  {
   "cell_type": "code",
   "execution_count": 53,
   "metadata": {
    "colab": {
     "base_uri": "https://localhost:8080/"
    },
    "executionInfo": {
     "elapsed": 3,
     "status": "ok",
     "timestamp": 1693579704812,
     "user": {
      "displayName": "Jesús Guzmán",
      "userId": "13617357887548646805"
     },
     "user_tz": 360
    },
    "id": "BT3CzcWRexnF",
    "outputId": "7ea44c78-0dbb-4435-8934-10c98dd89c2d"
   },
   "outputs": [
    {
     "data": {
      "text/plain": [
       "[['nada',\n",
       "  'bueno',\n",
       "  'se',\n",
       "  'me',\n",
       "  'fue',\n",
       "  'ka',\n",
       "  'pantalla',\n",
       "  'en',\n",
       "  'menos',\n",
       "  'de',\n",
       "  'meses',\n",
       "  'y',\n",
       "  'no',\n",
       "  'he',\n",
       "  'recibido',\n",
       "  'respuesta',\n",
       "  'del',\n",
       "  'fabricante'],\n",
       " ['horrible',\n",
       "  'nos',\n",
       "  'tuvimos',\n",
       "  'que',\n",
       "  'comprar',\n",
       "  'otro',\n",
       "  'porque',\n",
       "  'ni',\n",
       "  'nosotros',\n",
       "  'que',\n",
       "  'sabemos',\n",
       "  'ingles',\n",
       "  'ni',\n",
       "  'un',\n",
       "  'informatico',\n",
       "  'despues',\n",
       "  'de',\n",
       "  'una',\n",
       "  'hora',\n",
       "  'fue',\n",
       "  'capaz',\n",
       "  'de',\n",
       "  'instalarlo'],\n",
       " ['te',\n",
       "  'obligan',\n",
       "  'a',\n",
       "  'comprar',\n",
       "  'dos',\n",
       "  'unidades',\n",
       "  'y',\n",
       "  'te',\n",
       "  'llega',\n",
       "  'solo',\n",
       "  'una',\n",
       "  'y',\n",
       "  'no',\n",
       "  'hay',\n",
       "  'forma',\n",
       "  'de',\n",
       "  'reclamar',\n",
       "  'una',\n",
       "  'autentica',\n",
       "  'estafa',\n",
       "  'no',\n",
       "  'compreis',\n",
       "  ''],\n",
       " ['no',\n",
       "  'entro',\n",
       "  'en',\n",
       "  'descalificar',\n",
       "  'al',\n",
       "  'vendedor',\n",
       "  'solo',\n",
       "  'puedo',\n",
       "  'decir',\n",
       "  'que',\n",
       "  'tras',\n",
       "  'dos',\n",
       "  'meses',\n",
       "  'de',\n",
       "  'espera',\n",
       "  'sigo',\n",
       "  'sin',\n",
       "  'el',\n",
       "  'producto',\n",
       "  'y',\n",
       "  'tuve',\n",
       "  'que',\n",
       "  'contactar',\n",
       "  'con',\n",
       "  'amazon',\n",
       "  'para',\n",
       "  'reclamar',\n",
       "  'su',\n",
       "  'reembolso',\n",
       "  'amazon',\n",
       "  'un',\n",
       "  'se',\n",
       "  'hace',\n",
       "  'cargo',\n",
       "  'del',\n",
       "  'problema',\n",
       "  'pero',\n",
       "  'yo',\n",
       "  'e',\n",
       "  'desembolsado',\n",
       "  'mi',\n",
       "  'dinero',\n",
       "  'y',\n",
       "  'en',\n",
       "  'dos',\n",
       "  'meses',\n",
       "  'me',\n",
       "  'lo',\n",
       "  'devuelven',\n",
       "  'perdida',\n",
       "  'de',\n",
       "  'tiempo',\n",
       "  'total',\n",
       "  'sin',\n",
       "  'palabras',\n",
       "  'y',\n",
       "  'ustedes',\n",
       "  'deciden']]"
      ]
     },
     "execution_count": 53,
     "metadata": {},
     "output_type": "execute_result"
    }
   ],
   "source": [
    "corpus[0:4]"
   ]
  },
  {
   "cell_type": "markdown",
   "metadata": {
    "id": "6w83s8ixUPNi"
   },
   "source": [
    "Después, se entrena el modelo con `Word2Vec`."
   ]
  },
  {
   "cell_type": "code",
   "execution_count": 54,
   "metadata": {
    "id": "CaGyzpHdfDyX"
   },
   "outputs": [],
   "source": [
    "model = Word2Vec(corpus)"
   ]
  },
  {
   "cell_type": "markdown",
   "metadata": {
    "id": "lmRAo5m2UZjz"
   },
   "source": [
    "Muchas palabras se convirtieron en vectores, pero, ¿qué tan grandes son los vectores realizados hasta el momento? Para responder a esta pregunta se utiliza `len`, aunque es posible establecer un tamaño específico en el momento de entrenar `Word2Vec`."
   ]
  },
  {
   "cell_type": "code",
   "execution_count": 45,
   "metadata": {
    "colab": {
     "base_uri": "https://localhost:8080/"
    },
    "executionInfo": {
     "elapsed": 15,
     "status": "ok",
     "timestamp": 1693579762860,
     "user": {
      "displayName": "Jesús Guzmán",
      "userId": "13617357887548646805"
     },
     "user_tz": 360
    },
    "id": "CRznQoAhfp7Z",
    "outputId": "92f6f751-e3da-4a7a-ccf6-aa75f706be9f"
   },
   "outputs": [
    {
     "data": {
      "text/plain": [
       "100"
      ]
     },
     "execution_count": 45,
     "metadata": {},
     "output_type": "execute_result"
    }
   ],
   "source": [
    "len(model.wv['precio'])"
   ]
  },
  {
   "cell_type": "markdown",
   "metadata": {
    "id": "iwySAxe0VBbI"
   },
   "source": [
    "Ahora, se toman algunos ejemplos para saber cuáles son palabras con mayor similitud. Para hacerlo, se toman como ejemplo `'precio'` y `'calidad'`. Intenta notar las similitudes con otras palabras."
   ]
  },
  {
   "cell_type": "code",
   "execution_count": 55,
   "metadata": {
    "colab": {
     "base_uri": "https://localhost:8080/"
    },
    "executionInfo": {
     "elapsed": 6,
     "status": "ok",
     "timestamp": 1693579762860,
     "user": {
      "displayName": "Jesús Guzmán",
      "userId": "13617357887548646805"
     },
     "user_tz": 360
    },
    "id": "nNdNCv78fRsd",
    "outputId": "d6afd6e7-bf02-4bcb-bcd6-3358231e1c47"
   },
   "outputs": [
    {
     "data": {
      "text/plain": [
       "[('aspecto', 0.5626376867294312),\n",
       " ('coste', 0.5516775250434875),\n",
       " ('tamano', 0.5204718112945557),\n",
       " ('sonido', 0.5136931538581848),\n",
       " ('acabado', 0.48434868454933167),\n",
       " ('valor', 0.4740731418132782),\n",
       " ('motivo', 0.46975451707839966),\n",
       " ('rendimiento', 0.4688567817211151),\n",
       " ('diseno', 0.4406045079231262),\n",
       " ('disfraz', 0.44030067324638367)]"
      ]
     },
     "execution_count": 55,
     "metadata": {},
     "output_type": "execute_result"
    }
   ],
   "source": [
    "model.wv.most_similar('precio')"
   ]
  },
  {
   "cell_type": "code",
   "execution_count": 56,
   "metadata": {
    "colab": {
     "base_uri": "https://localhost:8080/"
    },
    "executionInfo": {
     "elapsed": 5,
     "status": "ok",
     "timestamp": 1693579762860,
     "user": {
      "displayName": "Jesús Guzmán",
      "userId": "13617357887548646805"
     },
     "user_tz": 360
    },
    "id": "Dmu984aDffma",
    "outputId": "96370683-d01d-4ec2-c5df-8372bd3cff00"
   },
   "outputs": [
    {
     "data": {
      "text/plain": [
       "[('terminacion', 0.6794677972793579),\n",
       " ('apariencia', 0.6045692563056946),\n",
       " ('qualidad', 0.5936602354049683),\n",
       " ('confeccion', 0.5926386117935181),\n",
       " ('presencia', 0.5760542154312134),\n",
       " ('presentacion', 0.5646878480911255),\n",
       " ('resolucion', 0.5613738298416138),\n",
       " ('definicion', 0.5601060390472412),\n",
       " ('cualidad', 0.5489805936813354),\n",
       " ('adhesion', 0.5287854671478271)]"
      ]
     },
     "execution_count": 56,
     "metadata": {},
     "output_type": "execute_result"
    }
   ],
   "source": [
    "model.wv.most_similar('calidad')"
   ]
  },
  {
   "cell_type": "code",
   "execution_count": 57,
   "metadata": {},
   "outputs": [
    {
     "data": {
      "text/plain": [
       "[('comprarlos', 0.8173081278800964),\n",
       " ('comprarlo', 0.8034946918487549),\n",
       " ('comprarlas', 0.7854297757148743),\n",
       " ('comprarla', 0.7819159030914307),\n",
       " ('comprarle', 0.7725591659545898),\n",
       " ('comprarme', 0.7698754668235779),\n",
       " ('repetir', 0.7481770515441895),\n",
       " ('adquirir', 0.7420080304145813),\n",
       " ('comprarles', 0.6600085496902466),\n",
       " ('compralo', 0.6514807343482971)]"
      ]
     },
     "execution_count": 57,
     "metadata": {},
     "output_type": "execute_result"
    }
   ],
   "source": [
    "model.wv.most_similar('comprar')"
   ]
  },
  {
   "cell_type": "code",
   "execution_count": 58,
   "metadata": {},
   "outputs": [
    {
     "data": {
      "text/plain": [
       "[('contactarme', 0.7919051051139832),\n",
       " ('cordiales', 0.7760314345359802),\n",
       " ('desincroniza', 0.7706722021102905),\n",
       " ('pronta', 0.7705848813056946),\n",
       " ('allegado', 0.7700830698013306),\n",
       " ('darnos', 0.767645001411438),\n",
       " ('purifica', 0.7657290697097778),\n",
       " ('pertinentes', 0.7626420855522156),\n",
       " ('respondiendo', 0.7543516755104065),\n",
       " ('objetiva', 0.7534136176109314)]"
      ]
     },
     "execution_count": 58,
     "metadata": {},
     "output_type": "execute_result"
    }
   ],
   "source": [
    "model.wv.most_similar('deciden')"
   ]
  },
  {
   "cell_type": "code",
   "execution_count": 60,
   "metadata": {},
   "outputs": [
    {
     "data": {
      "text/html": [
       "<div>\n",
       "<style scoped>\n",
       "    .dataframe tbody tr th:only-of-type {\n",
       "        vertical-align: middle;\n",
       "    }\n",
       "\n",
       "    .dataframe tbody tr th {\n",
       "        vertical-align: top;\n",
       "    }\n",
       "\n",
       "    .dataframe thead th {\n",
       "        text-align: right;\n",
       "    }\n",
       "</style>\n",
       "<table border=\"1\" class=\"dataframe\">\n",
       "  <thead>\n",
       "    <tr style=\"text-align: right;\">\n",
       "      <th></th>\n",
       "      <th>Unnamed: 0</th>\n",
       "      <th>review_id</th>\n",
       "      <th>product_id</th>\n",
       "      <th>reviewer_id</th>\n",
       "      <th>stars</th>\n",
       "      <th>review_body</th>\n",
       "      <th>review_title</th>\n",
       "      <th>language</th>\n",
       "      <th>product_category</th>\n",
       "    </tr>\n",
       "  </thead>\n",
       "  <tbody>\n",
       "    <tr>\n",
       "      <th>0</th>\n",
       "      <td>0</td>\n",
       "      <td>de_0784695</td>\n",
       "      <td>product_de_0572654</td>\n",
       "      <td>reviewer_de_0645436</td>\n",
       "      <td>1</td>\n",
       "      <td>Leider, leider nach einmal waschen ausgebliche...</td>\n",
       "      <td>Leider nicht zu empfehlen</td>\n",
       "      <td>de</td>\n",
       "      <td>home</td>\n",
       "    </tr>\n",
       "    <tr>\n",
       "      <th>1</th>\n",
       "      <td>1</td>\n",
       "      <td>de_0759207</td>\n",
       "      <td>product_de_0567331</td>\n",
       "      <td>reviewer_de_0183703</td>\n",
       "      <td>1</td>\n",
       "      <td>zunächst macht der Anker Halter einen soliden ...</td>\n",
       "      <td>Gummierung nach 6 Monaten kaputt</td>\n",
       "      <td>de</td>\n",
       "      <td>wireless</td>\n",
       "    </tr>\n",
       "    <tr>\n",
       "      <th>2</th>\n",
       "      <td>2</td>\n",
       "      <td>de_0711785</td>\n",
       "      <td>product_de_0482105</td>\n",
       "      <td>reviewer_de_0182152</td>\n",
       "      <td>1</td>\n",
       "      <td>Siegel sowie Verpackung war beschädigt und war...</td>\n",
       "      <td>Flohmarkt ware</td>\n",
       "      <td>de</td>\n",
       "      <td>industrial_supplies</td>\n",
       "    </tr>\n",
       "    <tr>\n",
       "      <th>3</th>\n",
       "      <td>3</td>\n",
       "      <td>de_0964430</td>\n",
       "      <td>product_de_0616480</td>\n",
       "      <td>reviewer_de_0991563</td>\n",
       "      <td>1</td>\n",
       "      <td>Habe dieses Produkt NIE erhalten und das Geld ...</td>\n",
       "      <td>Katastrophe</td>\n",
       "      <td>de</td>\n",
       "      <td>industrial_supplies</td>\n",
       "    </tr>\n",
       "    <tr>\n",
       "      <th>4</th>\n",
       "      <td>4</td>\n",
       "      <td>de_0474538</td>\n",
       "      <td>product_de_0228702</td>\n",
       "      <td>reviewer_de_0316188</td>\n",
       "      <td>1</td>\n",
       "      <td>Die Träger sind schnell abgerissen</td>\n",
       "      <td>Reißverschluss klemmt</td>\n",
       "      <td>de</td>\n",
       "      <td>luggage</td>\n",
       "    </tr>\n",
       "  </tbody>\n",
       "</table>\n",
       "</div>"
      ],
      "text/plain": [
       "   Unnamed: 0   review_id          product_id          reviewer_id  stars  \\\n",
       "0           0  de_0784695  product_de_0572654  reviewer_de_0645436      1   \n",
       "1           1  de_0759207  product_de_0567331  reviewer_de_0183703      1   \n",
       "2           2  de_0711785  product_de_0482105  reviewer_de_0182152      1   \n",
       "3           3  de_0964430  product_de_0616480  reviewer_de_0991563      1   \n",
       "4           4  de_0474538  product_de_0228702  reviewer_de_0316188      1   \n",
       "\n",
       "                                         review_body  \\\n",
       "0  Leider, leider nach einmal waschen ausgebliche...   \n",
       "1  zunächst macht der Anker Halter einen soliden ...   \n",
       "2  Siegel sowie Verpackung war beschädigt und war...   \n",
       "3  Habe dieses Produkt NIE erhalten und das Geld ...   \n",
       "4                 Die Träger sind schnell abgerissen   \n",
       "\n",
       "                       review_title language     product_category  \n",
       "0         Leider nicht zu empfehlen       de                 home  \n",
       "1  Gummierung nach 6 Monaten kaputt       de             wireless  \n",
       "2                    Flohmarkt ware       de  industrial_supplies  \n",
       "3                       Katastrophe       de  industrial_supplies  \n",
       "4             Reißverschluss klemmt       de              luggage  "
      ]
     },
     "execution_count": 60,
     "metadata": {},
     "output_type": "execute_result"
    }
   ],
   "source": [
    "test_df = pd.read_csv('test.csv')\n",
    "test_df.head()"
   ]
  },
  {
   "cell_type": "code",
   "execution_count": 61,
   "metadata": {},
   "outputs": [
    {
     "data": {
      "text/plain": [
       "(30000, 9)"
      ]
     },
     "execution_count": 61,
     "metadata": {},
     "output_type": "execute_result"
    }
   ],
   "source": [
    "test_df.shape"
   ]
  },
  {
   "cell_type": "code",
   "execution_count": 63,
   "metadata": {},
   "outputs": [
    {
     "data": {
      "text/plain": [
       "language\n",
       "de    5000\n",
       "en    5000\n",
       "es    5000\n",
       "fr    5000\n",
       "ja    5000\n",
       "zh    5000\n",
       "Name: count, dtype: int64"
      ]
     },
     "execution_count": 63,
     "metadata": {},
     "output_type": "execute_result"
    }
   ],
   "source": [
    "test_df['language'].value_counts()"
   ]
  },
  {
   "cell_type": "code",
   "execution_count": 64,
   "metadata": {},
   "outputs": [
    {
     "data": {
      "text/html": [
       "<div>\n",
       "<style scoped>\n",
       "    .dataframe tbody tr th:only-of-type {\n",
       "        vertical-align: middle;\n",
       "    }\n",
       "\n",
       "    .dataframe tbody tr th {\n",
       "        vertical-align: top;\n",
       "    }\n",
       "\n",
       "    .dataframe thead th {\n",
       "        text-align: right;\n",
       "    }\n",
       "</style>\n",
       "<table border=\"1\" class=\"dataframe\">\n",
       "  <thead>\n",
       "    <tr style=\"text-align: right;\">\n",
       "      <th></th>\n",
       "      <th>Unnamed: 0</th>\n",
       "      <th>review_id</th>\n",
       "      <th>product_id</th>\n",
       "      <th>reviewer_id</th>\n",
       "      <th>stars</th>\n",
       "      <th>review_body</th>\n",
       "      <th>review_title</th>\n",
       "      <th>language</th>\n",
       "      <th>product_category</th>\n",
       "    </tr>\n",
       "  </thead>\n",
       "  <tbody>\n",
       "    <tr>\n",
       "      <th>10000</th>\n",
       "      <td>10000</td>\n",
       "      <td>es_0038754</td>\n",
       "      <td>product_es_0113523</td>\n",
       "      <td>reviewer_es_0580071</td>\n",
       "      <td>1</td>\n",
       "      <td>no me llego el articulo me lo mando por correo...</td>\n",
       "      <td>no me llego</td>\n",
       "      <td>es</td>\n",
       "      <td>wireless</td>\n",
       "    </tr>\n",
       "    <tr>\n",
       "      <th>10001</th>\n",
       "      <td>10001</td>\n",
       "      <td>es_0748979</td>\n",
       "      <td>product_es_0017036</td>\n",
       "      <td>reviewer_es_0819733</td>\n",
       "      <td>1</td>\n",
       "      <td>la mensajería horrible, no compro mas</td>\n",
       "      <td>amazon sigue sin cumplir en las entregas</td>\n",
       "      <td>es</td>\n",
       "      <td>home</td>\n",
       "    </tr>\n",
       "    <tr>\n",
       "      <th>10002</th>\n",
       "      <td>10002</td>\n",
       "      <td>es_0411746</td>\n",
       "      <td>product_es_0138642</td>\n",
       "      <td>reviewer_es_0508607</td>\n",
       "      <td>1</td>\n",
       "      <td>Estoy muy decepcionado con el vendedor ya que ...</td>\n",
       "      <td>ESTAFA EN EL ENVÍO</td>\n",
       "      <td>es</td>\n",
       "      <td>toy</td>\n",
       "    </tr>\n",
       "    <tr>\n",
       "      <th>10003</th>\n",
       "      <td>10003</td>\n",
       "      <td>es_0786686</td>\n",
       "      <td>product_es_0170887</td>\n",
       "      <td>reviewer_es_0491157</td>\n",
       "      <td>1</td>\n",
       "      <td>Mi valoración no es sobre el producto sino sob...</td>\n",
       "      <td>Estafa de Amazon</td>\n",
       "      <td>es</td>\n",
       "      <td>home</td>\n",
       "    </tr>\n",
       "    <tr>\n",
       "      <th>10004</th>\n",
       "      <td>10004</td>\n",
       "      <td>es_0429700</td>\n",
       "      <td>product_es_0710642</td>\n",
       "      <td>reviewer_es_0008745</td>\n",
       "      <td>1</td>\n",
       "      <td>Pues tenía interés en este libro y probé la ve...</td>\n",
       "      <td>No conseguí pasar de la portada en Kindle</td>\n",
       "      <td>es</td>\n",
       "      <td>digital_ebook_purchase</td>\n",
       "    </tr>\n",
       "    <tr>\n",
       "      <th>10005</th>\n",
       "      <td>10005</td>\n",
       "      <td>es_0370652</td>\n",
       "      <td>product_es_0813312</td>\n",
       "      <td>reviewer_es_0789216</td>\n",
       "      <td>1</td>\n",
       "      <td>Compre este teclado al ver sus buenos comentar...</td>\n",
       "      <td>Una verdadera pena</td>\n",
       "      <td>es</td>\n",
       "      <td>pc</td>\n",
       "    </tr>\n",
       "    <tr>\n",
       "      <th>10006</th>\n",
       "      <td>10006</td>\n",
       "      <td>es_0838239</td>\n",
       "      <td>product_es_0260888</td>\n",
       "      <td>reviewer_es_0022974</td>\n",
       "      <td>1</td>\n",
       "      <td>Sigue sin llegar después de meses</td>\n",
       "      <td>No compréis es un engaño</td>\n",
       "      <td>es</td>\n",
       "      <td>lawn_and_garden</td>\n",
       "    </tr>\n",
       "    <tr>\n",
       "      <th>10007</th>\n",
       "      <td>10007</td>\n",
       "      <td>es_0233338</td>\n",
       "      <td>product_es_0234796</td>\n",
       "      <td>reviewer_es_0942055</td>\n",
       "      <td>1</td>\n",
       "      <td>No sirve para nada, es malo y se rompe y se de...</td>\n",
       "      <td>No sirve para nada, pésimo producto</td>\n",
       "      <td>es</td>\n",
       "      <td>wireless</td>\n",
       "    </tr>\n",
       "    <tr>\n",
       "      <th>10008</th>\n",
       "      <td>10008</td>\n",
       "      <td>es_0470247</td>\n",
       "      <td>product_es_0690174</td>\n",
       "      <td>reviewer_es_0969485</td>\n",
       "      <td>1</td>\n",
       "      <td>Todavía espero que me llegue despues dw una se...</td>\n",
       "      <td>Pésimo trato del vendedor</td>\n",
       "      <td>es</td>\n",
       "      <td>sports</td>\n",
       "    </tr>\n",
       "    <tr>\n",
       "      <th>10009</th>\n",
       "      <td>10009</td>\n",
       "      <td>es_0454942</td>\n",
       "      <td>product_es_0624641</td>\n",
       "      <td>reviewer_es_0681717</td>\n",
       "      <td>1</td>\n",
       "      <td>La peor cámara que he tenido en mis manos. Dos...</td>\n",
       "      <td>Pésima camara</td>\n",
       "      <td>es</td>\n",
       "      <td>camera</td>\n",
       "    </tr>\n",
       "  </tbody>\n",
       "</table>\n",
       "</div>"
      ],
      "text/plain": [
       "       Unnamed: 0   review_id          product_id          reviewer_id  stars  \\\n",
       "10000       10000  es_0038754  product_es_0113523  reviewer_es_0580071      1   \n",
       "10001       10001  es_0748979  product_es_0017036  reviewer_es_0819733      1   \n",
       "10002       10002  es_0411746  product_es_0138642  reviewer_es_0508607      1   \n",
       "10003       10003  es_0786686  product_es_0170887  reviewer_es_0491157      1   \n",
       "10004       10004  es_0429700  product_es_0710642  reviewer_es_0008745      1   \n",
       "10005       10005  es_0370652  product_es_0813312  reviewer_es_0789216      1   \n",
       "10006       10006  es_0838239  product_es_0260888  reviewer_es_0022974      1   \n",
       "10007       10007  es_0233338  product_es_0234796  reviewer_es_0942055      1   \n",
       "10008       10008  es_0470247  product_es_0690174  reviewer_es_0969485      1   \n",
       "10009       10009  es_0454942  product_es_0624641  reviewer_es_0681717      1   \n",
       "\n",
       "                                             review_body  \\\n",
       "10000  no me llego el articulo me lo mando por correo...   \n",
       "10001              la mensajería horrible, no compro mas   \n",
       "10002  Estoy muy decepcionado con el vendedor ya que ...   \n",
       "10003  Mi valoración no es sobre el producto sino sob...   \n",
       "10004  Pues tenía interés en este libro y probé la ve...   \n",
       "10005  Compre este teclado al ver sus buenos comentar...   \n",
       "10006                  Sigue sin llegar después de meses   \n",
       "10007  No sirve para nada, es malo y se rompe y se de...   \n",
       "10008  Todavía espero que me llegue despues dw una se...   \n",
       "10009  La peor cámara que he tenido en mis manos. Dos...   \n",
       "\n",
       "                                    review_title language  \\\n",
       "10000                                no me llego       es   \n",
       "10001   amazon sigue sin cumplir en las entregas       es   \n",
       "10002                         ESTAFA EN EL ENVÍO       es   \n",
       "10003                           Estafa de Amazon       es   \n",
       "10004  No conseguí pasar de la portada en Kindle       es   \n",
       "10005                         Una verdadera pena       es   \n",
       "10006                   No compréis es un engaño       es   \n",
       "10007        No sirve para nada, pésimo producto       es   \n",
       "10008                  Pésimo trato del vendedor       es   \n",
       "10009                              Pésima camara       es   \n",
       "\n",
       "             product_category  \n",
       "10000                wireless  \n",
       "10001                    home  \n",
       "10002                     toy  \n",
       "10003                    home  \n",
       "10004  digital_ebook_purchase  \n",
       "10005                      pc  \n",
       "10006         lawn_and_garden  \n",
       "10007                wireless  \n",
       "10008                  sports  \n",
       "10009                  camera  "
      ]
     },
     "execution_count": 64,
     "metadata": {},
     "output_type": "execute_result"
    }
   ],
   "source": [
    "# Filtrar por idioma español \n",
    "test_df = test_df[test_df['language'] == 'es']\n",
    "test_df.head(10)"
   ]
  },
  {
   "cell_type": "code",
   "execution_count": 65,
   "metadata": {},
   "outputs": [
    {
     "name": "stderr",
     "output_type": "stream",
     "text": [
      "C:\\Users\\Diego\\AppData\\Local\\Temp\\ipykernel_21816\\3092216425.py:28: SettingWithCopyWarning: \n",
      "A value is trying to be set on a copy of a slice from a DataFrame.\n",
      "Try using .loc[row_indexer,col_indexer] = value instead\n",
      "\n",
      "See the caveats in the documentation: https://pandas.pydata.org/pandas-docs/stable/user_guide/indexing.html#returning-a-view-versus-a-copy\n",
      "  test_df['texto_limpio'] = texto_limpio\n"
     ]
    }
   ],
   "source": [
    "import re\n",
    "import unidecode\n",
    "import pandas as pd\n",
    "\n",
    "# crear una lista\n",
    "texto_limpio = []\n",
    "\n",
    "# Iterar sobre la columna 'review_body'\n",
    "for desc in test_df['review_body']:\n",
    "    # Convertir a minúscula\n",
    "    desc = desc.lower()\n",
    "    \n",
    "    # Quitar acentos\n",
    "    desc = unidecode.unidecode(desc)\n",
    "    \n",
    "    # Remover puntuación\n",
    "    desc = re.sub('[^a-zA-Z]', ' ', desc)\n",
    "    \n",
    "    # Remover símbolos\n",
    "    desc = re.sub(\"&lt;/?.*?&gt;\", \" \", desc)\n",
    "    \n",
    "    # Remover dígitos y caracteres especiales\n",
    "    desc = re.sub(\"(\\\\d|\\\\W)+\", \" \", desc)\n",
    "    \n",
    "    texto_limpio.append(desc)\n",
    "\n",
    "# Agregar los textos limpios como nueva columna al DataFrame\n",
    "test_df['texto_limpio'] = texto_limpio"
   ]
  },
  {
   "cell_type": "code",
   "execution_count": 66,
   "metadata": {},
   "outputs": [
    {
     "data": {
      "text/html": [
       "<div>\n",
       "<style scoped>\n",
       "    .dataframe tbody tr th:only-of-type {\n",
       "        vertical-align: middle;\n",
       "    }\n",
       "\n",
       "    .dataframe tbody tr th {\n",
       "        vertical-align: top;\n",
       "    }\n",
       "\n",
       "    .dataframe thead th {\n",
       "        text-align: right;\n",
       "    }\n",
       "</style>\n",
       "<table border=\"1\" class=\"dataframe\">\n",
       "  <thead>\n",
       "    <tr style=\"text-align: right;\">\n",
       "      <th></th>\n",
       "      <th>Unnamed: 0</th>\n",
       "      <th>review_id</th>\n",
       "      <th>product_id</th>\n",
       "      <th>reviewer_id</th>\n",
       "      <th>stars</th>\n",
       "      <th>review_body</th>\n",
       "      <th>review_title</th>\n",
       "      <th>language</th>\n",
       "      <th>product_category</th>\n",
       "      <th>texto_limpio</th>\n",
       "    </tr>\n",
       "  </thead>\n",
       "  <tbody>\n",
       "    <tr>\n",
       "      <th>10000</th>\n",
       "      <td>10000</td>\n",
       "      <td>es_0038754</td>\n",
       "      <td>product_es_0113523</td>\n",
       "      <td>reviewer_es_0580071</td>\n",
       "      <td>1</td>\n",
       "      <td>no me llego el articulo me lo mando por correo...</td>\n",
       "      <td>no me llego</td>\n",
       "      <td>es</td>\n",
       "      <td>wireless</td>\n",
       "      <td>no me llego el articulo me lo mando por correo...</td>\n",
       "    </tr>\n",
       "    <tr>\n",
       "      <th>10001</th>\n",
       "      <td>10001</td>\n",
       "      <td>es_0748979</td>\n",
       "      <td>product_es_0017036</td>\n",
       "      <td>reviewer_es_0819733</td>\n",
       "      <td>1</td>\n",
       "      <td>la mensajería horrible, no compro mas</td>\n",
       "      <td>amazon sigue sin cumplir en las entregas</td>\n",
       "      <td>es</td>\n",
       "      <td>home</td>\n",
       "      <td>la mensajeria horrible no compro mas</td>\n",
       "    </tr>\n",
       "    <tr>\n",
       "      <th>10002</th>\n",
       "      <td>10002</td>\n",
       "      <td>es_0411746</td>\n",
       "      <td>product_es_0138642</td>\n",
       "      <td>reviewer_es_0508607</td>\n",
       "      <td>1</td>\n",
       "      <td>Estoy muy decepcionado con el vendedor ya que ...</td>\n",
       "      <td>ESTAFA EN EL ENVÍO</td>\n",
       "      <td>es</td>\n",
       "      <td>toy</td>\n",
       "      <td>estoy muy decepcionado con el vendedor ya que ...</td>\n",
       "    </tr>\n",
       "    <tr>\n",
       "      <th>10003</th>\n",
       "      <td>10003</td>\n",
       "      <td>es_0786686</td>\n",
       "      <td>product_es_0170887</td>\n",
       "      <td>reviewer_es_0491157</td>\n",
       "      <td>1</td>\n",
       "      <td>Mi valoración no es sobre el producto sino sob...</td>\n",
       "      <td>Estafa de Amazon</td>\n",
       "      <td>es</td>\n",
       "      <td>home</td>\n",
       "      <td>mi valoracion no es sobre el producto sino sob...</td>\n",
       "    </tr>\n",
       "    <tr>\n",
       "      <th>10004</th>\n",
       "      <td>10004</td>\n",
       "      <td>es_0429700</td>\n",
       "      <td>product_es_0710642</td>\n",
       "      <td>reviewer_es_0008745</td>\n",
       "      <td>1</td>\n",
       "      <td>Pues tenía interés en este libro y probé la ve...</td>\n",
       "      <td>No conseguí pasar de la portada en Kindle</td>\n",
       "      <td>es</td>\n",
       "      <td>digital_ebook_purchase</td>\n",
       "      <td>pues tenia interes en este libro y probe la ve...</td>\n",
       "    </tr>\n",
       "  </tbody>\n",
       "</table>\n",
       "</div>"
      ],
      "text/plain": [
       "       Unnamed: 0   review_id          product_id          reviewer_id  stars  \\\n",
       "10000       10000  es_0038754  product_es_0113523  reviewer_es_0580071      1   \n",
       "10001       10001  es_0748979  product_es_0017036  reviewer_es_0819733      1   \n",
       "10002       10002  es_0411746  product_es_0138642  reviewer_es_0508607      1   \n",
       "10003       10003  es_0786686  product_es_0170887  reviewer_es_0491157      1   \n",
       "10004       10004  es_0429700  product_es_0710642  reviewer_es_0008745      1   \n",
       "\n",
       "                                             review_body  \\\n",
       "10000  no me llego el articulo me lo mando por correo...   \n",
       "10001              la mensajería horrible, no compro mas   \n",
       "10002  Estoy muy decepcionado con el vendedor ya que ...   \n",
       "10003  Mi valoración no es sobre el producto sino sob...   \n",
       "10004  Pues tenía interés en este libro y probé la ve...   \n",
       "\n",
       "                                    review_title language  \\\n",
       "10000                                no me llego       es   \n",
       "10001   amazon sigue sin cumplir en las entregas       es   \n",
       "10002                         ESTAFA EN EL ENVÍO       es   \n",
       "10003                           Estafa de Amazon       es   \n",
       "10004  No conseguí pasar de la portada en Kindle       es   \n",
       "\n",
       "             product_category  \\\n",
       "10000                wireless   \n",
       "10001                    home   \n",
       "10002                     toy   \n",
       "10003                    home   \n",
       "10004  digital_ebook_purchase   \n",
       "\n",
       "                                            texto_limpio  \n",
       "10000  no me llego el articulo me lo mando por correo...  \n",
       "10001               la mensajeria horrible no compro mas  \n",
       "10002  estoy muy decepcionado con el vendedor ya que ...  \n",
       "10003  mi valoracion no es sobre el producto sino sob...  \n",
       "10004  pues tenia interes en este libro y probe la ve...  "
      ]
     },
     "execution_count": 66,
     "metadata": {},
     "output_type": "execute_result"
    }
   ],
   "source": [
    "test_df.head()"
   ]
  },
  {
   "cell_type": "code",
   "execution_count": 67,
   "metadata": {},
   "outputs": [
    {
     "data": {
      "text/html": [
       "<div>\n",
       "<style scoped>\n",
       "    .dataframe tbody tr th:only-of-type {\n",
       "        vertical-align: middle;\n",
       "    }\n",
       "\n",
       "    .dataframe tbody tr th {\n",
       "        vertical-align: top;\n",
       "    }\n",
       "\n",
       "    .dataframe thead th {\n",
       "        text-align: right;\n",
       "    }\n",
       "</style>\n",
       "<table border=\"1\" class=\"dataframe\">\n",
       "  <thead>\n",
       "    <tr style=\"text-align: right;\">\n",
       "      <th></th>\n",
       "      <th>Unnamed: 0</th>\n",
       "      <th>review_id</th>\n",
       "      <th>product_id</th>\n",
       "      <th>reviewer_id</th>\n",
       "      <th>stars</th>\n",
       "      <th>review_body</th>\n",
       "      <th>review_title</th>\n",
       "      <th>language</th>\n",
       "      <th>product_category</th>\n",
       "    </tr>\n",
       "  </thead>\n",
       "  <tbody>\n",
       "    <tr>\n",
       "      <th>0</th>\n",
       "      <td>0</td>\n",
       "      <td>de_0591095</td>\n",
       "      <td>product_de_0301773</td>\n",
       "      <td>reviewer_de_0787123</td>\n",
       "      <td>1</td>\n",
       "      <td>Das Produkt kam bis heute nicht bei mir an. Ic...</td>\n",
       "      <td>Produkte NICHT geliefert</td>\n",
       "      <td>de</td>\n",
       "      <td>toy</td>\n",
       "    </tr>\n",
       "    <tr>\n",
       "      <th>1</th>\n",
       "      <td>1</td>\n",
       "      <td>de_0987834</td>\n",
       "      <td>product_de_0720578</td>\n",
       "      <td>reviewer_de_0983846</td>\n",
       "      <td>1</td>\n",
       "      <td>Gebrauchte Spinner, teilzerlegt und teilweise ...</td>\n",
       "      <td>Gebrauchtware, ekelhaft</td>\n",
       "      <td>de</td>\n",
       "      <td>toy</td>\n",
       "    </tr>\n",
       "    <tr>\n",
       "      <th>2</th>\n",
       "      <td>2</td>\n",
       "      <td>de_0978206</td>\n",
       "      <td>product_de_0499114</td>\n",
       "      <td>reviewer_de_0238704</td>\n",
       "      <td>1</td>\n",
       "      <td>Bei beiden Bestellungen war jeweils eine Glühb...</td>\n",
       "      <td>Sehr schlechte Qualität</td>\n",
       "      <td>de</td>\n",
       "      <td>home</td>\n",
       "    </tr>\n",
       "    <tr>\n",
       "      <th>3</th>\n",
       "      <td>3</td>\n",
       "      <td>de_0407600</td>\n",
       "      <td>product_de_0648552</td>\n",
       "      <td>reviewer_de_0102048</td>\n",
       "      <td>1</td>\n",
       "      <td>Sofort zurückgeschickt</td>\n",
       "      <td>Der letzte Dreck</td>\n",
       "      <td>de</td>\n",
       "      <td>furniture</td>\n",
       "    </tr>\n",
       "    <tr>\n",
       "      <th>4</th>\n",
       "      <td>4</td>\n",
       "      <td>de_0453469</td>\n",
       "      <td>product_de_0900029</td>\n",
       "      <td>reviewer_de_0862313</td>\n",
       "      <td>1</td>\n",
       "      <td>wie man auf den Fotos erkennen kann ist das Gl...</td>\n",
       "      <td>passform schlecht, Haftung schlecht - Finger weg</td>\n",
       "      <td>de</td>\n",
       "      <td>wireless</td>\n",
       "    </tr>\n",
       "  </tbody>\n",
       "</table>\n",
       "</div>"
      ],
      "text/plain": [
       "   Unnamed: 0   review_id          product_id          reviewer_id  stars  \\\n",
       "0           0  de_0591095  product_de_0301773  reviewer_de_0787123      1   \n",
       "1           1  de_0987834  product_de_0720578  reviewer_de_0983846      1   \n",
       "2           2  de_0978206  product_de_0499114  reviewer_de_0238704      1   \n",
       "3           3  de_0407600  product_de_0648552  reviewer_de_0102048      1   \n",
       "4           4  de_0453469  product_de_0900029  reviewer_de_0862313      1   \n",
       "\n",
       "                                         review_body  \\\n",
       "0  Das Produkt kam bis heute nicht bei mir an. Ic...   \n",
       "1  Gebrauchte Spinner, teilzerlegt und teilweise ...   \n",
       "2  Bei beiden Bestellungen war jeweils eine Glühb...   \n",
       "3                             Sofort zurückgeschickt   \n",
       "4  wie man auf den Fotos erkennen kann ist das Gl...   \n",
       "\n",
       "                                       review_title language product_category  \n",
       "0                          Produkte NICHT geliefert       de              toy  \n",
       "1                           Gebrauchtware, ekelhaft       de              toy  \n",
       "2                           Sehr schlechte Qualität       de             home  \n",
       "3                                  Der letzte Dreck       de        furniture  \n",
       "4  passform schlecht, Haftung schlecht - Finger weg       de         wireless  "
      ]
     },
     "execution_count": 67,
     "metadata": {},
     "output_type": "execute_result"
    }
   ],
   "source": [
    "val_df = pd.read_csv('validation.csv')\n",
    "val_df.head()"
   ]
  },
  {
   "cell_type": "code",
   "execution_count": 68,
   "metadata": {},
   "outputs": [
    {
     "data": {
      "text/plain": [
       "(30000, 9)"
      ]
     },
     "execution_count": 68,
     "metadata": {},
     "output_type": "execute_result"
    }
   ],
   "source": [
    "val_df.shape"
   ]
  },
  {
   "cell_type": "code",
   "execution_count": 70,
   "metadata": {},
   "outputs": [
    {
     "data": {
      "text/html": [
       "<div>\n",
       "<style scoped>\n",
       "    .dataframe tbody tr th:only-of-type {\n",
       "        vertical-align: middle;\n",
       "    }\n",
       "\n",
       "    .dataframe tbody tr th {\n",
       "        vertical-align: top;\n",
       "    }\n",
       "\n",
       "    .dataframe thead th {\n",
       "        text-align: right;\n",
       "    }\n",
       "</style>\n",
       "<table border=\"1\" class=\"dataframe\">\n",
       "  <thead>\n",
       "    <tr style=\"text-align: right;\">\n",
       "      <th></th>\n",
       "      <th>Unnamed: 0</th>\n",
       "      <th>review_id</th>\n",
       "      <th>product_id</th>\n",
       "      <th>reviewer_id</th>\n",
       "      <th>stars</th>\n",
       "      <th>review_body</th>\n",
       "      <th>review_title</th>\n",
       "      <th>language</th>\n",
       "      <th>product_category</th>\n",
       "    </tr>\n",
       "  </thead>\n",
       "  <tbody>\n",
       "    <tr>\n",
       "      <th>10000</th>\n",
       "      <td>10000</td>\n",
       "      <td>es_0417480</td>\n",
       "      <td>product_es_0873923</td>\n",
       "      <td>reviewer_es_0672978</td>\n",
       "      <td>1</td>\n",
       "      <td>Malisimo, muy grande demasiado aparatoso y mal...</td>\n",
       "      <td>Mala compra</td>\n",
       "      <td>es</td>\n",
       "      <td>wireless</td>\n",
       "    </tr>\n",
       "    <tr>\n",
       "      <th>10001</th>\n",
       "      <td>10001</td>\n",
       "      <td>es_0180432</td>\n",
       "      <td>product_es_0713146</td>\n",
       "      <td>reviewer_es_0100858</td>\n",
       "      <td>1</td>\n",
       "      <td>No he recibido el pedido no la devolución</td>\n",
       "      <td>No lo he recibido</td>\n",
       "      <td>es</td>\n",
       "      <td>apparel</td>\n",
       "    </tr>\n",
       "    <tr>\n",
       "      <th>10002</th>\n",
       "      <td>10002</td>\n",
       "      <td>es_0144850</td>\n",
       "      <td>product_es_0356874</td>\n",
       "      <td>reviewer_es_0486447</td>\n",
       "      <td>1</td>\n",
       "      <td>Tengo que buscar otro sistema, este no funcion...</td>\n",
       "      <td>Que no aprieta bien en el manillar</td>\n",
       "      <td>es</td>\n",
       "      <td>sports</td>\n",
       "    </tr>\n",
       "    <tr>\n",
       "      <th>10003</th>\n",
       "      <td>10003</td>\n",
       "      <td>es_0339629</td>\n",
       "      <td>product_es_0939832</td>\n",
       "      <td>reviewer_es_0894703</td>\n",
       "      <td>1</td>\n",
       "      <td>Utilicé las brocas de menor diámetro y se me d...</td>\n",
       "      <td>Brocas de mantequilla</td>\n",
       "      <td>es</td>\n",
       "      <td>home_improvement</td>\n",
       "    </tr>\n",
       "    <tr>\n",
       "      <th>10004</th>\n",
       "      <td>10004</td>\n",
       "      <td>es_0858362</td>\n",
       "      <td>product_es_0489066</td>\n",
       "      <td>reviewer_es_0887663</td>\n",
       "      <td>1</td>\n",
       "      <td>No me gusta su olor a viejo y aspecto malo</td>\n",
       "      <td>No me gusta</td>\n",
       "      <td>es</td>\n",
       "      <td>beauty</td>\n",
       "    </tr>\n",
       "    <tr>\n",
       "      <th>10005</th>\n",
       "      <td>10005</td>\n",
       "      <td>es_0729140</td>\n",
       "      <td>product_es_0286879</td>\n",
       "      <td>reviewer_es_0041024</td>\n",
       "      <td>1</td>\n",
       "      <td>Hola, después de recoger el paquete me ha lleg...</td>\n",
       "      <td>Bolas rotas</td>\n",
       "      <td>es</td>\n",
       "      <td>home</td>\n",
       "    </tr>\n",
       "    <tr>\n",
       "      <th>10006</th>\n",
       "      <td>10006</td>\n",
       "      <td>es_0475220</td>\n",
       "      <td>product_es_0313511</td>\n",
       "      <td>reviewer_es_0821388</td>\n",
       "      <td>1</td>\n",
       "      <td>A parte de no poder elegir color, te envian el...</td>\n",
       "      <td>A parte de no poder elegir color...</td>\n",
       "      <td>es</td>\n",
       "      <td>home</td>\n",
       "    </tr>\n",
       "    <tr>\n",
       "      <th>10007</th>\n",
       "      <td>10007</td>\n",
       "      <td>es_0288584</td>\n",
       "      <td>product_es_0468628</td>\n",
       "      <td>reviewer_es_0429329</td>\n",
       "      <td>1</td>\n",
       "      <td>Muy baja calidad de ahí si precio. Esta compra...</td>\n",
       "      <td>Tapa pantalla</td>\n",
       "      <td>es</td>\n",
       "      <td>wireless</td>\n",
       "    </tr>\n",
       "    <tr>\n",
       "      <th>10008</th>\n",
       "      <td>10008</td>\n",
       "      <td>es_0975526</td>\n",
       "      <td>product_es_0025866</td>\n",
       "      <td>reviewer_es_0294670</td>\n",
       "      <td>1</td>\n",
       "      <td>El producto sale como entregado pero yo no he ...</td>\n",
       "      <td>NO HE RECIBIDO EL PRODUCTO</td>\n",
       "      <td>es</td>\n",
       "      <td>home_improvement</td>\n",
       "    </tr>\n",
       "    <tr>\n",
       "      <th>10009</th>\n",
       "      <td>10009</td>\n",
       "      <td>es_0337413</td>\n",
       "      <td>product_es_0433801</td>\n",
       "      <td>reviewer_es_0475664</td>\n",
       "      <td>1</td>\n",
       "      <td>No lo recomiendo, no se pega y acaba despegandose</td>\n",
       "      <td>Una patata.</td>\n",
       "      <td>es</td>\n",
       "      <td>wireless</td>\n",
       "    </tr>\n",
       "  </tbody>\n",
       "</table>\n",
       "</div>"
      ],
      "text/plain": [
       "       Unnamed: 0   review_id          product_id          reviewer_id  stars  \\\n",
       "10000       10000  es_0417480  product_es_0873923  reviewer_es_0672978      1   \n",
       "10001       10001  es_0180432  product_es_0713146  reviewer_es_0100858      1   \n",
       "10002       10002  es_0144850  product_es_0356874  reviewer_es_0486447      1   \n",
       "10003       10003  es_0339629  product_es_0939832  reviewer_es_0894703      1   \n",
       "10004       10004  es_0858362  product_es_0489066  reviewer_es_0887663      1   \n",
       "10005       10005  es_0729140  product_es_0286879  reviewer_es_0041024      1   \n",
       "10006       10006  es_0475220  product_es_0313511  reviewer_es_0821388      1   \n",
       "10007       10007  es_0288584  product_es_0468628  reviewer_es_0429329      1   \n",
       "10008       10008  es_0975526  product_es_0025866  reviewer_es_0294670      1   \n",
       "10009       10009  es_0337413  product_es_0433801  reviewer_es_0475664      1   \n",
       "\n",
       "                                             review_body  \\\n",
       "10000  Malisimo, muy grande demasiado aparatoso y mal...   \n",
       "10001          No he recibido el pedido no la devolución   \n",
       "10002  Tengo que buscar otro sistema, este no funcion...   \n",
       "10003  Utilicé las brocas de menor diámetro y se me d...   \n",
       "10004         No me gusta su olor a viejo y aspecto malo   \n",
       "10005  Hola, después de recoger el paquete me ha lleg...   \n",
       "10006  A parte de no poder elegir color, te envian el...   \n",
       "10007  Muy baja calidad de ahí si precio. Esta compra...   \n",
       "10008  El producto sale como entregado pero yo no he ...   \n",
       "10009  No lo recomiendo, no se pega y acaba despegandose   \n",
       "\n",
       "                              review_title language  product_category  \n",
       "10000                          Mala compra       es          wireless  \n",
       "10001                    No lo he recibido       es           apparel  \n",
       "10002   Que no aprieta bien en el manillar       es            sports  \n",
       "10003                Brocas de mantequilla       es  home_improvement  \n",
       "10004                          No me gusta       es            beauty  \n",
       "10005                          Bolas rotas       es              home  \n",
       "10006  A parte de no poder elegir color...       es              home  \n",
       "10007                        Tapa pantalla       es          wireless  \n",
       "10008           NO HE RECIBIDO EL PRODUCTO       es  home_improvement  \n",
       "10009                          Una patata.       es          wireless  "
      ]
     },
     "execution_count": 70,
     "metadata": {},
     "output_type": "execute_result"
    }
   ],
   "source": [
    "# Filtrar por idioma español \n",
    "val_df = val_df[val_df['language'] == 'es']\n",
    "val_df.head(10)"
   ]
  },
  {
   "cell_type": "code",
   "execution_count": 71,
   "metadata": {},
   "outputs": [
    {
     "name": "stderr",
     "output_type": "stream",
     "text": [
      "C:\\Users\\Diego\\AppData\\Local\\Temp\\ipykernel_21816\\2998462270.py:28: SettingWithCopyWarning: \n",
      "A value is trying to be set on a copy of a slice from a DataFrame.\n",
      "Try using .loc[row_indexer,col_indexer] = value instead\n",
      "\n",
      "See the caveats in the documentation: https://pandas.pydata.org/pandas-docs/stable/user_guide/indexing.html#returning-a-view-versus-a-copy\n",
      "  val_df['texto_limpio'] = texto_limpio\n"
     ]
    },
    {
     "data": {
      "text/html": [
       "<div>\n",
       "<style scoped>\n",
       "    .dataframe tbody tr th:only-of-type {\n",
       "        vertical-align: middle;\n",
       "    }\n",
       "\n",
       "    .dataframe tbody tr th {\n",
       "        vertical-align: top;\n",
       "    }\n",
       "\n",
       "    .dataframe thead th {\n",
       "        text-align: right;\n",
       "    }\n",
       "</style>\n",
       "<table border=\"1\" class=\"dataframe\">\n",
       "  <thead>\n",
       "    <tr style=\"text-align: right;\">\n",
       "      <th></th>\n",
       "      <th>Unnamed: 0</th>\n",
       "      <th>review_id</th>\n",
       "      <th>product_id</th>\n",
       "      <th>reviewer_id</th>\n",
       "      <th>stars</th>\n",
       "      <th>review_body</th>\n",
       "      <th>review_title</th>\n",
       "      <th>language</th>\n",
       "      <th>product_category</th>\n",
       "      <th>texto_limpio</th>\n",
       "    </tr>\n",
       "  </thead>\n",
       "  <tbody>\n",
       "    <tr>\n",
       "      <th>10000</th>\n",
       "      <td>10000</td>\n",
       "      <td>es_0417480</td>\n",
       "      <td>product_es_0873923</td>\n",
       "      <td>reviewer_es_0672978</td>\n",
       "      <td>1</td>\n",
       "      <td>Malisimo, muy grande demasiado aparatoso y mal...</td>\n",
       "      <td>Mala compra</td>\n",
       "      <td>es</td>\n",
       "      <td>wireless</td>\n",
       "      <td>malisimo muy grande demasiado aparatoso y mal ...</td>\n",
       "    </tr>\n",
       "    <tr>\n",
       "      <th>10001</th>\n",
       "      <td>10001</td>\n",
       "      <td>es_0180432</td>\n",
       "      <td>product_es_0713146</td>\n",
       "      <td>reviewer_es_0100858</td>\n",
       "      <td>1</td>\n",
       "      <td>No he recibido el pedido no la devolución</td>\n",
       "      <td>No lo he recibido</td>\n",
       "      <td>es</td>\n",
       "      <td>apparel</td>\n",
       "      <td>no he recibido el pedido no la devolucion</td>\n",
       "    </tr>\n",
       "    <tr>\n",
       "      <th>10002</th>\n",
       "      <td>10002</td>\n",
       "      <td>es_0144850</td>\n",
       "      <td>product_es_0356874</td>\n",
       "      <td>reviewer_es_0486447</td>\n",
       "      <td>1</td>\n",
       "      <td>Tengo que buscar otro sistema, este no funcion...</td>\n",
       "      <td>Que no aprieta bien en el manillar</td>\n",
       "      <td>es</td>\n",
       "      <td>sports</td>\n",
       "      <td>tengo que buscar otro sistema este no funciona...</td>\n",
       "    </tr>\n",
       "    <tr>\n",
       "      <th>10003</th>\n",
       "      <td>10003</td>\n",
       "      <td>es_0339629</td>\n",
       "      <td>product_es_0939832</td>\n",
       "      <td>reviewer_es_0894703</td>\n",
       "      <td>1</td>\n",
       "      <td>Utilicé las brocas de menor diámetro y se me d...</td>\n",
       "      <td>Brocas de mantequilla</td>\n",
       "      <td>es</td>\n",
       "      <td>home_improvement</td>\n",
       "      <td>utilice las brocas de menor diametro y se me d...</td>\n",
       "    </tr>\n",
       "    <tr>\n",
       "      <th>10004</th>\n",
       "      <td>10004</td>\n",
       "      <td>es_0858362</td>\n",
       "      <td>product_es_0489066</td>\n",
       "      <td>reviewer_es_0887663</td>\n",
       "      <td>1</td>\n",
       "      <td>No me gusta su olor a viejo y aspecto malo</td>\n",
       "      <td>No me gusta</td>\n",
       "      <td>es</td>\n",
       "      <td>beauty</td>\n",
       "      <td>no me gusta su olor a viejo y aspecto malo</td>\n",
       "    </tr>\n",
       "  </tbody>\n",
       "</table>\n",
       "</div>"
      ],
      "text/plain": [
       "       Unnamed: 0   review_id          product_id          reviewer_id  stars  \\\n",
       "10000       10000  es_0417480  product_es_0873923  reviewer_es_0672978      1   \n",
       "10001       10001  es_0180432  product_es_0713146  reviewer_es_0100858      1   \n",
       "10002       10002  es_0144850  product_es_0356874  reviewer_es_0486447      1   \n",
       "10003       10003  es_0339629  product_es_0939832  reviewer_es_0894703      1   \n",
       "10004       10004  es_0858362  product_es_0489066  reviewer_es_0887663      1   \n",
       "\n",
       "                                             review_body  \\\n",
       "10000  Malisimo, muy grande demasiado aparatoso y mal...   \n",
       "10001          No he recibido el pedido no la devolución   \n",
       "10002  Tengo que buscar otro sistema, este no funcion...   \n",
       "10003  Utilicé las brocas de menor diámetro y se me d...   \n",
       "10004         No me gusta su olor a viejo y aspecto malo   \n",
       "\n",
       "                             review_title language  product_category  \\\n",
       "10000                         Mala compra       es          wireless   \n",
       "10001                   No lo he recibido       es           apparel   \n",
       "10002  Que no aprieta bien en el manillar       es            sports   \n",
       "10003               Brocas de mantequilla       es  home_improvement   \n",
       "10004                         No me gusta       es            beauty   \n",
       "\n",
       "                                            texto_limpio  \n",
       "10000  malisimo muy grande demasiado aparatoso y mal ...  \n",
       "10001          no he recibido el pedido no la devolucion  \n",
       "10002  tengo que buscar otro sistema este no funciona...  \n",
       "10003  utilice las brocas de menor diametro y se me d...  \n",
       "10004         no me gusta su olor a viejo y aspecto malo  "
      ]
     },
     "execution_count": 71,
     "metadata": {},
     "output_type": "execute_result"
    }
   ],
   "source": [
    "import re\n",
    "import unidecode\n",
    "import pandas as pd\n",
    "\n",
    "# crear una lista\n",
    "texto_limpio = []\n",
    "\n",
    "# Iterar sobre la columna 'review_body'\n",
    "for desc in val_df['review_body']:\n",
    "    # Convertir a minúscula\n",
    "    desc = desc.lower()\n",
    "    \n",
    "    # Quitar acentos\n",
    "    desc = unidecode.unidecode(desc)\n",
    "    \n",
    "    # Remover puntuación\n",
    "    desc = re.sub('[^a-zA-Z]', ' ', desc)\n",
    "    \n",
    "    # Remover símbolos\n",
    "    desc = re.sub(\"&lt;/?.*?&gt;\", \" \", desc)\n",
    "    \n",
    "    # Remover dígitos y caracteres especiales\n",
    "    desc = re.sub(\"(\\\\d|\\\\W)+\", \" \", desc)\n",
    "    \n",
    "    texto_limpio.append(desc)\n",
    "\n",
    "# Agregar los textos limpios como nueva columna al DataFrame\n",
    "val_df['texto_limpio'] = texto_limpio\n",
    "val_df.head()"
   ]
  },
  {
   "cell_type": "code",
   "execution_count": null,
   "metadata": {},
   "outputs": [],
   "source": []
  },
  {
   "cell_type": "code",
   "execution_count": null,
   "metadata": {},
   "outputs": [],
   "source": []
  },
  {
   "cell_type": "code",
   "execution_count": null,
   "metadata": {},
   "outputs": [],
   "source": []
  },
  {
   "cell_type": "code",
   "execution_count": null,
   "metadata": {},
   "outputs": [],
   "source": []
  },
  {
   "cell_type": "code",
   "execution_count": null,
   "metadata": {},
   "outputs": [],
   "source": []
  },
  {
   "cell_type": "code",
   "execution_count": null,
   "metadata": {},
   "outputs": [],
   "source": []
  },
  {
   "cell_type": "code",
   "execution_count": null,
   "metadata": {},
   "outputs": [],
   "source": []
  },
  {
   "cell_type": "code",
   "execution_count": null,
   "metadata": {},
   "outputs": [],
   "source": []
  },
  {
   "cell_type": "code",
   "execution_count": null,
   "metadata": {},
   "outputs": [],
   "source": []
  },
  {
   "cell_type": "markdown",
   "metadata": {
    "id": "sKp_bJ53Vta3"
   },
   "source": [
    "# Reto semanal\n",
    "Seguramente notaste que no se aplicó PCA a todas las palabras, porque de hacerlo, habría una sobresaturación de información. Como reto de la semana, de las palabras `'precio'` y `'calidad'` indica con un gráfico las palabras más parecidas y muestra en un plano de dos dimensiones su ubicación.\n",
    "\n",
    "Recuerda utilizar **PCA** u otro método, así como que darle estilo a tus gráficos, pues esto no solo hace que se vean mejor, sino que transmiten mejor tus ideas.\n",
    "\n",
    "Lo importante es compartir esta información de manera acccesible para comprender la estructura matemática de estas funciones."
   ]
  },
  {
   "cell_type": "markdown",
   "metadata": {
    "id": "195-wRHIjHno"
   },
   "source": [
    "# Mis próximos pasos\n",
    "Recuerda practicar de manera constante todo lo aprendido en este camino de aprendizaje. Anota las dudas que surjan y compártelas con tu *coach* el día de la clase.\n",
    "\n",
    "¡Vas por un excelente camino!"
   ]
  },
  {
   "cell_type": "code",
   "execution_count": null,
   "metadata": {},
   "outputs": [],
   "source": []
  },
  {
   "cell_type": "code",
   "execution_count": null,
   "metadata": {},
   "outputs": [],
   "source": []
  }
 ],
 "metadata": {
  "colab": {
   "provenance": [],
   "toc_visible": true
  },
  "kernelspec": {
   "display_name": "Python 3 (ipykernel)",
   "language": "python",
   "name": "python3"
  },
  "language_info": {
   "codemirror_mode": {
    "name": "ipython",
    "version": 3
   },
   "file_extension": ".py",
   "mimetype": "text/x-python",
   "name": "python",
   "nbconvert_exporter": "python",
   "pygments_lexer": "ipython3",
   "version": "3.11.5"
  },
  "widgets": {
   "application/vnd.jupyter.widget-state+json": {
    "04c59090bb1d466788974c77f8b7a49f": {
     "model_module": "@jupyter-widgets/base",
     "model_module_version": "1.2.0",
     "model_name": "LayoutModel",
     "state": {
      "_model_module": "@jupyter-widgets/base",
      "_model_module_version": "1.2.0",
      "_model_name": "LayoutModel",
      "_view_count": null,
      "_view_module": "@jupyter-widgets/base",
      "_view_module_version": "1.2.0",
      "_view_name": "LayoutView",
      "align_content": null,
      "align_items": null,
      "align_self": null,
      "border": null,
      "bottom": null,
      "display": null,
      "flex": null,
      "flex_flow": null,
      "grid_area": null,
      "grid_auto_columns": null,
      "grid_auto_flow": null,
      "grid_auto_rows": null,
      "grid_column": null,
      "grid_gap": null,
      "grid_row": null,
      "grid_template_areas": null,
      "grid_template_columns": null,
      "grid_template_rows": null,
      "height": null,
      "justify_content": null,
      "justify_items": null,
      "left": null,
      "margin": null,
      "max_height": null,
      "max_width": null,
      "min_height": null,
      "min_width": null,
      "object_fit": null,
      "object_position": null,
      "order": null,
      "overflow": null,
      "overflow_x": null,
      "overflow_y": null,
      "padding": null,
      "right": null,
      "top": null,
      "visibility": null,
      "width": null
     }
    },
    "05ec0690a5b841df98fa12fd97f0a9dd": {
     "model_module": "@jupyter-widgets/controls",
     "model_module_version": "1.5.0",
     "model_name": "ProgressStyleModel",
     "state": {
      "_model_module": "@jupyter-widgets/controls",
      "_model_module_version": "1.5.0",
      "_model_name": "ProgressStyleModel",
      "_view_count": null,
      "_view_module": "@jupyter-widgets/base",
      "_view_module_version": "1.2.0",
      "_view_name": "StyleView",
      "bar_color": null,
      "description_width": ""
     }
    },
    "06b70bdb3fd84c35ae76dc59dead04c8": {
     "model_module": "@jupyter-widgets/controls",
     "model_module_version": "1.5.0",
     "model_name": "DescriptionStyleModel",
     "state": {
      "_model_module": "@jupyter-widgets/controls",
      "_model_module_version": "1.5.0",
      "_model_name": "DescriptionStyleModel",
      "_view_count": null,
      "_view_module": "@jupyter-widgets/base",
      "_view_module_version": "1.2.0",
      "_view_name": "StyleView",
      "description_width": ""
     }
    },
    "06e5588398c94ed6a81066d0c7284224": {
     "model_module": "@jupyter-widgets/base",
     "model_module_version": "1.2.0",
     "model_name": "LayoutModel",
     "state": {
      "_model_module": "@jupyter-widgets/base",
      "_model_module_version": "1.2.0",
      "_model_name": "LayoutModel",
      "_view_count": null,
      "_view_module": "@jupyter-widgets/base",
      "_view_module_version": "1.2.0",
      "_view_name": "LayoutView",
      "align_content": null,
      "align_items": null,
      "align_self": null,
      "border": null,
      "bottom": null,
      "display": null,
      "flex": null,
      "flex_flow": null,
      "grid_area": null,
      "grid_auto_columns": null,
      "grid_auto_flow": null,
      "grid_auto_rows": null,
      "grid_column": null,
      "grid_gap": null,
      "grid_row": null,
      "grid_template_areas": null,
      "grid_template_columns": null,
      "grid_template_rows": null,
      "height": null,
      "justify_content": null,
      "justify_items": null,
      "left": null,
      "margin": null,
      "max_height": null,
      "max_width": null,
      "min_height": null,
      "min_width": null,
      "object_fit": null,
      "object_position": null,
      "order": null,
      "overflow": null,
      "overflow_x": null,
      "overflow_y": null,
      "padding": null,
      "right": null,
      "top": null,
      "visibility": null,
      "width": null
     }
    },
    "08dedec1b349433b8f601a6228080e9e": {
     "model_module": "@jupyter-widgets/controls",
     "model_module_version": "1.5.0",
     "model_name": "HBoxModel",
     "state": {
      "_dom_classes": [],
      "_model_module": "@jupyter-widgets/controls",
      "_model_module_version": "1.5.0",
      "_model_name": "HBoxModel",
      "_view_count": null,
      "_view_module": "@jupyter-widgets/controls",
      "_view_module_version": "1.5.0",
      "_view_name": "HBoxView",
      "box_style": "",
      "children": [
       "IPY_MODEL_61b4d0ecd0804ce1b713df992f01f7bc",
       "IPY_MODEL_2ee6d37c4a174c01a0eb8d5022bfd6b1",
       "IPY_MODEL_7230425c7bfa4003b71782f542bf0fdd"
      ],
      "layout": "IPY_MODEL_04c59090bb1d466788974c77f8b7a49f"
     }
    },
    "0c5cd2a4f95a4a818987b847fa14b010": {
     "model_module": "@jupyter-widgets/base",
     "model_module_version": "1.2.0",
     "model_name": "LayoutModel",
     "state": {
      "_model_module": "@jupyter-widgets/base",
      "_model_module_version": "1.2.0",
      "_model_name": "LayoutModel",
      "_view_count": null,
      "_view_module": "@jupyter-widgets/base",
      "_view_module_version": "1.2.0",
      "_view_name": "LayoutView",
      "align_content": null,
      "align_items": null,
      "align_self": null,
      "border": null,
      "bottom": null,
      "display": null,
      "flex": null,
      "flex_flow": null,
      "grid_area": null,
      "grid_auto_columns": null,
      "grid_auto_flow": null,
      "grid_auto_rows": null,
      "grid_column": null,
      "grid_gap": null,
      "grid_row": null,
      "grid_template_areas": null,
      "grid_template_columns": null,
      "grid_template_rows": null,
      "height": null,
      "justify_content": null,
      "justify_items": null,
      "left": null,
      "margin": null,
      "max_height": null,
      "max_width": null,
      "min_height": null,
      "min_width": null,
      "object_fit": null,
      "object_position": null,
      "order": null,
      "overflow": null,
      "overflow_x": null,
      "overflow_y": null,
      "padding": null,
      "right": null,
      "top": null,
      "visibility": null,
      "width": null
     }
    },
    "1292da8a82aa4e728c531a5c2c2f0eb0": {
     "model_module": "@jupyter-widgets/base",
     "model_module_version": "1.2.0",
     "model_name": "LayoutModel",
     "state": {
      "_model_module": "@jupyter-widgets/base",
      "_model_module_version": "1.2.0",
      "_model_name": "LayoutModel",
      "_view_count": null,
      "_view_module": "@jupyter-widgets/base",
      "_view_module_version": "1.2.0",
      "_view_name": "LayoutView",
      "align_content": null,
      "align_items": null,
      "align_self": null,
      "border": null,
      "bottom": null,
      "display": null,
      "flex": null,
      "flex_flow": null,
      "grid_area": null,
      "grid_auto_columns": null,
      "grid_auto_flow": null,
      "grid_auto_rows": null,
      "grid_column": null,
      "grid_gap": null,
      "grid_row": null,
      "grid_template_areas": null,
      "grid_template_columns": null,
      "grid_template_rows": null,
      "height": null,
      "justify_content": null,
      "justify_items": null,
      "left": null,
      "margin": null,
      "max_height": null,
      "max_width": null,
      "min_height": null,
      "min_width": null,
      "object_fit": null,
      "object_position": null,
      "order": null,
      "overflow": null,
      "overflow_x": null,
      "overflow_y": null,
      "padding": null,
      "right": null,
      "top": null,
      "visibility": null,
      "width": null
     }
    },
    "1426c530dec747ada61d53e6bfc3eb64": {
     "model_module": "@jupyter-widgets/base",
     "model_module_version": "1.2.0",
     "model_name": "LayoutModel",
     "state": {
      "_model_module": "@jupyter-widgets/base",
      "_model_module_version": "1.2.0",
      "_model_name": "LayoutModel",
      "_view_count": null,
      "_view_module": "@jupyter-widgets/base",
      "_view_module_version": "1.2.0",
      "_view_name": "LayoutView",
      "align_content": null,
      "align_items": null,
      "align_self": null,
      "border": null,
      "bottom": null,
      "display": null,
      "flex": null,
      "flex_flow": null,
      "grid_area": null,
      "grid_auto_columns": null,
      "grid_auto_flow": null,
      "grid_auto_rows": null,
      "grid_column": null,
      "grid_gap": null,
      "grid_row": null,
      "grid_template_areas": null,
      "grid_template_columns": null,
      "grid_template_rows": null,
      "height": null,
      "justify_content": null,
      "justify_items": null,
      "left": null,
      "margin": null,
      "max_height": null,
      "max_width": null,
      "min_height": null,
      "min_width": null,
      "object_fit": null,
      "object_position": null,
      "order": null,
      "overflow": null,
      "overflow_x": null,
      "overflow_y": null,
      "padding": null,
      "right": null,
      "top": null,
      "visibility": null,
      "width": null
     }
    },
    "1507e066c5354a4aa21e8ddc78720ea0": {
     "model_module": "@jupyter-widgets/controls",
     "model_module_version": "1.5.0",
     "model_name": "ProgressStyleModel",
     "state": {
      "_model_module": "@jupyter-widgets/controls",
      "_model_module_version": "1.5.0",
      "_model_name": "ProgressStyleModel",
      "_view_count": null,
      "_view_module": "@jupyter-widgets/base",
      "_view_module_version": "1.2.0",
      "_view_name": "StyleView",
      "bar_color": null,
      "description_width": ""
     }
    },
    "1696c7d7521d47779231d9e4023b59fb": {
     "model_module": "@jupyter-widgets/controls",
     "model_module_version": "1.5.0",
     "model_name": "HTMLModel",
     "state": {
      "_dom_classes": [],
      "_model_module": "@jupyter-widgets/controls",
      "_model_module_version": "1.5.0",
      "_model_name": "HTMLModel",
      "_view_count": null,
      "_view_module": "@jupyter-widgets/controls",
      "_view_module_version": "1.5.0",
      "_view_name": "HTMLView",
      "description": "",
      "description_tooltip": null,
      "layout": "IPY_MODEL_ef550b2e30c5482285d282c9522faa0f",
      "placeholder": "​",
      "style": "IPY_MODEL_a0d4f2b1409e497ca4cbfbe11941c057",
      "value": "Generating train split: 100%"
     }
    },
    "172452672cc14eb9bdbdfb33968008d6": {
     "model_module": "@jupyter-widgets/controls",
     "model_module_version": "1.5.0",
     "model_name": "HTMLModel",
     "state": {
      "_dom_classes": [],
      "_model_module": "@jupyter-widgets/controls",
      "_model_module_version": "1.5.0",
      "_model_name": "HTMLModel",
      "_view_count": null,
      "_view_module": "@jupyter-widgets/controls",
      "_view_module_version": "1.5.0",
      "_view_name": "HTMLView",
      "description": "",
      "description_tooltip": null,
      "layout": "IPY_MODEL_fc8fc85e891f4d05ae9b9f9f89412133",
      "placeholder": "​",
      "style": "IPY_MODEL_f59f182ad22041c3bed51f3a75aa9869",
      "value": "Downloading builder script: 100%"
     }
    },
    "187c8e307f324eb898ef2bccdf3ef900": {
     "model_module": "@jupyter-widgets/controls",
     "model_module_version": "1.5.0",
     "model_name": "ProgressStyleModel",
     "state": {
      "_model_module": "@jupyter-widgets/controls",
      "_model_module_version": "1.5.0",
      "_model_name": "ProgressStyleModel",
      "_view_count": null,
      "_view_module": "@jupyter-widgets/base",
      "_view_module_version": "1.2.0",
      "_view_name": "StyleView",
      "bar_color": null,
      "description_width": ""
     }
    },
    "1aee6cd5ac61431f928faa03735e794a": {
     "model_module": "@jupyter-widgets/controls",
     "model_module_version": "1.5.0",
     "model_name": "DescriptionStyleModel",
     "state": {
      "_model_module": "@jupyter-widgets/controls",
      "_model_module_version": "1.5.0",
      "_model_name": "DescriptionStyleModel",
      "_view_count": null,
      "_view_module": "@jupyter-widgets/base",
      "_view_module_version": "1.2.0",
      "_view_name": "StyleView",
      "description_width": ""
     }
    },
    "1c100a4f3e894525b8e66ebc8ad57c37": {
     "model_module": "@jupyter-widgets/controls",
     "model_module_version": "1.5.0",
     "model_name": "ProgressStyleModel",
     "state": {
      "_model_module": "@jupyter-widgets/controls",
      "_model_module_version": "1.5.0",
      "_model_name": "ProgressStyleModel",
      "_view_count": null,
      "_view_module": "@jupyter-widgets/base",
      "_view_module_version": "1.2.0",
      "_view_name": "StyleView",
      "bar_color": null,
      "description_width": ""
     }
    },
    "1cc1384fb7df45c29cbe710c56a5ff92": {
     "model_module": "@jupyter-widgets/controls",
     "model_module_version": "1.5.0",
     "model_name": "DescriptionStyleModel",
     "state": {
      "_model_module": "@jupyter-widgets/controls",
      "_model_module_version": "1.5.0",
      "_model_name": "DescriptionStyleModel",
      "_view_count": null,
      "_view_module": "@jupyter-widgets/base",
      "_view_module_version": "1.2.0",
      "_view_name": "StyleView",
      "description_width": ""
     }
    },
    "1da0c0fad3b34b56b59ecbbd00daa736": {
     "model_module": "@jupyter-widgets/base",
     "model_module_version": "1.2.0",
     "model_name": "LayoutModel",
     "state": {
      "_model_module": "@jupyter-widgets/base",
      "_model_module_version": "1.2.0",
      "_model_name": "LayoutModel",
      "_view_count": null,
      "_view_module": "@jupyter-widgets/base",
      "_view_module_version": "1.2.0",
      "_view_name": "LayoutView",
      "align_content": null,
      "align_items": null,
      "align_self": null,
      "border": null,
      "bottom": null,
      "display": null,
      "flex": null,
      "flex_flow": null,
      "grid_area": null,
      "grid_auto_columns": null,
      "grid_auto_flow": null,
      "grid_auto_rows": null,
      "grid_column": null,
      "grid_gap": null,
      "grid_row": null,
      "grid_template_areas": null,
      "grid_template_columns": null,
      "grid_template_rows": null,
      "height": null,
      "justify_content": null,
      "justify_items": null,
      "left": null,
      "margin": null,
      "max_height": null,
      "max_width": null,
      "min_height": null,
      "min_width": null,
      "object_fit": null,
      "object_position": null,
      "order": null,
      "overflow": null,
      "overflow_x": null,
      "overflow_y": null,
      "padding": null,
      "right": null,
      "top": null,
      "visibility": null,
      "width": null
     }
    },
    "1dabf09c30324b9fbdf896669da99511": {
     "model_module": "@jupyter-widgets/controls",
     "model_module_version": "1.5.0",
     "model_name": "DescriptionStyleModel",
     "state": {
      "_model_module": "@jupyter-widgets/controls",
      "_model_module_version": "1.5.0",
      "_model_name": "DescriptionStyleModel",
      "_view_count": null,
      "_view_module": "@jupyter-widgets/base",
      "_view_module_version": "1.2.0",
      "_view_name": "StyleView",
      "description_width": ""
     }
    },
    "1ed851eb2f9c4c779bdbcc12e7519bf0": {
     "model_module": "@jupyter-widgets/controls",
     "model_module_version": "1.5.0",
     "model_name": "HBoxModel",
     "state": {
      "_dom_classes": [],
      "_model_module": "@jupyter-widgets/controls",
      "_model_module_version": "1.5.0",
      "_model_name": "HBoxModel",
      "_view_count": null,
      "_view_module": "@jupyter-widgets/controls",
      "_view_module_version": "1.5.0",
      "_view_name": "HBoxView",
      "box_style": "",
      "children": [
       "IPY_MODEL_b86f6f4c96b844e89b81f07e26f3239d",
       "IPY_MODEL_75421a555eca4e8ab004b9a66bc9ad0d",
       "IPY_MODEL_2691992e15674e3e96e4fc73e33d8209"
      ],
      "layout": "IPY_MODEL_ce667df141a24d0a96892cfee8b79d27"
     }
    },
    "1f2368ba0f4947b2b6a3f18c3415a022": {
     "model_module": "@jupyter-widgets/controls",
     "model_module_version": "1.5.0",
     "model_name": "DescriptionStyleModel",
     "state": {
      "_model_module": "@jupyter-widgets/controls",
      "_model_module_version": "1.5.0",
      "_model_name": "DescriptionStyleModel",
      "_view_count": null,
      "_view_module": "@jupyter-widgets/base",
      "_view_module_version": "1.2.0",
      "_view_name": "StyleView",
      "description_width": ""
     }
    },
    "21cb5fc3627044eaa65329ea75462c46": {
     "model_module": "@jupyter-widgets/controls",
     "model_module_version": "1.5.0",
     "model_name": "HTMLModel",
     "state": {
      "_dom_classes": [],
      "_model_module": "@jupyter-widgets/controls",
      "_model_module_version": "1.5.0",
      "_model_name": "HTMLModel",
      "_view_count": null,
      "_view_module": "@jupyter-widgets/controls",
      "_view_module_version": "1.5.0",
      "_view_name": "HTMLView",
      "description": "",
      "description_tooltip": null,
      "layout": "IPY_MODEL_72d600dff5eb4ed4bafa77618db2612b",
      "placeholder": "​",
      "style": "IPY_MODEL_43ecc676792e40d4bdf566ca80da4977",
      "value": " 5000/5000 [00:00&lt;00:00, 6137.99 examples/s]"
     }
    },
    "267b8130e80d4cddaec7f8d883b037bc": {
     "model_module": "@jupyter-widgets/base",
     "model_module_version": "1.2.0",
     "model_name": "LayoutModel",
     "state": {
      "_model_module": "@jupyter-widgets/base",
      "_model_module_version": "1.2.0",
      "_model_name": "LayoutModel",
      "_view_count": null,
      "_view_module": "@jupyter-widgets/base",
      "_view_module_version": "1.2.0",
      "_view_name": "LayoutView",
      "align_content": null,
      "align_items": null,
      "align_self": null,
      "border": null,
      "bottom": null,
      "display": null,
      "flex": null,
      "flex_flow": null,
      "grid_area": null,
      "grid_auto_columns": null,
      "grid_auto_flow": null,
      "grid_auto_rows": null,
      "grid_column": null,
      "grid_gap": null,
      "grid_row": null,
      "grid_template_areas": null,
      "grid_template_columns": null,
      "grid_template_rows": null,
      "height": null,
      "justify_content": null,
      "justify_items": null,
      "left": null,
      "margin": null,
      "max_height": null,
      "max_width": null,
      "min_height": null,
      "min_width": null,
      "object_fit": null,
      "object_position": null,
      "order": null,
      "overflow": null,
      "overflow_x": null,
      "overflow_y": null,
      "padding": null,
      "right": null,
      "top": null,
      "visibility": null,
      "width": null
     }
    },
    "2691992e15674e3e96e4fc73e33d8209": {
     "model_module": "@jupyter-widgets/controls",
     "model_module_version": "1.5.0",
     "model_name": "HTMLModel",
     "state": {
      "_dom_classes": [],
      "_model_module": "@jupyter-widgets/controls",
      "_model_module_version": "1.5.0",
      "_model_name": "HTMLModel",
      "_view_count": null,
      "_view_module": "@jupyter-widgets/controls",
      "_view_module_version": "1.5.0",
      "_view_name": "HTMLView",
      "description": "",
      "description_tooltip": null,
      "layout": "IPY_MODEL_409c7bcc74494f489253ff71fdb70473",
      "placeholder": "​",
      "style": "IPY_MODEL_e3e5071199e34abda8af7fa79571dc37",
      "value": " 1/1 [00:00&lt;00:00, 12.41it/s]"
     }
    },
    "2ee6d37c4a174c01a0eb8d5022bfd6b1": {
     "model_module": "@jupyter-widgets/controls",
     "model_module_version": "1.5.0",
     "model_name": "FloatProgressModel",
     "state": {
      "_dom_classes": [],
      "_model_module": "@jupyter-widgets/controls",
      "_model_module_version": "1.5.0",
      "_model_name": "FloatProgressModel",
      "_view_count": null,
      "_view_module": "@jupyter-widgets/controls",
      "_view_module_version": "1.5.0",
      "_view_name": "ProgressView",
      "bar_style": "success",
      "description": "",
      "description_tooltip": null,
      "layout": "IPY_MODEL_b4214841bdb74b0eb93ea6cc2f9b45d2",
      "max": 1,
      "min": 0,
      "orientation": "horizontal",
      "style": "IPY_MODEL_3f4e24561106420b9053048a595aa612",
      "value": 1
     }
    },
    "3606f226a313442c85aa38ae44abe06d": {
     "model_module": "@jupyter-widgets/base",
     "model_module_version": "1.2.0",
     "model_name": "LayoutModel",
     "state": {
      "_model_module": "@jupyter-widgets/base",
      "_model_module_version": "1.2.0",
      "_model_name": "LayoutModel",
      "_view_count": null,
      "_view_module": "@jupyter-widgets/base",
      "_view_module_version": "1.2.0",
      "_view_name": "LayoutView",
      "align_content": null,
      "align_items": null,
      "align_self": null,
      "border": null,
      "bottom": null,
      "display": null,
      "flex": null,
      "flex_flow": null,
      "grid_area": null,
      "grid_auto_columns": null,
      "grid_auto_flow": null,
      "grid_auto_rows": null,
      "grid_column": null,
      "grid_gap": null,
      "grid_row": null,
      "grid_template_areas": null,
      "grid_template_columns": null,
      "grid_template_rows": null,
      "height": null,
      "justify_content": null,
      "justify_items": null,
      "left": null,
      "margin": null,
      "max_height": null,
      "max_width": null,
      "min_height": null,
      "min_width": null,
      "object_fit": null,
      "object_position": null,
      "order": null,
      "overflow": null,
      "overflow_x": null,
      "overflow_y": null,
      "padding": null,
      "right": null,
      "top": null,
      "visibility": null,
      "width": null
     }
    },
    "369b9ecd3a4a4df88f0fc2cf019b009d": {
     "model_module": "@jupyter-widgets/controls",
     "model_module_version": "1.5.0",
     "model_name": "DescriptionStyleModel",
     "state": {
      "_model_module": "@jupyter-widgets/controls",
      "_model_module_version": "1.5.0",
      "_model_name": "DescriptionStyleModel",
      "_view_count": null,
      "_view_module": "@jupyter-widgets/base",
      "_view_module_version": "1.2.0",
      "_view_name": "StyleView",
      "description_width": ""
     }
    },
    "374d1df66b52453eae2d712074005b8b": {
     "model_module": "@jupyter-widgets/base",
     "model_module_version": "1.2.0",
     "model_name": "LayoutModel",
     "state": {
      "_model_module": "@jupyter-widgets/base",
      "_model_module_version": "1.2.0",
      "_model_name": "LayoutModel",
      "_view_count": null,
      "_view_module": "@jupyter-widgets/base",
      "_view_module_version": "1.2.0",
      "_view_name": "LayoutView",
      "align_content": null,
      "align_items": null,
      "align_self": null,
      "border": null,
      "bottom": null,
      "display": null,
      "flex": null,
      "flex_flow": null,
      "grid_area": null,
      "grid_auto_columns": null,
      "grid_auto_flow": null,
      "grid_auto_rows": null,
      "grid_column": null,
      "grid_gap": null,
      "grid_row": null,
      "grid_template_areas": null,
      "grid_template_columns": null,
      "grid_template_rows": null,
      "height": null,
      "justify_content": null,
      "justify_items": null,
      "left": null,
      "margin": null,
      "max_height": null,
      "max_width": null,
      "min_height": null,
      "min_width": null,
      "object_fit": null,
      "object_position": null,
      "order": null,
      "overflow": null,
      "overflow_x": null,
      "overflow_y": null,
      "padding": null,
      "right": null,
      "top": null,
      "visibility": null,
      "width": null
     }
    },
    "382e7a3ce20e47d49cb298248f81e9cc": {
     "model_module": "@jupyter-widgets/controls",
     "model_module_version": "1.5.0",
     "model_name": "HBoxModel",
     "state": {
      "_dom_classes": [],
      "_model_module": "@jupyter-widgets/controls",
      "_model_module_version": "1.5.0",
      "_model_name": "HBoxModel",
      "_view_count": null,
      "_view_module": "@jupyter-widgets/controls",
      "_view_module_version": "1.5.0",
      "_view_name": "HBoxView",
      "box_style": "",
      "children": [
       "IPY_MODEL_172452672cc14eb9bdbdfb33968008d6",
       "IPY_MODEL_e0e297ddd570434aa9733f5f1f1ceb66",
       "IPY_MODEL_9a3af3d6374148bb8bad54851f834e7e"
      ],
      "layout": "IPY_MODEL_374d1df66b52453eae2d712074005b8b"
     }
    },
    "3a21879d94a245e6a7af67f3011ac5cd": {
     "model_module": "@jupyter-widgets/base",
     "model_module_version": "1.2.0",
     "model_name": "LayoutModel",
     "state": {
      "_model_module": "@jupyter-widgets/base",
      "_model_module_version": "1.2.0",
      "_model_name": "LayoutModel",
      "_view_count": null,
      "_view_module": "@jupyter-widgets/base",
      "_view_module_version": "1.2.0",
      "_view_name": "LayoutView",
      "align_content": null,
      "align_items": null,
      "align_self": null,
      "border": null,
      "bottom": null,
      "display": null,
      "flex": null,
      "flex_flow": null,
      "grid_area": null,
      "grid_auto_columns": null,
      "grid_auto_flow": null,
      "grid_auto_rows": null,
      "grid_column": null,
      "grid_gap": null,
      "grid_row": null,
      "grid_template_areas": null,
      "grid_template_columns": null,
      "grid_template_rows": null,
      "height": null,
      "justify_content": null,
      "justify_items": null,
      "left": null,
      "margin": null,
      "max_height": null,
      "max_width": null,
      "min_height": null,
      "min_width": null,
      "object_fit": null,
      "object_position": null,
      "order": null,
      "overflow": null,
      "overflow_x": null,
      "overflow_y": null,
      "padding": null,
      "right": null,
      "top": null,
      "visibility": null,
      "width": null
     }
    },
    "3a8a5206e28e47cda83460e470647daf": {
     "model_module": "@jupyter-widgets/controls",
     "model_module_version": "1.5.0",
     "model_name": "HTMLModel",
     "state": {
      "_dom_classes": [],
      "_model_module": "@jupyter-widgets/controls",
      "_model_module_version": "1.5.0",
      "_model_name": "HTMLModel",
      "_view_count": null,
      "_view_module": "@jupyter-widgets/controls",
      "_view_module_version": "1.5.0",
      "_view_name": "HTMLView",
      "description": "",
      "description_tooltip": null,
      "layout": "IPY_MODEL_73fb656a13854849a12e1b233a40bda5",
      "placeholder": "​",
      "style": "IPY_MODEL_1aee6cd5ac61431f928faa03735e794a",
      "value": "Downloading data files: 100%"
     }
    },
    "3b8af8f4c05d4b7f87892634673652b1": {
     "model_module": "@jupyter-widgets/base",
     "model_module_version": "1.2.0",
     "model_name": "LayoutModel",
     "state": {
      "_model_module": "@jupyter-widgets/base",
      "_model_module_version": "1.2.0",
      "_model_name": "LayoutModel",
      "_view_count": null,
      "_view_module": "@jupyter-widgets/base",
      "_view_module_version": "1.2.0",
      "_view_name": "LayoutView",
      "align_content": null,
      "align_items": null,
      "align_self": null,
      "border": null,
      "bottom": null,
      "display": null,
      "flex": null,
      "flex_flow": null,
      "grid_area": null,
      "grid_auto_columns": null,
      "grid_auto_flow": null,
      "grid_auto_rows": null,
      "grid_column": null,
      "grid_gap": null,
      "grid_row": null,
      "grid_template_areas": null,
      "grid_template_columns": null,
      "grid_template_rows": null,
      "height": null,
      "justify_content": null,
      "justify_items": null,
      "left": null,
      "margin": null,
      "max_height": null,
      "max_width": null,
      "min_height": null,
      "min_width": null,
      "object_fit": null,
      "object_position": null,
      "order": null,
      "overflow": null,
      "overflow_x": null,
      "overflow_y": null,
      "padding": null,
      "right": null,
      "top": null,
      "visibility": null,
      "width": null
     }
    },
    "3b969872013444dab274c3f17f9d15dd": {
     "model_module": "@jupyter-widgets/controls",
     "model_module_version": "1.5.0",
     "model_name": "HBoxModel",
     "state": {
      "_dom_classes": [],
      "_model_module": "@jupyter-widgets/controls",
      "_model_module_version": "1.5.0",
      "_model_name": "HBoxModel",
      "_view_count": null,
      "_view_module": "@jupyter-widgets/controls",
      "_view_module_version": "1.5.0",
      "_view_name": "HBoxView",
      "box_style": "",
      "children": [
       "IPY_MODEL_96b2a6715cf2436b83c9db37cab103f1",
       "IPY_MODEL_e368944ae304420cafca94198cd86bf1",
       "IPY_MODEL_e0dc0ab4618f473c9be223ea65682733"
      ],
      "layout": "IPY_MODEL_3a21879d94a245e6a7af67f3011ac5cd"
     }
    },
    "3f0598c892274564ae28501626336042": {
     "model_module": "@jupyter-widgets/controls",
     "model_module_version": "1.5.0",
     "model_name": "DescriptionStyleModel",
     "state": {
      "_model_module": "@jupyter-widgets/controls",
      "_model_module_version": "1.5.0",
      "_model_name": "DescriptionStyleModel",
      "_view_count": null,
      "_view_module": "@jupyter-widgets/base",
      "_view_module_version": "1.2.0",
      "_view_name": "StyleView",
      "description_width": ""
     }
    },
    "3f4e24561106420b9053048a595aa612": {
     "model_module": "@jupyter-widgets/controls",
     "model_module_version": "1.5.0",
     "model_name": "ProgressStyleModel",
     "state": {
      "_model_module": "@jupyter-widgets/controls",
      "_model_module_version": "1.5.0",
      "_model_name": "ProgressStyleModel",
      "_view_count": null,
      "_view_module": "@jupyter-widgets/base",
      "_view_module_version": "1.2.0",
      "_view_name": "StyleView",
      "bar_color": null,
      "description_width": ""
     }
    },
    "409c7bcc74494f489253ff71fdb70473": {
     "model_module": "@jupyter-widgets/base",
     "model_module_version": "1.2.0",
     "model_name": "LayoutModel",
     "state": {
      "_model_module": "@jupyter-widgets/base",
      "_model_module_version": "1.2.0",
      "_model_name": "LayoutModel",
      "_view_count": null,
      "_view_module": "@jupyter-widgets/base",
      "_view_module_version": "1.2.0",
      "_view_name": "LayoutView",
      "align_content": null,
      "align_items": null,
      "align_self": null,
      "border": null,
      "bottom": null,
      "display": null,
      "flex": null,
      "flex_flow": null,
      "grid_area": null,
      "grid_auto_columns": null,
      "grid_auto_flow": null,
      "grid_auto_rows": null,
      "grid_column": null,
      "grid_gap": null,
      "grid_row": null,
      "grid_template_areas": null,
      "grid_template_columns": null,
      "grid_template_rows": null,
      "height": null,
      "justify_content": null,
      "justify_items": null,
      "left": null,
      "margin": null,
      "max_height": null,
      "max_width": null,
      "min_height": null,
      "min_width": null,
      "object_fit": null,
      "object_position": null,
      "order": null,
      "overflow": null,
      "overflow_x": null,
      "overflow_y": null,
      "padding": null,
      "right": null,
      "top": null,
      "visibility": null,
      "width": null
     }
    },
    "42efacb2bd984d2f9fa4b6a4760aeb5b": {
     "model_module": "@jupyter-widgets/controls",
     "model_module_version": "1.5.0",
     "model_name": "DescriptionStyleModel",
     "state": {
      "_model_module": "@jupyter-widgets/controls",
      "_model_module_version": "1.5.0",
      "_model_name": "DescriptionStyleModel",
      "_view_count": null,
      "_view_module": "@jupyter-widgets/base",
      "_view_module_version": "1.2.0",
      "_view_name": "StyleView",
      "description_width": ""
     }
    },
    "43ecc676792e40d4bdf566ca80da4977": {
     "model_module": "@jupyter-widgets/controls",
     "model_module_version": "1.5.0",
     "model_name": "DescriptionStyleModel",
     "state": {
      "_model_module": "@jupyter-widgets/controls",
      "_model_module_version": "1.5.0",
      "_model_name": "DescriptionStyleModel",
      "_view_count": null,
      "_view_module": "@jupyter-widgets/base",
      "_view_module_version": "1.2.0",
      "_view_name": "StyleView",
      "description_width": ""
     }
    },
    "44623f9d685b41acb4612bc818a6beec": {
     "model_module": "@jupyter-widgets/controls",
     "model_module_version": "1.5.0",
     "model_name": "DescriptionStyleModel",
     "state": {
      "_model_module": "@jupyter-widgets/controls",
      "_model_module_version": "1.5.0",
      "_model_name": "DescriptionStyleModel",
      "_view_count": null,
      "_view_module": "@jupyter-widgets/base",
      "_view_module_version": "1.2.0",
      "_view_name": "StyleView",
      "description_width": ""
     }
    },
    "447040f779b349e491df3d4f68f0566f": {
     "model_module": "@jupyter-widgets/controls",
     "model_module_version": "1.5.0",
     "model_name": "DescriptionStyleModel",
     "state": {
      "_model_module": "@jupyter-widgets/controls",
      "_model_module_version": "1.5.0",
      "_model_name": "DescriptionStyleModel",
      "_view_count": null,
      "_view_module": "@jupyter-widgets/base",
      "_view_module_version": "1.2.0",
      "_view_name": "StyleView",
      "description_width": ""
     }
    },
    "457bd331826e4f3093957c6c2a0e2024": {
     "model_module": "@jupyter-widgets/controls",
     "model_module_version": "1.5.0",
     "model_name": "DescriptionStyleModel",
     "state": {
      "_model_module": "@jupyter-widgets/controls",
      "_model_module_version": "1.5.0",
      "_model_name": "DescriptionStyleModel",
      "_view_count": null,
      "_view_module": "@jupyter-widgets/base",
      "_view_module_version": "1.2.0",
      "_view_name": "StyleView",
      "description_width": ""
     }
    },
    "45abf2e73e5e41aea7664d6e31042f95": {
     "model_module": "@jupyter-widgets/base",
     "model_module_version": "1.2.0",
     "model_name": "LayoutModel",
     "state": {
      "_model_module": "@jupyter-widgets/base",
      "_model_module_version": "1.2.0",
      "_model_name": "LayoutModel",
      "_view_count": null,
      "_view_module": "@jupyter-widgets/base",
      "_view_module_version": "1.2.0",
      "_view_name": "LayoutView",
      "align_content": null,
      "align_items": null,
      "align_self": null,
      "border": null,
      "bottom": null,
      "display": null,
      "flex": null,
      "flex_flow": null,
      "grid_area": null,
      "grid_auto_columns": null,
      "grid_auto_flow": null,
      "grid_auto_rows": null,
      "grid_column": null,
      "grid_gap": null,
      "grid_row": null,
      "grid_template_areas": null,
      "grid_template_columns": null,
      "grid_template_rows": null,
      "height": null,
      "justify_content": null,
      "justify_items": null,
      "left": null,
      "margin": null,
      "max_height": null,
      "max_width": null,
      "min_height": null,
      "min_width": null,
      "object_fit": null,
      "object_position": null,
      "order": null,
      "overflow": null,
      "overflow_x": null,
      "overflow_y": null,
      "padding": null,
      "right": null,
      "top": null,
      "visibility": null,
      "width": null
     }
    },
    "46fc6e68af644b3886bcb908ce1f11e0": {
     "model_module": "@jupyter-widgets/base",
     "model_module_version": "1.2.0",
     "model_name": "LayoutModel",
     "state": {
      "_model_module": "@jupyter-widgets/base",
      "_model_module_version": "1.2.0",
      "_model_name": "LayoutModel",
      "_view_count": null,
      "_view_module": "@jupyter-widgets/base",
      "_view_module_version": "1.2.0",
      "_view_name": "LayoutView",
      "align_content": null,
      "align_items": null,
      "align_self": null,
      "border": null,
      "bottom": null,
      "display": null,
      "flex": null,
      "flex_flow": null,
      "grid_area": null,
      "grid_auto_columns": null,
      "grid_auto_flow": null,
      "grid_auto_rows": null,
      "grid_column": null,
      "grid_gap": null,
      "grid_row": null,
      "grid_template_areas": null,
      "grid_template_columns": null,
      "grid_template_rows": null,
      "height": null,
      "justify_content": null,
      "justify_items": null,
      "left": null,
      "margin": null,
      "max_height": null,
      "max_width": null,
      "min_height": null,
      "min_width": null,
      "object_fit": null,
      "object_position": null,
      "order": null,
      "overflow": null,
      "overflow_x": null,
      "overflow_y": null,
      "padding": null,
      "right": null,
      "top": null,
      "visibility": null,
      "width": null
     }
    },
    "476713c754fd44129c1f35ff1d07f5e0": {
     "model_module": "@jupyter-widgets/controls",
     "model_module_version": "1.5.0",
     "model_name": "DescriptionStyleModel",
     "state": {
      "_model_module": "@jupyter-widgets/controls",
      "_model_module_version": "1.5.0",
      "_model_name": "DescriptionStyleModel",
      "_view_count": null,
      "_view_module": "@jupyter-widgets/base",
      "_view_module_version": "1.2.0",
      "_view_name": "StyleView",
      "description_width": ""
     }
    },
    "48ec22d6a8b8453ea758fb45cd95f96a": {
     "model_module": "@jupyter-widgets/controls",
     "model_module_version": "1.5.0",
     "model_name": "DescriptionStyleModel",
     "state": {
      "_model_module": "@jupyter-widgets/controls",
      "_model_module_version": "1.5.0",
      "_model_name": "DescriptionStyleModel",
      "_view_count": null,
      "_view_module": "@jupyter-widgets/base",
      "_view_module_version": "1.2.0",
      "_view_name": "StyleView",
      "description_width": ""
     }
    },
    "4a6ffeed330c4854a8d4e6e2b3391191": {
     "model_module": "@jupyter-widgets/controls",
     "model_module_version": "1.5.0",
     "model_name": "ProgressStyleModel",
     "state": {
      "_model_module": "@jupyter-widgets/controls",
      "_model_module_version": "1.5.0",
      "_model_name": "ProgressStyleModel",
      "_view_count": null,
      "_view_module": "@jupyter-widgets/base",
      "_view_module_version": "1.2.0",
      "_view_name": "StyleView",
      "bar_color": null,
      "description_width": ""
     }
    },
    "4aafe0a643b14c409359d76cd096b110": {
     "model_module": "@jupyter-widgets/base",
     "model_module_version": "1.2.0",
     "model_name": "LayoutModel",
     "state": {
      "_model_module": "@jupyter-widgets/base",
      "_model_module_version": "1.2.0",
      "_model_name": "LayoutModel",
      "_view_count": null,
      "_view_module": "@jupyter-widgets/base",
      "_view_module_version": "1.2.0",
      "_view_name": "LayoutView",
      "align_content": null,
      "align_items": null,
      "align_self": null,
      "border": null,
      "bottom": null,
      "display": null,
      "flex": null,
      "flex_flow": null,
      "grid_area": null,
      "grid_auto_columns": null,
      "grid_auto_flow": null,
      "grid_auto_rows": null,
      "grid_column": null,
      "grid_gap": null,
      "grid_row": null,
      "grid_template_areas": null,
      "grid_template_columns": null,
      "grid_template_rows": null,
      "height": null,
      "justify_content": null,
      "justify_items": null,
      "left": null,
      "margin": null,
      "max_height": null,
      "max_width": null,
      "min_height": null,
      "min_width": null,
      "object_fit": null,
      "object_position": null,
      "order": null,
      "overflow": null,
      "overflow_x": null,
      "overflow_y": null,
      "padding": null,
      "right": null,
      "top": null,
      "visibility": null,
      "width": null
     }
    },
    "4af2ca6031354e868761ef484ad63af7": {
     "model_module": "@jupyter-widgets/controls",
     "model_module_version": "1.5.0",
     "model_name": "DescriptionStyleModel",
     "state": {
      "_model_module": "@jupyter-widgets/controls",
      "_model_module_version": "1.5.0",
      "_model_name": "DescriptionStyleModel",
      "_view_count": null,
      "_view_module": "@jupyter-widgets/base",
      "_view_module_version": "1.2.0",
      "_view_name": "StyleView",
      "description_width": ""
     }
    },
    "4ee64637bda54b26b0d90c54c55f27e4": {
     "model_module": "@jupyter-widgets/controls",
     "model_module_version": "1.5.0",
     "model_name": "HTMLModel",
     "state": {
      "_dom_classes": [],
      "_model_module": "@jupyter-widgets/controls",
      "_model_module_version": "1.5.0",
      "_model_name": "HTMLModel",
      "_view_count": null,
      "_view_module": "@jupyter-widgets/controls",
      "_view_module_version": "1.5.0",
      "_view_name": "HTMLView",
      "description": "",
      "description_tooltip": null,
      "layout": "IPY_MODEL_b70ce31a0c624f3f98be1e59bc6fc4ed",
      "placeholder": "​",
      "style": "IPY_MODEL_42efacb2bd984d2f9fa4b6a4760aeb5b",
      "value": " 1/1 [00:04&lt;00:00,  4.02s/it]"
     }
    },
    "5311f4c350184802a5bb5bc97ff9ed53": {
     "model_module": "@jupyter-widgets/base",
     "model_module_version": "1.2.0",
     "model_name": "LayoutModel",
     "state": {
      "_model_module": "@jupyter-widgets/base",
      "_model_module_version": "1.2.0",
      "_model_name": "LayoutModel",
      "_view_count": null,
      "_view_module": "@jupyter-widgets/base",
      "_view_module_version": "1.2.0",
      "_view_name": "LayoutView",
      "align_content": null,
      "align_items": null,
      "align_self": null,
      "border": null,
      "bottom": null,
      "display": null,
      "flex": null,
      "flex_flow": null,
      "grid_area": null,
      "grid_auto_columns": null,
      "grid_auto_flow": null,
      "grid_auto_rows": null,
      "grid_column": null,
      "grid_gap": null,
      "grid_row": null,
      "grid_template_areas": null,
      "grid_template_columns": null,
      "grid_template_rows": null,
      "height": null,
      "justify_content": null,
      "justify_items": null,
      "left": null,
      "margin": null,
      "max_height": null,
      "max_width": null,
      "min_height": null,
      "min_width": null,
      "object_fit": null,
      "object_position": null,
      "order": null,
      "overflow": null,
      "overflow_x": null,
      "overflow_y": null,
      "padding": null,
      "right": null,
      "top": null,
      "visibility": null,
      "width": null
     }
    },
    "53277751064a49e0a04dd246972aafa2": {
     "model_module": "@jupyter-widgets/base",
     "model_module_version": "1.2.0",
     "model_name": "LayoutModel",
     "state": {
      "_model_module": "@jupyter-widgets/base",
      "_model_module_version": "1.2.0",
      "_model_name": "LayoutModel",
      "_view_count": null,
      "_view_module": "@jupyter-widgets/base",
      "_view_module_version": "1.2.0",
      "_view_name": "LayoutView",
      "align_content": null,
      "align_items": null,
      "align_self": null,
      "border": null,
      "bottom": null,
      "display": null,
      "flex": null,
      "flex_flow": null,
      "grid_area": null,
      "grid_auto_columns": null,
      "grid_auto_flow": null,
      "grid_auto_rows": null,
      "grid_column": null,
      "grid_gap": null,
      "grid_row": null,
      "grid_template_areas": null,
      "grid_template_columns": null,
      "grid_template_rows": null,
      "height": null,
      "justify_content": null,
      "justify_items": null,
      "left": null,
      "margin": null,
      "max_height": null,
      "max_width": null,
      "min_height": null,
      "min_width": null,
      "object_fit": null,
      "object_position": null,
      "order": null,
      "overflow": null,
      "overflow_x": null,
      "overflow_y": null,
      "padding": null,
      "right": null,
      "top": null,
      "visibility": null,
      "width": null
     }
    },
    "539a821e36724423983e536fea129218": {
     "model_module": "@jupyter-widgets/base",
     "model_module_version": "1.2.0",
     "model_name": "LayoutModel",
     "state": {
      "_model_module": "@jupyter-widgets/base",
      "_model_module_version": "1.2.0",
      "_model_name": "LayoutModel",
      "_view_count": null,
      "_view_module": "@jupyter-widgets/base",
      "_view_module_version": "1.2.0",
      "_view_name": "LayoutView",
      "align_content": null,
      "align_items": null,
      "align_self": null,
      "border": null,
      "bottom": null,
      "display": null,
      "flex": null,
      "flex_flow": null,
      "grid_area": null,
      "grid_auto_columns": null,
      "grid_auto_flow": null,
      "grid_auto_rows": null,
      "grid_column": null,
      "grid_gap": null,
      "grid_row": null,
      "grid_template_areas": null,
      "grid_template_columns": null,
      "grid_template_rows": null,
      "height": null,
      "justify_content": null,
      "justify_items": null,
      "left": null,
      "margin": null,
      "max_height": null,
      "max_width": null,
      "min_height": null,
      "min_width": null,
      "object_fit": null,
      "object_position": null,
      "order": null,
      "overflow": null,
      "overflow_x": null,
      "overflow_y": null,
      "padding": null,
      "right": null,
      "top": null,
      "visibility": null,
      "width": null
     }
    },
    "5a7c3e53904242d681eba2a65ffa28b9": {
     "model_module": "@jupyter-widgets/base",
     "model_module_version": "1.2.0",
     "model_name": "LayoutModel",
     "state": {
      "_model_module": "@jupyter-widgets/base",
      "_model_module_version": "1.2.0",
      "_model_name": "LayoutModel",
      "_view_count": null,
      "_view_module": "@jupyter-widgets/base",
      "_view_module_version": "1.2.0",
      "_view_name": "LayoutView",
      "align_content": null,
      "align_items": null,
      "align_self": null,
      "border": null,
      "bottom": null,
      "display": null,
      "flex": null,
      "flex_flow": null,
      "grid_area": null,
      "grid_auto_columns": null,
      "grid_auto_flow": null,
      "grid_auto_rows": null,
      "grid_column": null,
      "grid_gap": null,
      "grid_row": null,
      "grid_template_areas": null,
      "grid_template_columns": null,
      "grid_template_rows": null,
      "height": null,
      "justify_content": null,
      "justify_items": null,
      "left": null,
      "margin": null,
      "max_height": null,
      "max_width": null,
      "min_height": null,
      "min_width": null,
      "object_fit": null,
      "object_position": null,
      "order": null,
      "overflow": null,
      "overflow_x": null,
      "overflow_y": null,
      "padding": null,
      "right": null,
      "top": null,
      "visibility": null,
      "width": null
     }
    },
    "5ecf3cfe48c94942839ba73d60f6de81": {
     "model_module": "@jupyter-widgets/controls",
     "model_module_version": "1.5.0",
     "model_name": "HTMLModel",
     "state": {
      "_dom_classes": [],
      "_model_module": "@jupyter-widgets/controls",
      "_model_module_version": "1.5.0",
      "_model_name": "HTMLModel",
      "_view_count": null,
      "_view_module": "@jupyter-widgets/controls",
      "_view_module_version": "1.5.0",
      "_view_name": "HTMLView",
      "description": "",
      "description_tooltip": null,
      "layout": "IPY_MODEL_6a9b5622f94b40d7a04c10dca8fe7c21",
      "placeholder": "​",
      "style": "IPY_MODEL_f76a8f1845524b709e70fa91bfbcd43a",
      "value": " 1/1 [00:00&lt;00:00, 17.25it/s]"
     }
    },
    "6110e7d9bc374b54a2ec6e27e14e92d6": {
     "model_module": "@jupyter-widgets/controls",
     "model_module_version": "1.5.0",
     "model_name": "HTMLModel",
     "state": {
      "_dom_classes": [],
      "_model_module": "@jupyter-widgets/controls",
      "_model_module_version": "1.5.0",
      "_model_name": "HTMLModel",
      "_view_count": null,
      "_view_module": "@jupyter-widgets/controls",
      "_view_module_version": "1.5.0",
      "_view_name": "HTMLView",
      "description": "",
      "description_tooltip": null,
      "layout": "IPY_MODEL_f34ff7677a5d4442840fcca2d5ffbe44",
      "placeholder": "​",
      "style": "IPY_MODEL_447040f779b349e491df3d4f68f0566f",
      "value": " 72.2M/72.2M [00:02&lt;00:00, 29.7MB/s]"
     }
    },
    "61596390c43d4e87ab3eabf6113cdd19": {
     "model_module": "@jupyter-widgets/controls",
     "model_module_version": "1.5.0",
     "model_name": "HTMLModel",
     "state": {
      "_dom_classes": [],
      "_model_module": "@jupyter-widgets/controls",
      "_model_module_version": "1.5.0",
      "_model_name": "HTMLModel",
      "_view_count": null,
      "_view_module": "@jupyter-widgets/controls",
      "_view_module_version": "1.5.0",
      "_view_name": "HTMLView",
      "description": "",
      "description_tooltip": null,
      "layout": "IPY_MODEL_df5ce70115b94e65ad1a1a72ed2e9e13",
      "placeholder": "​",
      "style": "IPY_MODEL_3f0598c892274564ae28501626336042",
      "value": " 1/1 [00:00&lt;00:00,  1.09it/s]"
     }
    },
    "61b4d0ecd0804ce1b713df992f01f7bc": {
     "model_module": "@jupyter-widgets/controls",
     "model_module_version": "1.5.0",
     "model_name": "HTMLModel",
     "state": {
      "_dom_classes": [],
      "_model_module": "@jupyter-widgets/controls",
      "_model_module_version": "1.5.0",
      "_model_name": "HTMLModel",
      "_view_count": null,
      "_view_module": "@jupyter-widgets/controls",
      "_view_module_version": "1.5.0",
      "_view_name": "HTMLView",
      "description": "",
      "description_tooltip": null,
      "layout": "IPY_MODEL_dbb7d9b8388a42f680d56f280db0a37f",
      "placeholder": "​",
      "style": "IPY_MODEL_f5984b71307c4c969f78adb6ceb834d9",
      "value": "Downloading data files: 100%"
     }
    },
    "636ba6a309ca4f80a801a7c5956ff45a": {
     "model_module": "@jupyter-widgets/base",
     "model_module_version": "1.2.0",
     "model_name": "LayoutModel",
     "state": {
      "_model_module": "@jupyter-widgets/base",
      "_model_module_version": "1.2.0",
      "_model_name": "LayoutModel",
      "_view_count": null,
      "_view_module": "@jupyter-widgets/base",
      "_view_module_version": "1.2.0",
      "_view_name": "LayoutView",
      "align_content": null,
      "align_items": null,
      "align_self": null,
      "border": null,
      "bottom": null,
      "display": null,
      "flex": null,
      "flex_flow": null,
      "grid_area": null,
      "grid_auto_columns": null,
      "grid_auto_flow": null,
      "grid_auto_rows": null,
      "grid_column": null,
      "grid_gap": null,
      "grid_row": null,
      "grid_template_areas": null,
      "grid_template_columns": null,
      "grid_template_rows": null,
      "height": null,
      "justify_content": null,
      "justify_items": null,
      "left": null,
      "margin": null,
      "max_height": null,
      "max_width": null,
      "min_height": null,
      "min_width": null,
      "object_fit": null,
      "object_position": null,
      "order": null,
      "overflow": null,
      "overflow_x": null,
      "overflow_y": null,
      "padding": null,
      "right": null,
      "top": null,
      "visibility": null,
      "width": null
     }
    },
    "639e1637bba24ee2ae28d110fe693b9a": {
     "model_module": "@jupyter-widgets/controls",
     "model_module_version": "1.5.0",
     "model_name": "HTMLModel",
     "state": {
      "_dom_classes": [],
      "_model_module": "@jupyter-widgets/controls",
      "_model_module_version": "1.5.0",
      "_model_name": "HTMLModel",
      "_view_count": null,
      "_view_module": "@jupyter-widgets/controls",
      "_view_module_version": "1.5.0",
      "_view_name": "HTMLView",
      "description": "",
      "description_tooltip": null,
      "layout": "IPY_MODEL_ae5104599c3f469d903c9f3bf40952c7",
      "placeholder": "​",
      "style": "IPY_MODEL_1f2368ba0f4947b2b6a3f18c3415a022",
      "value": "Downloading data: 100%"
     }
    },
    "650f0afb24ce463280215307f4e6dd59": {
     "model_module": "@jupyter-widgets/controls",
     "model_module_version": "1.5.0",
     "model_name": "FloatProgressModel",
     "state": {
      "_dom_classes": [],
      "_model_module": "@jupyter-widgets/controls",
      "_model_module_version": "1.5.0",
      "_model_name": "FloatProgressModel",
      "_view_count": null,
      "_view_module": "@jupyter-widgets/controls",
      "_view_module_version": "1.5.0",
      "_view_name": "ProgressView",
      "bar_style": "success",
      "description": "",
      "description_tooltip": null,
      "layout": "IPY_MODEL_c0d307cda32a4df7910d39b6b5ef15f9",
      "max": 5000,
      "min": 0,
      "orientation": "horizontal",
      "style": "IPY_MODEL_c89fb36091e74e39be05ca3beb6bdedf",
      "value": 5000
     }
    },
    "67bf6c446a204968b28453859f0ef3c1": {
     "model_module": "@jupyter-widgets/controls",
     "model_module_version": "1.5.0",
     "model_name": "HTMLModel",
     "state": {
      "_dom_classes": [],
      "_model_module": "@jupyter-widgets/controls",
      "_model_module_version": "1.5.0",
      "_model_name": "HTMLModel",
      "_view_count": null,
      "_view_module": "@jupyter-widgets/controls",
      "_view_module_version": "1.5.0",
      "_view_name": "HTMLView",
      "description": "",
      "description_tooltip": null,
      "layout": "IPY_MODEL_1426c530dec747ada61d53e6bfc3eb64",
      "placeholder": "​",
      "style": "IPY_MODEL_44623f9d685b41acb4612bc818a6beec",
      "value": " 5000/5000 [00:00&lt;00:00, 5570.44 examples/s]"
     }
    },
    "6896013e44a247aabd5197d854a78ebf": {
     "model_module": "@jupyter-widgets/base",
     "model_module_version": "1.2.0",
     "model_name": "LayoutModel",
     "state": {
      "_model_module": "@jupyter-widgets/base",
      "_model_module_version": "1.2.0",
      "_model_name": "LayoutModel",
      "_view_count": null,
      "_view_module": "@jupyter-widgets/base",
      "_view_module_version": "1.2.0",
      "_view_name": "LayoutView",
      "align_content": null,
      "align_items": null,
      "align_self": null,
      "border": null,
      "bottom": null,
      "display": null,
      "flex": null,
      "flex_flow": null,
      "grid_area": null,
      "grid_auto_columns": null,
      "grid_auto_flow": null,
      "grid_auto_rows": null,
      "grid_column": null,
      "grid_gap": null,
      "grid_row": null,
      "grid_template_areas": null,
      "grid_template_columns": null,
      "grid_template_rows": null,
      "height": null,
      "justify_content": null,
      "justify_items": null,
      "left": null,
      "margin": null,
      "max_height": null,
      "max_width": null,
      "min_height": null,
      "min_width": null,
      "object_fit": null,
      "object_position": null,
      "order": null,
      "overflow": null,
      "overflow_x": null,
      "overflow_y": null,
      "padding": null,
      "right": null,
      "top": null,
      "visibility": null,
      "width": null
     }
    },
    "69143c91ef254d50a1214e38e0928e87": {
     "model_module": "@jupyter-widgets/base",
     "model_module_version": "1.2.0",
     "model_name": "LayoutModel",
     "state": {
      "_model_module": "@jupyter-widgets/base",
      "_model_module_version": "1.2.0",
      "_model_name": "LayoutModel",
      "_view_count": null,
      "_view_module": "@jupyter-widgets/base",
      "_view_module_version": "1.2.0",
      "_view_name": "LayoutView",
      "align_content": null,
      "align_items": null,
      "align_self": null,
      "border": null,
      "bottom": null,
      "display": null,
      "flex": null,
      "flex_flow": null,
      "grid_area": null,
      "grid_auto_columns": null,
      "grid_auto_flow": null,
      "grid_auto_rows": null,
      "grid_column": null,
      "grid_gap": null,
      "grid_row": null,
      "grid_template_areas": null,
      "grid_template_columns": null,
      "grid_template_rows": null,
      "height": null,
      "justify_content": null,
      "justify_items": null,
      "left": null,
      "margin": null,
      "max_height": null,
      "max_width": null,
      "min_height": null,
      "min_width": null,
      "object_fit": null,
      "object_position": null,
      "order": null,
      "overflow": null,
      "overflow_x": null,
      "overflow_y": null,
      "padding": null,
      "right": null,
      "top": null,
      "visibility": null,
      "width": null
     }
    },
    "6925a17d80b14dc7a94d4956e8c8c897": {
     "model_module": "@jupyter-widgets/controls",
     "model_module_version": "1.5.0",
     "model_name": "HTMLModel",
     "state": {
      "_dom_classes": [],
      "_model_module": "@jupyter-widgets/controls",
      "_model_module_version": "1.5.0",
      "_model_name": "HTMLModel",
      "_view_count": null,
      "_view_module": "@jupyter-widgets/controls",
      "_view_module_version": "1.5.0",
      "_view_name": "HTMLView",
      "description": "",
      "description_tooltip": null,
      "layout": "IPY_MODEL_0c5cd2a4f95a4a818987b847fa14b010",
      "placeholder": "​",
      "style": "IPY_MODEL_7e4d011f08814ae38eb67d4805fe2489",
      "value": " 200000/200000 [00:30&lt;00:00, 6621.10 examples/s]"
     }
    },
    "6a9b5622f94b40d7a04c10dca8fe7c21": {
     "model_module": "@jupyter-widgets/base",
     "model_module_version": "1.2.0",
     "model_name": "LayoutModel",
     "state": {
      "_model_module": "@jupyter-widgets/base",
      "_model_module_version": "1.2.0",
      "_model_name": "LayoutModel",
      "_view_count": null,
      "_view_module": "@jupyter-widgets/base",
      "_view_module_version": "1.2.0",
      "_view_name": "LayoutView",
      "align_content": null,
      "align_items": null,
      "align_self": null,
      "border": null,
      "bottom": null,
      "display": null,
      "flex": null,
      "flex_flow": null,
      "grid_area": null,
      "grid_auto_columns": null,
      "grid_auto_flow": null,
      "grid_auto_rows": null,
      "grid_column": null,
      "grid_gap": null,
      "grid_row": null,
      "grid_template_areas": null,
      "grid_template_columns": null,
      "grid_template_rows": null,
      "height": null,
      "justify_content": null,
      "justify_items": null,
      "left": null,
      "margin": null,
      "max_height": null,
      "max_width": null,
      "min_height": null,
      "min_width": null,
      "object_fit": null,
      "object_position": null,
      "order": null,
      "overflow": null,
      "overflow_x": null,
      "overflow_y": null,
      "padding": null,
      "right": null,
      "top": null,
      "visibility": null,
      "width": null
     }
    },
    "7230425c7bfa4003b71782f542bf0fdd": {
     "model_module": "@jupyter-widgets/controls",
     "model_module_version": "1.5.0",
     "model_name": "HTMLModel",
     "state": {
      "_dom_classes": [],
      "_model_module": "@jupyter-widgets/controls",
      "_model_module_version": "1.5.0",
      "_model_name": "HTMLModel",
      "_view_count": null,
      "_view_module": "@jupyter-widgets/controls",
      "_view_module_version": "1.5.0",
      "_view_name": "HTMLView",
      "description": "",
      "description_tooltip": null,
      "layout": "IPY_MODEL_6896013e44a247aabd5197d854a78ebf",
      "placeholder": "​",
      "style": "IPY_MODEL_edf20283cd6f45669e1e4e737d29992f",
      "value": " 1/1 [00:01&lt;00:00,  1.08s/it]"
     }
    },
    "72d600dff5eb4ed4bafa77618db2612b": {
     "model_module": "@jupyter-widgets/base",
     "model_module_version": "1.2.0",
     "model_name": "LayoutModel",
     "state": {
      "_model_module": "@jupyter-widgets/base",
      "_model_module_version": "1.2.0",
      "_model_name": "LayoutModel",
      "_view_count": null,
      "_view_module": "@jupyter-widgets/base",
      "_view_module_version": "1.2.0",
      "_view_name": "LayoutView",
      "align_content": null,
      "align_items": null,
      "align_self": null,
      "border": null,
      "bottom": null,
      "display": null,
      "flex": null,
      "flex_flow": null,
      "grid_area": null,
      "grid_auto_columns": null,
      "grid_auto_flow": null,
      "grid_auto_rows": null,
      "grid_column": null,
      "grid_gap": null,
      "grid_row": null,
      "grid_template_areas": null,
      "grid_template_columns": null,
      "grid_template_rows": null,
      "height": null,
      "justify_content": null,
      "justify_items": null,
      "left": null,
      "margin": null,
      "max_height": null,
      "max_width": null,
      "min_height": null,
      "min_width": null,
      "object_fit": null,
      "object_position": null,
      "order": null,
      "overflow": null,
      "overflow_x": null,
      "overflow_y": null,
      "padding": null,
      "right": null,
      "top": null,
      "visibility": null,
      "width": null
     }
    },
    "7348851ed6084766aadda2869b9dcd27": {
     "model_module": "@jupyter-widgets/controls",
     "model_module_version": "1.5.0",
     "model_name": "HBoxModel",
     "state": {
      "_dom_classes": [],
      "_model_module": "@jupyter-widgets/controls",
      "_model_module_version": "1.5.0",
      "_model_name": "HBoxModel",
      "_view_count": null,
      "_view_module": "@jupyter-widgets/controls",
      "_view_module_version": "1.5.0",
      "_view_name": "HBoxView",
      "box_style": "",
      "children": [
       "IPY_MODEL_eea6a8737b7e46f48655d13d8772b9bd",
       "IPY_MODEL_98eb7b3d3f95425789f86e4b65950c34",
       "IPY_MODEL_fe0a8c4275fe43f788115617b4624adb"
      ],
      "layout": "IPY_MODEL_4aafe0a643b14c409359d76cd096b110"
     }
    },
    "73fb656a13854849a12e1b233a40bda5": {
     "model_module": "@jupyter-widgets/base",
     "model_module_version": "1.2.0",
     "model_name": "LayoutModel",
     "state": {
      "_model_module": "@jupyter-widgets/base",
      "_model_module_version": "1.2.0",
      "_model_name": "LayoutModel",
      "_view_count": null,
      "_view_module": "@jupyter-widgets/base",
      "_view_module_version": "1.2.0",
      "_view_name": "LayoutView",
      "align_content": null,
      "align_items": null,
      "align_self": null,
      "border": null,
      "bottom": null,
      "display": null,
      "flex": null,
      "flex_flow": null,
      "grid_area": null,
      "grid_auto_columns": null,
      "grid_auto_flow": null,
      "grid_auto_rows": null,
      "grid_column": null,
      "grid_gap": null,
      "grid_row": null,
      "grid_template_areas": null,
      "grid_template_columns": null,
      "grid_template_rows": null,
      "height": null,
      "justify_content": null,
      "justify_items": null,
      "left": null,
      "margin": null,
      "max_height": null,
      "max_width": null,
      "min_height": null,
      "min_width": null,
      "object_fit": null,
      "object_position": null,
      "order": null,
      "overflow": null,
      "overflow_x": null,
      "overflow_y": null,
      "padding": null,
      "right": null,
      "top": null,
      "visibility": null,
      "width": null
     }
    },
    "73fb6805bed945b1bd6ccdfb428ace2f": {
     "model_module": "@jupyter-widgets/controls",
     "model_module_version": "1.5.0",
     "model_name": "DescriptionStyleModel",
     "state": {
      "_model_module": "@jupyter-widgets/controls",
      "_model_module_version": "1.5.0",
      "_model_name": "DescriptionStyleModel",
      "_view_count": null,
      "_view_module": "@jupyter-widgets/base",
      "_view_module_version": "1.2.0",
      "_view_name": "StyleView",
      "description_width": ""
     }
    },
    "75421a555eca4e8ab004b9a66bc9ad0d": {
     "model_module": "@jupyter-widgets/controls",
     "model_module_version": "1.5.0",
     "model_name": "FloatProgressModel",
     "state": {
      "_dom_classes": [],
      "_model_module": "@jupyter-widgets/controls",
      "_model_module_version": "1.5.0",
      "_model_name": "FloatProgressModel",
      "_view_count": null,
      "_view_module": "@jupyter-widgets/controls",
      "_view_module_version": "1.5.0",
      "_view_name": "ProgressView",
      "bar_style": "success",
      "description": "",
      "description_tooltip": null,
      "layout": "IPY_MODEL_ba78fddf9d8641e6ba0b471102367f39",
      "max": 1,
      "min": 0,
      "orientation": "horizontal",
      "style": "IPY_MODEL_05ec0690a5b841df98fa12fd97f0a9dd",
      "value": 1
     }
    },
    "75e4fe92238b4668897a9b942179c6df": {
     "model_module": "@jupyter-widgets/controls",
     "model_module_version": "1.5.0",
     "model_name": "ProgressStyleModel",
     "state": {
      "_model_module": "@jupyter-widgets/controls",
      "_model_module_version": "1.5.0",
      "_model_name": "ProgressStyleModel",
      "_view_count": null,
      "_view_module": "@jupyter-widgets/base",
      "_view_module_version": "1.2.0",
      "_view_name": "StyleView",
      "bar_color": null,
      "description_width": ""
     }
    },
    "7cdeb6edf1a241dda83689b54abacdaa": {
     "model_module": "@jupyter-widgets/controls",
     "model_module_version": "1.5.0",
     "model_name": "FloatProgressModel",
     "state": {
      "_dom_classes": [],
      "_model_module": "@jupyter-widgets/controls",
      "_model_module_version": "1.5.0",
      "_model_name": "FloatProgressModel",
      "_view_count": null,
      "_view_module": "@jupyter-widgets/controls",
      "_view_module_version": "1.5.0",
      "_view_name": "ProgressView",
      "bar_style": "success",
      "description": "",
      "description_tooltip": null,
      "layout": "IPY_MODEL_eeb6fdf53e83499d967556b8cd1cac6c",
      "max": 1799114,
      "min": 0,
      "orientation": "horizontal",
      "style": "IPY_MODEL_8fcfc3d3fce64ba2acc445761876d3eb",
      "value": 1799114
     }
    },
    "7d6b26eb638b4945b507fa62b9063b63": {
     "model_module": "@jupyter-widgets/controls",
     "model_module_version": "1.5.0",
     "model_name": "HTMLModel",
     "state": {
      "_dom_classes": [],
      "_model_module": "@jupyter-widgets/controls",
      "_model_module_version": "1.5.0",
      "_model_name": "HTMLModel",
      "_view_count": null,
      "_view_module": "@jupyter-widgets/controls",
      "_view_module_version": "1.5.0",
      "_view_name": "HTMLView",
      "description": "",
      "description_tooltip": null,
      "layout": "IPY_MODEL_efe12c724daa4af990af83d5be7de666",
      "placeholder": "​",
      "style": "IPY_MODEL_06b70bdb3fd84c35ae76dc59dead04c8",
      "value": "Extracting data files: 100%"
     }
    },
    "7e4d011f08814ae38eb67d4805fe2489": {
     "model_module": "@jupyter-widgets/controls",
     "model_module_version": "1.5.0",
     "model_name": "DescriptionStyleModel",
     "state": {
      "_model_module": "@jupyter-widgets/controls",
      "_model_module_version": "1.5.0",
      "_model_name": "DescriptionStyleModel",
      "_view_count": null,
      "_view_module": "@jupyter-widgets/base",
      "_view_module_version": "1.2.0",
      "_view_name": "StyleView",
      "description_width": ""
     }
    },
    "7f579af2c23e4bb993f1894c240b45e0": {
     "model_module": "@jupyter-widgets/base",
     "model_module_version": "1.2.0",
     "model_name": "LayoutModel",
     "state": {
      "_model_module": "@jupyter-widgets/base",
      "_model_module_version": "1.2.0",
      "_model_name": "LayoutModel",
      "_view_count": null,
      "_view_module": "@jupyter-widgets/base",
      "_view_module_version": "1.2.0",
      "_view_name": "LayoutView",
      "align_content": null,
      "align_items": null,
      "align_self": null,
      "border": null,
      "bottom": null,
      "display": null,
      "flex": null,
      "flex_flow": null,
      "grid_area": null,
      "grid_auto_columns": null,
      "grid_auto_flow": null,
      "grid_auto_rows": null,
      "grid_column": null,
      "grid_gap": null,
      "grid_row": null,
      "grid_template_areas": null,
      "grid_template_columns": null,
      "grid_template_rows": null,
      "height": null,
      "justify_content": null,
      "justify_items": null,
      "left": null,
      "margin": null,
      "max_height": null,
      "max_width": null,
      "min_height": null,
      "min_width": null,
      "object_fit": null,
      "object_position": null,
      "order": null,
      "overflow": null,
      "overflow_x": null,
      "overflow_y": null,
      "padding": null,
      "right": null,
      "top": null,
      "visibility": null,
      "width": null
     }
    },
    "80f7420b628a46f3888615feacd52430": {
     "model_module": "@jupyter-widgets/controls",
     "model_module_version": "1.5.0",
     "model_name": "HBoxModel",
     "state": {
      "_dom_classes": [],
      "_model_module": "@jupyter-widgets/controls",
      "_model_module_version": "1.5.0",
      "_model_name": "HBoxModel",
      "_view_count": null,
      "_view_module": "@jupyter-widgets/controls",
      "_view_module_version": "1.5.0",
      "_view_name": "HBoxView",
      "box_style": "",
      "children": [
       "IPY_MODEL_639e1637bba24ee2ae28d110fe693b9a",
       "IPY_MODEL_ce76667eca8e4f80aea466cb5cd8588f",
       "IPY_MODEL_6110e7d9bc374b54a2ec6e27e14e92d6"
      ],
      "layout": "IPY_MODEL_de34f779c56742a3a1eb4de580090b27"
     }
    },
    "84ff430b3fdc47128fb9e7c6933a341e": {
     "model_module": "@jupyter-widgets/base",
     "model_module_version": "1.2.0",
     "model_name": "LayoutModel",
     "state": {
      "_model_module": "@jupyter-widgets/base",
      "_model_module_version": "1.2.0",
      "_model_name": "LayoutModel",
      "_view_count": null,
      "_view_module": "@jupyter-widgets/base",
      "_view_module_version": "1.2.0",
      "_view_name": "LayoutView",
      "align_content": null,
      "align_items": null,
      "align_self": null,
      "border": null,
      "bottom": null,
      "display": null,
      "flex": null,
      "flex_flow": null,
      "grid_area": null,
      "grid_auto_columns": null,
      "grid_auto_flow": null,
      "grid_auto_rows": null,
      "grid_column": null,
      "grid_gap": null,
      "grid_row": null,
      "grid_template_areas": null,
      "grid_template_columns": null,
      "grid_template_rows": null,
      "height": null,
      "justify_content": null,
      "justify_items": null,
      "left": null,
      "margin": null,
      "max_height": null,
      "max_width": null,
      "min_height": null,
      "min_width": null,
      "object_fit": null,
      "object_position": null,
      "order": null,
      "overflow": null,
      "overflow_x": null,
      "overflow_y": null,
      "padding": null,
      "right": null,
      "top": null,
      "visibility": null,
      "width": null
     }
    },
    "89d6ccce44fb412e8ca908982f3cd6b1": {
     "model_module": "@jupyter-widgets/controls",
     "model_module_version": "1.5.0",
     "model_name": "HBoxModel",
     "state": {
      "_dom_classes": [],
      "_model_module": "@jupyter-widgets/controls",
      "_model_module_version": "1.5.0",
      "_model_name": "HBoxModel",
      "_view_count": null,
      "_view_module": "@jupyter-widgets/controls",
      "_view_module_version": "1.5.0",
      "_view_name": "HBoxView",
      "box_style": "",
      "children": [
       "IPY_MODEL_a061b6f4c9564f4f9720d49529db1520",
       "IPY_MODEL_ea4c5573d610482f9c381b02ad349184",
       "IPY_MODEL_5ecf3cfe48c94942839ba73d60f6de81"
      ],
      "layout": "IPY_MODEL_1292da8a82aa4e728c531a5c2c2f0eb0"
     }
    },
    "8cdfce2933224ee7afa77401d5b754be": {
     "model_module": "@jupyter-widgets/base",
     "model_module_version": "1.2.0",
     "model_name": "LayoutModel",
     "state": {
      "_model_module": "@jupyter-widgets/base",
      "_model_module_version": "1.2.0",
      "_model_name": "LayoutModel",
      "_view_count": null,
      "_view_module": "@jupyter-widgets/base",
      "_view_module_version": "1.2.0",
      "_view_name": "LayoutView",
      "align_content": null,
      "align_items": null,
      "align_self": null,
      "border": null,
      "bottom": null,
      "display": null,
      "flex": null,
      "flex_flow": null,
      "grid_area": null,
      "grid_auto_columns": null,
      "grid_auto_flow": null,
      "grid_auto_rows": null,
      "grid_column": null,
      "grid_gap": null,
      "grid_row": null,
      "grid_template_areas": null,
      "grid_template_columns": null,
      "grid_template_rows": null,
      "height": null,
      "justify_content": null,
      "justify_items": null,
      "left": null,
      "margin": null,
      "max_height": null,
      "max_width": null,
      "min_height": null,
      "min_width": null,
      "object_fit": null,
      "object_position": null,
      "order": null,
      "overflow": null,
      "overflow_x": null,
      "overflow_y": null,
      "padding": null,
      "right": null,
      "top": null,
      "visibility": null,
      "width": null
     }
    },
    "8dda244a0672427d81317908829e7c93": {
     "model_module": "@jupyter-widgets/controls",
     "model_module_version": "1.5.0",
     "model_name": "DescriptionStyleModel",
     "state": {
      "_model_module": "@jupyter-widgets/controls",
      "_model_module_version": "1.5.0",
      "_model_name": "DescriptionStyleModel",
      "_view_count": null,
      "_view_module": "@jupyter-widgets/base",
      "_view_module_version": "1.2.0",
      "_view_name": "StyleView",
      "description_width": ""
     }
    },
    "8fcfc3d3fce64ba2acc445761876d3eb": {
     "model_module": "@jupyter-widgets/controls",
     "model_module_version": "1.5.0",
     "model_name": "ProgressStyleModel",
     "state": {
      "_model_module": "@jupyter-widgets/controls",
      "_model_module_version": "1.5.0",
      "_model_name": "ProgressStyleModel",
      "_view_count": null,
      "_view_module": "@jupyter-widgets/base",
      "_view_module_version": "1.2.0",
      "_view_name": "StyleView",
      "bar_color": null,
      "description_width": ""
     }
    },
    "902841e65d44465a92f8f7f0397cd2c4": {
     "model_module": "@jupyter-widgets/controls",
     "model_module_version": "1.5.0",
     "model_name": "HBoxModel",
     "state": {
      "_dom_classes": [],
      "_model_module": "@jupyter-widgets/controls",
      "_model_module_version": "1.5.0",
      "_model_name": "HBoxModel",
      "_view_count": null,
      "_view_module": "@jupyter-widgets/controls",
      "_view_module_version": "1.5.0",
      "_view_name": "HBoxView",
      "box_style": "",
      "children": [
       "IPY_MODEL_b41c4e60c8e2473582a1e4b3affb7af2",
       "IPY_MODEL_c576b687df9d4755b0d4f2d80ae4196b",
       "IPY_MODEL_61596390c43d4e87ab3eabf6113cdd19"
      ],
      "layout": "IPY_MODEL_8cdfce2933224ee7afa77401d5b754be"
     }
    },
    "96b2a6715cf2436b83c9db37cab103f1": {
     "model_module": "@jupyter-widgets/controls",
     "model_module_version": "1.5.0",
     "model_name": "HTMLModel",
     "state": {
      "_dom_classes": [],
      "_model_module": "@jupyter-widgets/controls",
      "_model_module_version": "1.5.0",
      "_model_name": "HTMLModel",
      "_view_count": null,
      "_view_module": "@jupyter-widgets/controls",
      "_view_module_version": "1.5.0",
      "_view_name": "HTMLView",
      "description": "",
      "description_tooltip": null,
      "layout": "IPY_MODEL_aeaba8a20db44f028e902e1b132b0891",
      "placeholder": "​",
      "style": "IPY_MODEL_369b9ecd3a4a4df88f0fc2cf019b009d",
      "value": "Downloading data: 100%"
     }
    },
    "972290f2e9204b3493638391dc99bf5a": {
     "model_module": "@jupyter-widgets/controls",
     "model_module_version": "1.5.0",
     "model_name": "ProgressStyleModel",
     "state": {
      "_model_module": "@jupyter-widgets/controls",
      "_model_module_version": "1.5.0",
      "_model_name": "ProgressStyleModel",
      "_view_count": null,
      "_view_module": "@jupyter-widgets/base",
      "_view_module_version": "1.2.0",
      "_view_name": "StyleView",
      "bar_color": null,
      "description_width": ""
     }
    },
    "98d47129cdee4c08a4fd9e97ed1d4e84": {
     "model_module": "@jupyter-widgets/controls",
     "model_module_version": "1.5.0",
     "model_name": "HBoxModel",
     "state": {
      "_dom_classes": [],
      "_model_module": "@jupyter-widgets/controls",
      "_model_module_version": "1.5.0",
      "_model_name": "HBoxModel",
      "_view_count": null,
      "_view_module": "@jupyter-widgets/controls",
      "_view_module_version": "1.5.0",
      "_view_name": "HBoxView",
      "box_style": "",
      "children": [
       "IPY_MODEL_7d6b26eb638b4945b507fa62b9063b63",
       "IPY_MODEL_fe5b9a3b0fcc425a96d2d75ef39e81ec",
       "IPY_MODEL_d9c25c44d7834e20966deb2d25105e8e"
      ],
      "layout": "IPY_MODEL_3606f226a313442c85aa38ae44abe06d"
     }
    },
    "98eb7b3d3f95425789f86e4b65950c34": {
     "model_module": "@jupyter-widgets/controls",
     "model_module_version": "1.5.0",
     "model_name": "FloatProgressModel",
     "state": {
      "_dom_classes": [],
      "_model_module": "@jupyter-widgets/controls",
      "_model_module_version": "1.5.0",
      "_model_name": "FloatProgressModel",
      "_view_count": null,
      "_view_module": "@jupyter-widgets/controls",
      "_view_module_version": "1.5.0",
      "_view_name": "ProgressView",
      "bar_style": "success",
      "description": "",
      "description_tooltip": null,
      "layout": "IPY_MODEL_f6c07f8e7746487294eb3912ff1bb0bc",
      "max": 15052,
      "min": 0,
      "orientation": "horizontal",
      "style": "IPY_MODEL_4a6ffeed330c4854a8d4e6e2b3391191",
      "value": 15052
     }
    },
    "99a59e859a9b4e988ea02ce4dbf526ab": {
     "model_module": "@jupyter-widgets/base",
     "model_module_version": "1.2.0",
     "model_name": "LayoutModel",
     "state": {
      "_model_module": "@jupyter-widgets/base",
      "_model_module_version": "1.2.0",
      "_model_name": "LayoutModel",
      "_view_count": null,
      "_view_module": "@jupyter-widgets/base",
      "_view_module_version": "1.2.0",
      "_view_name": "LayoutView",
      "align_content": null,
      "align_items": null,
      "align_self": null,
      "border": null,
      "bottom": null,
      "display": null,
      "flex": null,
      "flex_flow": null,
      "grid_area": null,
      "grid_auto_columns": null,
      "grid_auto_flow": null,
      "grid_auto_rows": null,
      "grid_column": null,
      "grid_gap": null,
      "grid_row": null,
      "grid_template_areas": null,
      "grid_template_columns": null,
      "grid_template_rows": null,
      "height": null,
      "justify_content": null,
      "justify_items": null,
      "left": null,
      "margin": null,
      "max_height": null,
      "max_width": null,
      "min_height": null,
      "min_width": null,
      "object_fit": null,
      "object_position": null,
      "order": null,
      "overflow": null,
      "overflow_x": null,
      "overflow_y": null,
      "padding": null,
      "right": null,
      "top": null,
      "visibility": null,
      "width": null
     }
    },
    "9a3af3d6374148bb8bad54851f834e7e": {
     "model_module": "@jupyter-widgets/controls",
     "model_module_version": "1.5.0",
     "model_name": "HTMLModel",
     "state": {
      "_dom_classes": [],
      "_model_module": "@jupyter-widgets/controls",
      "_model_module_version": "1.5.0",
      "_model_name": "HTMLModel",
      "_view_count": null,
      "_view_module": "@jupyter-widgets/controls",
      "_view_module_version": "1.5.0",
      "_view_name": "HTMLView",
      "description": "",
      "description_tooltip": null,
      "layout": "IPY_MODEL_99a59e859a9b4e988ea02ce4dbf526ab",
      "placeholder": "​",
      "style": "IPY_MODEL_8dda244a0672427d81317908829e7c93",
      "value": " 7.11k/7.11k [00:00&lt;00:00, 370kB/s]"
     }
    },
    "9bd3733dfc77446689be61ec3b7f23b9": {
     "model_module": "@jupyter-widgets/base",
     "model_module_version": "1.2.0",
     "model_name": "LayoutModel",
     "state": {
      "_model_module": "@jupyter-widgets/base",
      "_model_module_version": "1.2.0",
      "_model_name": "LayoutModel",
      "_view_count": null,
      "_view_module": "@jupyter-widgets/base",
      "_view_module_version": "1.2.0",
      "_view_name": "LayoutView",
      "align_content": null,
      "align_items": null,
      "align_self": null,
      "border": null,
      "bottom": null,
      "display": null,
      "flex": null,
      "flex_flow": null,
      "grid_area": null,
      "grid_auto_columns": null,
      "grid_auto_flow": null,
      "grid_auto_rows": null,
      "grid_column": null,
      "grid_gap": null,
      "grid_row": null,
      "grid_template_areas": null,
      "grid_template_columns": null,
      "grid_template_rows": null,
      "height": null,
      "justify_content": null,
      "justify_items": null,
      "left": null,
      "margin": null,
      "max_height": null,
      "max_width": null,
      "min_height": null,
      "min_width": null,
      "object_fit": null,
      "object_position": null,
      "order": null,
      "overflow": null,
      "overflow_x": null,
      "overflow_y": null,
      "padding": null,
      "right": null,
      "top": null,
      "visibility": null,
      "width": null
     }
    },
    "9d2680cd810d466eacdb85af65f0730f": {
     "model_module": "@jupyter-widgets/base",
     "model_module_version": "1.2.0",
     "model_name": "LayoutModel",
     "state": {
      "_model_module": "@jupyter-widgets/base",
      "_model_module_version": "1.2.0",
      "_model_name": "LayoutModel",
      "_view_count": null,
      "_view_module": "@jupyter-widgets/base",
      "_view_module_version": "1.2.0",
      "_view_name": "LayoutView",
      "align_content": null,
      "align_items": null,
      "align_self": null,
      "border": null,
      "bottom": null,
      "display": null,
      "flex": null,
      "flex_flow": null,
      "grid_area": null,
      "grid_auto_columns": null,
      "grid_auto_flow": null,
      "grid_auto_rows": null,
      "grid_column": null,
      "grid_gap": null,
      "grid_row": null,
      "grid_template_areas": null,
      "grid_template_columns": null,
      "grid_template_rows": null,
      "height": null,
      "justify_content": null,
      "justify_items": null,
      "left": null,
      "margin": null,
      "max_height": null,
      "max_width": null,
      "min_height": null,
      "min_width": null,
      "object_fit": null,
      "object_position": null,
      "order": null,
      "overflow": null,
      "overflow_x": null,
      "overflow_y": null,
      "padding": null,
      "right": null,
      "top": null,
      "visibility": null,
      "width": null
     }
    },
    "9f8cc826f6484c84a4a8c4ccafc2a108": {
     "model_module": "@jupyter-widgets/controls",
     "model_module_version": "1.5.0",
     "model_name": "HTMLModel",
     "state": {
      "_dom_classes": [],
      "_model_module": "@jupyter-widgets/controls",
      "_model_module_version": "1.5.0",
      "_model_name": "HTMLModel",
      "_view_count": null,
      "_view_module": "@jupyter-widgets/controls",
      "_view_module_version": "1.5.0",
      "_view_name": "HTMLView",
      "description": "",
      "description_tooltip": null,
      "layout": "IPY_MODEL_267b8130e80d4cddaec7f8d883b037bc",
      "placeholder": "​",
      "style": "IPY_MODEL_476713c754fd44129c1f35ff1d07f5e0",
      "value": "Generating test split: 100%"
     }
    },
    "a019241a318242819dc9a0e11c201ed6": {
     "model_module": "@jupyter-widgets/controls",
     "model_module_version": "1.5.0",
     "model_name": "ProgressStyleModel",
     "state": {
      "_model_module": "@jupyter-widgets/controls",
      "_model_module_version": "1.5.0",
      "_model_name": "ProgressStyleModel",
      "_view_count": null,
      "_view_module": "@jupyter-widgets/base",
      "_view_module_version": "1.2.0",
      "_view_name": "StyleView",
      "bar_color": null,
      "description_width": ""
     }
    },
    "a061b6f4c9564f4f9720d49529db1520": {
     "model_module": "@jupyter-widgets/controls",
     "model_module_version": "1.5.0",
     "model_name": "HTMLModel",
     "state": {
      "_dom_classes": [],
      "_model_module": "@jupyter-widgets/controls",
      "_model_module_version": "1.5.0",
      "_model_name": "HTMLModel",
      "_view_count": null,
      "_view_module": "@jupyter-widgets/controls",
      "_view_module_version": "1.5.0",
      "_view_name": "HTMLView",
      "description": "",
      "description_tooltip": null,
      "layout": "IPY_MODEL_e66fc93fc63848599feb20f5934bc6b5",
      "placeholder": "​",
      "style": "IPY_MODEL_1cc1384fb7df45c29cbe710c56a5ff92",
      "value": "Extracting data files: 100%"
     }
    },
    "a0d4f2b1409e497ca4cbfbe11941c057": {
     "model_module": "@jupyter-widgets/controls",
     "model_module_version": "1.5.0",
     "model_name": "DescriptionStyleModel",
     "state": {
      "_model_module": "@jupyter-widgets/controls",
      "_model_module_version": "1.5.0",
      "_model_name": "DescriptionStyleModel",
      "_view_count": null,
      "_view_module": "@jupyter-widgets/base",
      "_view_module_version": "1.2.0",
      "_view_name": "StyleView",
      "description_width": ""
     }
    },
    "a30153942a2a41ff805e04e6c60e19ee": {
     "model_module": "@jupyter-widgets/controls",
     "model_module_version": "1.5.0",
     "model_name": "ProgressStyleModel",
     "state": {
      "_model_module": "@jupyter-widgets/controls",
      "_model_module_version": "1.5.0",
      "_model_name": "ProgressStyleModel",
      "_view_count": null,
      "_view_module": "@jupyter-widgets/base",
      "_view_module_version": "1.2.0",
      "_view_name": "StyleView",
      "bar_color": null,
      "description_width": ""
     }
    },
    "a39557cf33c941308a654a105d774f33": {
     "model_module": "@jupyter-widgets/controls",
     "model_module_version": "1.5.0",
     "model_name": "HBoxModel",
     "state": {
      "_dom_classes": [],
      "_model_module": "@jupyter-widgets/controls",
      "_model_module_version": "1.5.0",
      "_model_name": "HBoxModel",
      "_view_count": null,
      "_view_module": "@jupyter-widgets/controls",
      "_view_module_version": "1.5.0",
      "_view_name": "HBoxView",
      "box_style": "",
      "children": [
       "IPY_MODEL_e59fb1c628664a9ea6b4b159272c43f8",
       "IPY_MODEL_aa78350b83f9472d8b7cb6958b4b3106",
       "IPY_MODEL_21cb5fc3627044eaa65329ea75462c46"
      ],
      "layout": "IPY_MODEL_46fc6e68af644b3886bcb908ce1f11e0"
     }
    },
    "a8d48897b41d4c1a95ef3b4c5ddd24cb": {
     "model_module": "@jupyter-widgets/controls",
     "model_module_version": "1.5.0",
     "model_name": "ProgressStyleModel",
     "state": {
      "_model_module": "@jupyter-widgets/controls",
      "_model_module_version": "1.5.0",
      "_model_name": "ProgressStyleModel",
      "_view_count": null,
      "_view_module": "@jupyter-widgets/base",
      "_view_module_version": "1.2.0",
      "_view_name": "StyleView",
      "bar_color": null,
      "description_width": ""
     }
    },
    "aa78350b83f9472d8b7cb6958b4b3106": {
     "model_module": "@jupyter-widgets/controls",
     "model_module_version": "1.5.0",
     "model_name": "FloatProgressModel",
     "state": {
      "_dom_classes": [],
      "_model_module": "@jupyter-widgets/controls",
      "_model_module_version": "1.5.0",
      "_model_name": "FloatProgressModel",
      "_view_count": null,
      "_view_module": "@jupyter-widgets/controls",
      "_view_module_version": "1.5.0",
      "_view_name": "ProgressView",
      "bar_style": "success",
      "description": "",
      "description_tooltip": null,
      "layout": "IPY_MODEL_69143c91ef254d50a1214e38e0928e87",
      "max": 5000,
      "min": 0,
      "orientation": "horizontal",
      "style": "IPY_MODEL_ec8bb07e89d94d4087db156bc2ec814e",
      "value": 5000
     }
    },
    "ac6132c230134a66b7ecaf99e84c34f7": {
     "model_module": "@jupyter-widgets/controls",
     "model_module_version": "1.5.0",
     "model_name": "DescriptionStyleModel",
     "state": {
      "_model_module": "@jupyter-widgets/controls",
      "_model_module_version": "1.5.0",
      "_model_name": "DescriptionStyleModel",
      "_view_count": null,
      "_view_module": "@jupyter-widgets/base",
      "_view_module_version": "1.2.0",
      "_view_name": "StyleView",
      "description_width": ""
     }
    },
    "ae5104599c3f469d903c9f3bf40952c7": {
     "model_module": "@jupyter-widgets/base",
     "model_module_version": "1.2.0",
     "model_name": "LayoutModel",
     "state": {
      "_model_module": "@jupyter-widgets/base",
      "_model_module_version": "1.2.0",
      "_model_name": "LayoutModel",
      "_view_count": null,
      "_view_module": "@jupyter-widgets/base",
      "_view_module_version": "1.2.0",
      "_view_name": "LayoutView",
      "align_content": null,
      "align_items": null,
      "align_self": null,
      "border": null,
      "bottom": null,
      "display": null,
      "flex": null,
      "flex_flow": null,
      "grid_area": null,
      "grid_auto_columns": null,
      "grid_auto_flow": null,
      "grid_auto_rows": null,
      "grid_column": null,
      "grid_gap": null,
      "grid_row": null,
      "grid_template_areas": null,
      "grid_template_columns": null,
      "grid_template_rows": null,
      "height": null,
      "justify_content": null,
      "justify_items": null,
      "left": null,
      "margin": null,
      "max_height": null,
      "max_width": null,
      "min_height": null,
      "min_width": null,
      "object_fit": null,
      "object_position": null,
      "order": null,
      "overflow": null,
      "overflow_x": null,
      "overflow_y": null,
      "padding": null,
      "right": null,
      "top": null,
      "visibility": null,
      "width": null
     }
    },
    "aeaba8a20db44f028e902e1b132b0891": {
     "model_module": "@jupyter-widgets/base",
     "model_module_version": "1.2.0",
     "model_name": "LayoutModel",
     "state": {
      "_model_module": "@jupyter-widgets/base",
      "_model_module_version": "1.2.0",
      "_model_name": "LayoutModel",
      "_view_count": null,
      "_view_module": "@jupyter-widgets/base",
      "_view_module_version": "1.2.0",
      "_view_name": "LayoutView",
      "align_content": null,
      "align_items": null,
      "align_self": null,
      "border": null,
      "bottom": null,
      "display": null,
      "flex": null,
      "flex_flow": null,
      "grid_area": null,
      "grid_auto_columns": null,
      "grid_auto_flow": null,
      "grid_auto_rows": null,
      "grid_column": null,
      "grid_gap": null,
      "grid_row": null,
      "grid_template_areas": null,
      "grid_template_columns": null,
      "grid_template_rows": null,
      "height": null,
      "justify_content": null,
      "justify_items": null,
      "left": null,
      "margin": null,
      "max_height": null,
      "max_width": null,
      "min_height": null,
      "min_width": null,
      "object_fit": null,
      "object_position": null,
      "order": null,
      "overflow": null,
      "overflow_x": null,
      "overflow_y": null,
      "padding": null,
      "right": null,
      "top": null,
      "visibility": null,
      "width": null
     }
    },
    "b11044bea3de47c5870df17d7c12453c": {
     "model_module": "@jupyter-widgets/base",
     "model_module_version": "1.2.0",
     "model_name": "LayoutModel",
     "state": {
      "_model_module": "@jupyter-widgets/base",
      "_model_module_version": "1.2.0",
      "_model_name": "LayoutModel",
      "_view_count": null,
      "_view_module": "@jupyter-widgets/base",
      "_view_module_version": "1.2.0",
      "_view_name": "LayoutView",
      "align_content": null,
      "align_items": null,
      "align_self": null,
      "border": null,
      "bottom": null,
      "display": null,
      "flex": null,
      "flex_flow": null,
      "grid_area": null,
      "grid_auto_columns": null,
      "grid_auto_flow": null,
      "grid_auto_rows": null,
      "grid_column": null,
      "grid_gap": null,
      "grid_row": null,
      "grid_template_areas": null,
      "grid_template_columns": null,
      "grid_template_rows": null,
      "height": null,
      "justify_content": null,
      "justify_items": null,
      "left": null,
      "margin": null,
      "max_height": null,
      "max_width": null,
      "min_height": null,
      "min_width": null,
      "object_fit": null,
      "object_position": null,
      "order": null,
      "overflow": null,
      "overflow_x": null,
      "overflow_y": null,
      "padding": null,
      "right": null,
      "top": null,
      "visibility": null,
      "width": null
     }
    },
    "b41c4e60c8e2473582a1e4b3affb7af2": {
     "model_module": "@jupyter-widgets/controls",
     "model_module_version": "1.5.0",
     "model_name": "HTMLModel",
     "state": {
      "_dom_classes": [],
      "_model_module": "@jupyter-widgets/controls",
      "_model_module_version": "1.5.0",
      "_model_name": "HTMLModel",
      "_view_count": null,
      "_view_module": "@jupyter-widgets/controls",
      "_view_module_version": "1.5.0",
      "_view_name": "HTMLView",
      "description": "",
      "description_tooltip": null,
      "layout": "IPY_MODEL_f9560e882aaf43ce96ba0a35e6205e1d",
      "placeholder": "​",
      "style": "IPY_MODEL_457bd331826e4f3093957c6c2a0e2024",
      "value": "Downloading data files: 100%"
     }
    },
    "b4214841bdb74b0eb93ea6cc2f9b45d2": {
     "model_module": "@jupyter-widgets/base",
     "model_module_version": "1.2.0",
     "model_name": "LayoutModel",
     "state": {
      "_model_module": "@jupyter-widgets/base",
      "_model_module_version": "1.2.0",
      "_model_name": "LayoutModel",
      "_view_count": null,
      "_view_module": "@jupyter-widgets/base",
      "_view_module_version": "1.2.0",
      "_view_name": "LayoutView",
      "align_content": null,
      "align_items": null,
      "align_self": null,
      "border": null,
      "bottom": null,
      "display": null,
      "flex": null,
      "flex_flow": null,
      "grid_area": null,
      "grid_auto_columns": null,
      "grid_auto_flow": null,
      "grid_auto_rows": null,
      "grid_column": null,
      "grid_gap": null,
      "grid_row": null,
      "grid_template_areas": null,
      "grid_template_columns": null,
      "grid_template_rows": null,
      "height": null,
      "justify_content": null,
      "justify_items": null,
      "left": null,
      "margin": null,
      "max_height": null,
      "max_width": null,
      "min_height": null,
      "min_width": null,
      "object_fit": null,
      "object_position": null,
      "order": null,
      "overflow": null,
      "overflow_x": null,
      "overflow_y": null,
      "padding": null,
      "right": null,
      "top": null,
      "visibility": null,
      "width": null
     }
    },
    "b70ce31a0c624f3f98be1e59bc6fc4ed": {
     "model_module": "@jupyter-widgets/base",
     "model_module_version": "1.2.0",
     "model_name": "LayoutModel",
     "state": {
      "_model_module": "@jupyter-widgets/base",
      "_model_module_version": "1.2.0",
      "_model_name": "LayoutModel",
      "_view_count": null,
      "_view_module": "@jupyter-widgets/base",
      "_view_module_version": "1.2.0",
      "_view_name": "LayoutView",
      "align_content": null,
      "align_items": null,
      "align_self": null,
      "border": null,
      "bottom": null,
      "display": null,
      "flex": null,
      "flex_flow": null,
      "grid_area": null,
      "grid_auto_columns": null,
      "grid_auto_flow": null,
      "grid_auto_rows": null,
      "grid_column": null,
      "grid_gap": null,
      "grid_row": null,
      "grid_template_areas": null,
      "grid_template_columns": null,
      "grid_template_rows": null,
      "height": null,
      "justify_content": null,
      "justify_items": null,
      "left": null,
      "margin": null,
      "max_height": null,
      "max_width": null,
      "min_height": null,
      "min_width": null,
      "object_fit": null,
      "object_position": null,
      "order": null,
      "overflow": null,
      "overflow_x": null,
      "overflow_y": null,
      "padding": null,
      "right": null,
      "top": null,
      "visibility": null,
      "width": null
     }
    },
    "b86f6f4c96b844e89b81f07e26f3239d": {
     "model_module": "@jupyter-widgets/controls",
     "model_module_version": "1.5.0",
     "model_name": "HTMLModel",
     "state": {
      "_dom_classes": [],
      "_model_module": "@jupyter-widgets/controls",
      "_model_module_version": "1.5.0",
      "_model_name": "HTMLModel",
      "_view_count": null,
      "_view_module": "@jupyter-widgets/controls",
      "_view_module_version": "1.5.0",
      "_view_name": "HTMLView",
      "description": "",
      "description_tooltip": null,
      "layout": "IPY_MODEL_5a7c3e53904242d681eba2a65ffa28b9",
      "placeholder": "​",
      "style": "IPY_MODEL_d0bc2b704ea34e50b824d50c0f9b7934",
      "value": "Extracting data files: 100%"
     }
    },
    "b991aa54bb86411da986f5a5132ccbbd": {
     "model_module": "@jupyter-widgets/controls",
     "model_module_version": "1.5.0",
     "model_name": "HTMLModel",
     "state": {
      "_dom_classes": [],
      "_model_module": "@jupyter-widgets/controls",
      "_model_module_version": "1.5.0",
      "_model_name": "HTMLModel",
      "_view_count": null,
      "_view_module": "@jupyter-widgets/controls",
      "_view_module_version": "1.5.0",
      "_view_name": "HTMLView",
      "description": "",
      "description_tooltip": null,
      "layout": "IPY_MODEL_5311f4c350184802a5bb5bc97ff9ed53",
      "placeholder": "​",
      "style": "IPY_MODEL_73fb6805bed945b1bd6ccdfb428ace2f",
      "value": " 1.80M/1.80M [00:00&lt;00:00, 5.01MB/s]"
     }
    },
    "ba78fddf9d8641e6ba0b471102367f39": {
     "model_module": "@jupyter-widgets/base",
     "model_module_version": "1.2.0",
     "model_name": "LayoutModel",
     "state": {
      "_model_module": "@jupyter-widgets/base",
      "_model_module_version": "1.2.0",
      "_model_name": "LayoutModel",
      "_view_count": null,
      "_view_module": "@jupyter-widgets/base",
      "_view_module_version": "1.2.0",
      "_view_name": "LayoutView",
      "align_content": null,
      "align_items": null,
      "align_self": null,
      "border": null,
      "bottom": null,
      "display": null,
      "flex": null,
      "flex_flow": null,
      "grid_area": null,
      "grid_auto_columns": null,
      "grid_auto_flow": null,
      "grid_auto_rows": null,
      "grid_column": null,
      "grid_gap": null,
      "grid_row": null,
      "grid_template_areas": null,
      "grid_template_columns": null,
      "grid_template_rows": null,
      "height": null,
      "justify_content": null,
      "justify_items": null,
      "left": null,
      "margin": null,
      "max_height": null,
      "max_width": null,
      "min_height": null,
      "min_width": null,
      "object_fit": null,
      "object_position": null,
      "order": null,
      "overflow": null,
      "overflow_x": null,
      "overflow_y": null,
      "padding": null,
      "right": null,
      "top": null,
      "visibility": null,
      "width": null
     }
    },
    "c0d307cda32a4df7910d39b6b5ef15f9": {
     "model_module": "@jupyter-widgets/base",
     "model_module_version": "1.2.0",
     "model_name": "LayoutModel",
     "state": {
      "_model_module": "@jupyter-widgets/base",
      "_model_module_version": "1.2.0",
      "_model_name": "LayoutModel",
      "_view_count": null,
      "_view_module": "@jupyter-widgets/base",
      "_view_module_version": "1.2.0",
      "_view_name": "LayoutView",
      "align_content": null,
      "align_items": null,
      "align_self": null,
      "border": null,
      "bottom": null,
      "display": null,
      "flex": null,
      "flex_flow": null,
      "grid_area": null,
      "grid_auto_columns": null,
      "grid_auto_flow": null,
      "grid_auto_rows": null,
      "grid_column": null,
      "grid_gap": null,
      "grid_row": null,
      "grid_template_areas": null,
      "grid_template_columns": null,
      "grid_template_rows": null,
      "height": null,
      "justify_content": null,
      "justify_items": null,
      "left": null,
      "margin": null,
      "max_height": null,
      "max_width": null,
      "min_height": null,
      "min_width": null,
      "object_fit": null,
      "object_position": null,
      "order": null,
      "overflow": null,
      "overflow_x": null,
      "overflow_y": null,
      "padding": null,
      "right": null,
      "top": null,
      "visibility": null,
      "width": null
     }
    },
    "c570a1a465494ce5b0a58283436dbd2a": {
     "model_module": "@jupyter-widgets/controls",
     "model_module_version": "1.5.0",
     "model_name": "FloatProgressModel",
     "state": {
      "_dom_classes": [],
      "_model_module": "@jupyter-widgets/controls",
      "_model_module_version": "1.5.0",
      "_model_name": "FloatProgressModel",
      "_view_count": null,
      "_view_module": "@jupyter-widgets/controls",
      "_view_module_version": "1.5.0",
      "_view_name": "ProgressView",
      "bar_style": "success",
      "description": "",
      "description_tooltip": null,
      "layout": "IPY_MODEL_1da0c0fad3b34b56b59ecbbd00daa736",
      "max": 200000,
      "min": 0,
      "orientation": "horizontal",
      "style": "IPY_MODEL_1507e066c5354a4aa21e8ddc78720ea0",
      "value": 200000
     }
    },
    "c576b687df9d4755b0d4f2d80ae4196b": {
     "model_module": "@jupyter-widgets/controls",
     "model_module_version": "1.5.0",
     "model_name": "FloatProgressModel",
     "state": {
      "_dom_classes": [],
      "_model_module": "@jupyter-widgets/controls",
      "_model_module_version": "1.5.0",
      "_model_name": "FloatProgressModel",
      "_view_count": null,
      "_view_module": "@jupyter-widgets/controls",
      "_view_module_version": "1.5.0",
      "_view_name": "ProgressView",
      "bar_style": "success",
      "description": "",
      "description_tooltip": null,
      "layout": "IPY_MODEL_eb674ac6f8df4eba87f6218f52d31bb0",
      "max": 1,
      "min": 0,
      "orientation": "horizontal",
      "style": "IPY_MODEL_a8d48897b41d4c1a95ef3b4c5ddd24cb",
      "value": 1
     }
    },
    "c89fb36091e74e39be05ca3beb6bdedf": {
     "model_module": "@jupyter-widgets/controls",
     "model_module_version": "1.5.0",
     "model_name": "ProgressStyleModel",
     "state": {
      "_model_module": "@jupyter-widgets/controls",
      "_model_module_version": "1.5.0",
      "_model_name": "ProgressStyleModel",
      "_view_count": null,
      "_view_module": "@jupyter-widgets/base",
      "_view_module_version": "1.2.0",
      "_view_name": "StyleView",
      "bar_color": null,
      "description_width": ""
     }
    },
    "c92d9739bc6049fe89bc31ecc7209253": {
     "model_module": "@jupyter-widgets/base",
     "model_module_version": "1.2.0",
     "model_name": "LayoutModel",
     "state": {
      "_model_module": "@jupyter-widgets/base",
      "_model_module_version": "1.2.0",
      "_model_name": "LayoutModel",
      "_view_count": null,
      "_view_module": "@jupyter-widgets/base",
      "_view_module_version": "1.2.0",
      "_view_name": "LayoutView",
      "align_content": null,
      "align_items": null,
      "align_self": null,
      "border": null,
      "bottom": null,
      "display": null,
      "flex": null,
      "flex_flow": null,
      "grid_area": null,
      "grid_auto_columns": null,
      "grid_auto_flow": null,
      "grid_auto_rows": null,
      "grid_column": null,
      "grid_gap": null,
      "grid_row": null,
      "grid_template_areas": null,
      "grid_template_columns": null,
      "grid_template_rows": null,
      "height": null,
      "justify_content": null,
      "justify_items": null,
      "left": null,
      "margin": null,
      "max_height": null,
      "max_width": null,
      "min_height": null,
      "min_width": null,
      "object_fit": null,
      "object_position": null,
      "order": null,
      "overflow": null,
      "overflow_x": null,
      "overflow_y": null,
      "padding": null,
      "right": null,
      "top": null,
      "visibility": null,
      "width": null
     }
    },
    "c9f026fe5ad84912828ce8f1db67a47d": {
     "model_module": "@jupyter-widgets/controls",
     "model_module_version": "1.5.0",
     "model_name": "DescriptionStyleModel",
     "state": {
      "_model_module": "@jupyter-widgets/controls",
      "_model_module_version": "1.5.0",
      "_model_name": "DescriptionStyleModel",
      "_view_count": null,
      "_view_module": "@jupyter-widgets/base",
      "_view_module_version": "1.2.0",
      "_view_name": "StyleView",
      "description_width": ""
     }
    },
    "ce667df141a24d0a96892cfee8b79d27": {
     "model_module": "@jupyter-widgets/base",
     "model_module_version": "1.2.0",
     "model_name": "LayoutModel",
     "state": {
      "_model_module": "@jupyter-widgets/base",
      "_model_module_version": "1.2.0",
      "_model_name": "LayoutModel",
      "_view_count": null,
      "_view_module": "@jupyter-widgets/base",
      "_view_module_version": "1.2.0",
      "_view_name": "LayoutView",
      "align_content": null,
      "align_items": null,
      "align_self": null,
      "border": null,
      "bottom": null,
      "display": null,
      "flex": null,
      "flex_flow": null,
      "grid_area": null,
      "grid_auto_columns": null,
      "grid_auto_flow": null,
      "grid_auto_rows": null,
      "grid_column": null,
      "grid_gap": null,
      "grid_row": null,
      "grid_template_areas": null,
      "grid_template_columns": null,
      "grid_template_rows": null,
      "height": null,
      "justify_content": null,
      "justify_items": null,
      "left": null,
      "margin": null,
      "max_height": null,
      "max_width": null,
      "min_height": null,
      "min_width": null,
      "object_fit": null,
      "object_position": null,
      "order": null,
      "overflow": null,
      "overflow_x": null,
      "overflow_y": null,
      "padding": null,
      "right": null,
      "top": null,
      "visibility": null,
      "width": null
     }
    },
    "ce76667eca8e4f80aea466cb5cd8588f": {
     "model_module": "@jupyter-widgets/controls",
     "model_module_version": "1.5.0",
     "model_name": "FloatProgressModel",
     "state": {
      "_dom_classes": [],
      "_model_module": "@jupyter-widgets/controls",
      "_model_module_version": "1.5.0",
      "_model_name": "FloatProgressModel",
      "_view_count": null,
      "_view_module": "@jupyter-widgets/controls",
      "_view_module_version": "1.5.0",
      "_view_name": "ProgressView",
      "bar_style": "success",
      "description": "",
      "description_tooltip": null,
      "layout": "IPY_MODEL_636ba6a309ca4f80a801a7c5956ff45a",
      "max": 72182745,
      "min": 0,
      "orientation": "horizontal",
      "style": "IPY_MODEL_75e4fe92238b4668897a9b942179c6df",
      "value": 72182745
     }
    },
    "d0bc2b704ea34e50b824d50c0f9b7934": {
     "model_module": "@jupyter-widgets/controls",
     "model_module_version": "1.5.0",
     "model_name": "DescriptionStyleModel",
     "state": {
      "_model_module": "@jupyter-widgets/controls",
      "_model_module_version": "1.5.0",
      "_model_name": "DescriptionStyleModel",
      "_view_count": null,
      "_view_module": "@jupyter-widgets/base",
      "_view_module_version": "1.2.0",
      "_view_name": "StyleView",
      "description_width": ""
     }
    },
    "d4c1a351eb394eb7a610a58b25892dab": {
     "model_module": "@jupyter-widgets/controls",
     "model_module_version": "1.5.0",
     "model_name": "HTMLModel",
     "state": {
      "_dom_classes": [],
      "_model_module": "@jupyter-widgets/controls",
      "_model_module_version": "1.5.0",
      "_model_name": "HTMLModel",
      "_view_count": null,
      "_view_module": "@jupyter-widgets/controls",
      "_view_module_version": "1.5.0",
      "_view_name": "HTMLView",
      "description": "",
      "description_tooltip": null,
      "layout": "IPY_MODEL_ea173863b2004a2b8bf69991ab1c6ff5",
      "placeholder": "​",
      "style": "IPY_MODEL_ac6132c230134a66b7ecaf99e84c34f7",
      "value": "Downloading data: 100%"
     }
    },
    "d4d4dae0e6c944e7955a3a6c3169e4f6": {
     "model_module": "@jupyter-widgets/controls",
     "model_module_version": "1.5.0",
     "model_name": "HBoxModel",
     "state": {
      "_dom_classes": [],
      "_model_module": "@jupyter-widgets/controls",
      "_model_module_version": "1.5.0",
      "_model_name": "HBoxModel",
      "_view_count": null,
      "_view_module": "@jupyter-widgets/controls",
      "_view_module_version": "1.5.0",
      "_view_name": "HBoxView",
      "box_style": "",
      "children": [
       "IPY_MODEL_1696c7d7521d47779231d9e4023b59fb",
       "IPY_MODEL_c570a1a465494ce5b0a58283436dbd2a",
       "IPY_MODEL_6925a17d80b14dc7a94d4956e8c8c897"
      ],
      "layout": "IPY_MODEL_9d2680cd810d466eacdb85af65f0730f"
     }
    },
    "d9c25c44d7834e20966deb2d25105e8e": {
     "model_module": "@jupyter-widgets/controls",
     "model_module_version": "1.5.0",
     "model_name": "HTMLModel",
     "state": {
      "_dom_classes": [],
      "_model_module": "@jupyter-widgets/controls",
      "_model_module_version": "1.5.0",
      "_model_name": "HTMLModel",
      "_view_count": null,
      "_view_module": "@jupyter-widgets/controls",
      "_view_module_version": "1.5.0",
      "_view_name": "HTMLView",
      "description": "",
      "description_tooltip": null,
      "layout": "IPY_MODEL_45abf2e73e5e41aea7664d6e31042f95",
      "placeholder": "​",
      "style": "IPY_MODEL_c9f026fe5ad84912828ce8f1db67a47d",
      "value": " 1/1 [00:00&lt;00:00, 16.82it/s]"
     }
    },
    "dbb7d9b8388a42f680d56f280db0a37f": {
     "model_module": "@jupyter-widgets/base",
     "model_module_version": "1.2.0",
     "model_name": "LayoutModel",
     "state": {
      "_model_module": "@jupyter-widgets/base",
      "_model_module_version": "1.2.0",
      "_model_name": "LayoutModel",
      "_view_count": null,
      "_view_module": "@jupyter-widgets/base",
      "_view_module_version": "1.2.0",
      "_view_name": "LayoutView",
      "align_content": null,
      "align_items": null,
      "align_self": null,
      "border": null,
      "bottom": null,
      "display": null,
      "flex": null,
      "flex_flow": null,
      "grid_area": null,
      "grid_auto_columns": null,
      "grid_auto_flow": null,
      "grid_auto_rows": null,
      "grid_column": null,
      "grid_gap": null,
      "grid_row": null,
      "grid_template_areas": null,
      "grid_template_columns": null,
      "grid_template_rows": null,
      "height": null,
      "justify_content": null,
      "justify_items": null,
      "left": null,
      "margin": null,
      "max_height": null,
      "max_width": null,
      "min_height": null,
      "min_width": null,
      "object_fit": null,
      "object_position": null,
      "order": null,
      "overflow": null,
      "overflow_x": null,
      "overflow_y": null,
      "padding": null,
      "right": null,
      "top": null,
      "visibility": null,
      "width": null
     }
    },
    "de34f779c56742a3a1eb4de580090b27": {
     "model_module": "@jupyter-widgets/base",
     "model_module_version": "1.2.0",
     "model_name": "LayoutModel",
     "state": {
      "_model_module": "@jupyter-widgets/base",
      "_model_module_version": "1.2.0",
      "_model_name": "LayoutModel",
      "_view_count": null,
      "_view_module": "@jupyter-widgets/base",
      "_view_module_version": "1.2.0",
      "_view_name": "LayoutView",
      "align_content": null,
      "align_items": null,
      "align_self": null,
      "border": null,
      "bottom": null,
      "display": null,
      "flex": null,
      "flex_flow": null,
      "grid_area": null,
      "grid_auto_columns": null,
      "grid_auto_flow": null,
      "grid_auto_rows": null,
      "grid_column": null,
      "grid_gap": null,
      "grid_row": null,
      "grid_template_areas": null,
      "grid_template_columns": null,
      "grid_template_rows": null,
      "height": null,
      "justify_content": null,
      "justify_items": null,
      "left": null,
      "margin": null,
      "max_height": null,
      "max_width": null,
      "min_height": null,
      "min_width": null,
      "object_fit": null,
      "object_position": null,
      "order": null,
      "overflow": null,
      "overflow_x": null,
      "overflow_y": null,
      "padding": null,
      "right": null,
      "top": null,
      "visibility": null,
      "width": null
     }
    },
    "df35dd489eb74ebe9a0a26eab3c9b65a": {
     "model_module": "@jupyter-widgets/base",
     "model_module_version": "1.2.0",
     "model_name": "LayoutModel",
     "state": {
      "_model_module": "@jupyter-widgets/base",
      "_model_module_version": "1.2.0",
      "_model_name": "LayoutModel",
      "_view_count": null,
      "_view_module": "@jupyter-widgets/base",
      "_view_module_version": "1.2.0",
      "_view_name": "LayoutView",
      "align_content": null,
      "align_items": null,
      "align_self": null,
      "border": null,
      "bottom": null,
      "display": null,
      "flex": null,
      "flex_flow": null,
      "grid_area": null,
      "grid_auto_columns": null,
      "grid_auto_flow": null,
      "grid_auto_rows": null,
      "grid_column": null,
      "grid_gap": null,
      "grid_row": null,
      "grid_template_areas": null,
      "grid_template_columns": null,
      "grid_template_rows": null,
      "height": null,
      "justify_content": null,
      "justify_items": null,
      "left": null,
      "margin": null,
      "max_height": null,
      "max_width": null,
      "min_height": null,
      "min_width": null,
      "object_fit": null,
      "object_position": null,
      "order": null,
      "overflow": null,
      "overflow_x": null,
      "overflow_y": null,
      "padding": null,
      "right": null,
      "top": null,
      "visibility": null,
      "width": null
     }
    },
    "df5ce70115b94e65ad1a1a72ed2e9e13": {
     "model_module": "@jupyter-widgets/base",
     "model_module_version": "1.2.0",
     "model_name": "LayoutModel",
     "state": {
      "_model_module": "@jupyter-widgets/base",
      "_model_module_version": "1.2.0",
      "_model_name": "LayoutModel",
      "_view_count": null,
      "_view_module": "@jupyter-widgets/base",
      "_view_module_version": "1.2.0",
      "_view_name": "LayoutView",
      "align_content": null,
      "align_items": null,
      "align_self": null,
      "border": null,
      "bottom": null,
      "display": null,
      "flex": null,
      "flex_flow": null,
      "grid_area": null,
      "grid_auto_columns": null,
      "grid_auto_flow": null,
      "grid_auto_rows": null,
      "grid_column": null,
      "grid_gap": null,
      "grid_row": null,
      "grid_template_areas": null,
      "grid_template_columns": null,
      "grid_template_rows": null,
      "height": null,
      "justify_content": null,
      "justify_items": null,
      "left": null,
      "margin": null,
      "max_height": null,
      "max_width": null,
      "min_height": null,
      "min_width": null,
      "object_fit": null,
      "object_position": null,
      "order": null,
      "overflow": null,
      "overflow_x": null,
      "overflow_y": null,
      "padding": null,
      "right": null,
      "top": null,
      "visibility": null,
      "width": null
     }
    },
    "e0be3d24ed0246f2a0e5fae1f59d1b87": {
     "model_module": "@jupyter-widgets/base",
     "model_module_version": "1.2.0",
     "model_name": "LayoutModel",
     "state": {
      "_model_module": "@jupyter-widgets/base",
      "_model_module_version": "1.2.0",
      "_model_name": "LayoutModel",
      "_view_count": null,
      "_view_module": "@jupyter-widgets/base",
      "_view_module_version": "1.2.0",
      "_view_name": "LayoutView",
      "align_content": null,
      "align_items": null,
      "align_self": null,
      "border": null,
      "bottom": null,
      "display": null,
      "flex": null,
      "flex_flow": null,
      "grid_area": null,
      "grid_auto_columns": null,
      "grid_auto_flow": null,
      "grid_auto_rows": null,
      "grid_column": null,
      "grid_gap": null,
      "grid_row": null,
      "grid_template_areas": null,
      "grid_template_columns": null,
      "grid_template_rows": null,
      "height": null,
      "justify_content": null,
      "justify_items": null,
      "left": null,
      "margin": null,
      "max_height": null,
      "max_width": null,
      "min_height": null,
      "min_width": null,
      "object_fit": null,
      "object_position": null,
      "order": null,
      "overflow": null,
      "overflow_x": null,
      "overflow_y": null,
      "padding": null,
      "right": null,
      "top": null,
      "visibility": null,
      "width": null
     }
    },
    "e0dc0ab4618f473c9be223ea65682733": {
     "model_module": "@jupyter-widgets/controls",
     "model_module_version": "1.5.0",
     "model_name": "HTMLModel",
     "state": {
      "_dom_classes": [],
      "_model_module": "@jupyter-widgets/controls",
      "_model_module_version": "1.5.0",
      "_model_name": "HTMLModel",
      "_view_count": null,
      "_view_module": "@jupyter-widgets/controls",
      "_view_module_version": "1.5.0",
      "_view_name": "HTMLView",
      "description": "",
      "description_tooltip": null,
      "layout": "IPY_MODEL_539a821e36724423983e536fea129218",
      "placeholder": "​",
      "style": "IPY_MODEL_4af2ca6031354e868761ef484ad63af7",
      "value": " 1.81M/1.81M [00:00&lt;00:00, 1.14MB/s]"
     }
    },
    "e0e297ddd570434aa9733f5f1f1ceb66": {
     "model_module": "@jupyter-widgets/controls",
     "model_module_version": "1.5.0",
     "model_name": "FloatProgressModel",
     "state": {
      "_dom_classes": [],
      "_model_module": "@jupyter-widgets/controls",
      "_model_module_version": "1.5.0",
      "_model_name": "FloatProgressModel",
      "_view_count": null,
      "_view_module": "@jupyter-widgets/controls",
      "_view_module_version": "1.5.0",
      "_view_name": "ProgressView",
      "bar_style": "success",
      "description": "",
      "description_tooltip": null,
      "layout": "IPY_MODEL_84ff430b3fdc47128fb9e7c6933a341e",
      "max": 7108,
      "min": 0,
      "orientation": "horizontal",
      "style": "IPY_MODEL_1c100a4f3e894525b8e66ebc8ad57c37",
      "value": 7108
     }
    },
    "e368944ae304420cafca94198cd86bf1": {
     "model_module": "@jupyter-widgets/controls",
     "model_module_version": "1.5.0",
     "model_name": "FloatProgressModel",
     "state": {
      "_dom_classes": [],
      "_model_module": "@jupyter-widgets/controls",
      "_model_module_version": "1.5.0",
      "_model_name": "FloatProgressModel",
      "_view_count": null,
      "_view_module": "@jupyter-widgets/controls",
      "_view_module_version": "1.5.0",
      "_view_name": "ProgressView",
      "bar_style": "success",
      "description": "",
      "description_tooltip": null,
      "layout": "IPY_MODEL_e0be3d24ed0246f2a0e5fae1f59d1b87",
      "max": 1807507,
      "min": 0,
      "orientation": "horizontal",
      "style": "IPY_MODEL_187c8e307f324eb898ef2bccdf3ef900",
      "value": 1807507
     }
    },
    "e3d3ffe588a5493e8fb8bb4b3862dd10": {
     "model_module": "@jupyter-widgets/controls",
     "model_module_version": "1.5.0",
     "model_name": "HBoxModel",
     "state": {
      "_dom_classes": [],
      "_model_module": "@jupyter-widgets/controls",
      "_model_module_version": "1.5.0",
      "_model_name": "HBoxModel",
      "_view_count": null,
      "_view_module": "@jupyter-widgets/controls",
      "_view_module_version": "1.5.0",
      "_view_name": "HBoxView",
      "box_style": "",
      "children": [
       "IPY_MODEL_3a8a5206e28e47cda83460e470647daf",
       "IPY_MODEL_f8f677ae54ee49a7b39633c6aa6470c9",
       "IPY_MODEL_4ee64637bda54b26b0d90c54c55f27e4"
      ],
      "layout": "IPY_MODEL_06e5588398c94ed6a81066d0c7284224"
     }
    },
    "e3e5071199e34abda8af7fa79571dc37": {
     "model_module": "@jupyter-widgets/controls",
     "model_module_version": "1.5.0",
     "model_name": "DescriptionStyleModel",
     "state": {
      "_model_module": "@jupyter-widgets/controls",
      "_model_module_version": "1.5.0",
      "_model_name": "DescriptionStyleModel",
      "_view_count": null,
      "_view_module": "@jupyter-widgets/base",
      "_view_module_version": "1.2.0",
      "_view_name": "StyleView",
      "description_width": ""
     }
    },
    "e59fb1c628664a9ea6b4b159272c43f8": {
     "model_module": "@jupyter-widgets/controls",
     "model_module_version": "1.5.0",
     "model_name": "HTMLModel",
     "state": {
      "_dom_classes": [],
      "_model_module": "@jupyter-widgets/controls",
      "_model_module_version": "1.5.0",
      "_model_name": "HTMLModel",
      "_view_count": null,
      "_view_module": "@jupyter-widgets/controls",
      "_view_module_version": "1.5.0",
      "_view_name": "HTMLView",
      "description": "",
      "description_tooltip": null,
      "layout": "IPY_MODEL_7f579af2c23e4bb993f1894c240b45e0",
      "placeholder": "​",
      "style": "IPY_MODEL_1dabf09c30324b9fbdf896669da99511",
      "value": "Generating validation split: 100%"
     }
    },
    "e66fc93fc63848599feb20f5934bc6b5": {
     "model_module": "@jupyter-widgets/base",
     "model_module_version": "1.2.0",
     "model_name": "LayoutModel",
     "state": {
      "_model_module": "@jupyter-widgets/base",
      "_model_module_version": "1.2.0",
      "_model_name": "LayoutModel",
      "_view_count": null,
      "_view_module": "@jupyter-widgets/base",
      "_view_module_version": "1.2.0",
      "_view_name": "LayoutView",
      "align_content": null,
      "align_items": null,
      "align_self": null,
      "border": null,
      "bottom": null,
      "display": null,
      "flex": null,
      "flex_flow": null,
      "grid_area": null,
      "grid_auto_columns": null,
      "grid_auto_flow": null,
      "grid_auto_rows": null,
      "grid_column": null,
      "grid_gap": null,
      "grid_row": null,
      "grid_template_areas": null,
      "grid_template_columns": null,
      "grid_template_rows": null,
      "height": null,
      "justify_content": null,
      "justify_items": null,
      "left": null,
      "margin": null,
      "max_height": null,
      "max_width": null,
      "min_height": null,
      "min_width": null,
      "object_fit": null,
      "object_position": null,
      "order": null,
      "overflow": null,
      "overflow_x": null,
      "overflow_y": null,
      "padding": null,
      "right": null,
      "top": null,
      "visibility": null,
      "width": null
     }
    },
    "e9edbcc576814407a3068ac9af3ddbd3": {
     "model_module": "@jupyter-widgets/controls",
     "model_module_version": "1.5.0",
     "model_name": "DescriptionStyleModel",
     "state": {
      "_model_module": "@jupyter-widgets/controls",
      "_model_module_version": "1.5.0",
      "_model_name": "DescriptionStyleModel",
      "_view_count": null,
      "_view_module": "@jupyter-widgets/base",
      "_view_module_version": "1.2.0",
      "_view_name": "StyleView",
      "description_width": ""
     }
    },
    "ea173863b2004a2b8bf69991ab1c6ff5": {
     "model_module": "@jupyter-widgets/base",
     "model_module_version": "1.2.0",
     "model_name": "LayoutModel",
     "state": {
      "_model_module": "@jupyter-widgets/base",
      "_model_module_version": "1.2.0",
      "_model_name": "LayoutModel",
      "_view_count": null,
      "_view_module": "@jupyter-widgets/base",
      "_view_module_version": "1.2.0",
      "_view_name": "LayoutView",
      "align_content": null,
      "align_items": null,
      "align_self": null,
      "border": null,
      "bottom": null,
      "display": null,
      "flex": null,
      "flex_flow": null,
      "grid_area": null,
      "grid_auto_columns": null,
      "grid_auto_flow": null,
      "grid_auto_rows": null,
      "grid_column": null,
      "grid_gap": null,
      "grid_row": null,
      "grid_template_areas": null,
      "grid_template_columns": null,
      "grid_template_rows": null,
      "height": null,
      "justify_content": null,
      "justify_items": null,
      "left": null,
      "margin": null,
      "max_height": null,
      "max_width": null,
      "min_height": null,
      "min_width": null,
      "object_fit": null,
      "object_position": null,
      "order": null,
      "overflow": null,
      "overflow_x": null,
      "overflow_y": null,
      "padding": null,
      "right": null,
      "top": null,
      "visibility": null,
      "width": null
     }
    },
    "ea4c5573d610482f9c381b02ad349184": {
     "model_module": "@jupyter-widgets/controls",
     "model_module_version": "1.5.0",
     "model_name": "FloatProgressModel",
     "state": {
      "_dom_classes": [],
      "_model_module": "@jupyter-widgets/controls",
      "_model_module_version": "1.5.0",
      "_model_name": "FloatProgressModel",
      "_view_count": null,
      "_view_module": "@jupyter-widgets/controls",
      "_view_module_version": "1.5.0",
      "_view_name": "ProgressView",
      "bar_style": "success",
      "description": "",
      "description_tooltip": null,
      "layout": "IPY_MODEL_3b8af8f4c05d4b7f87892634673652b1",
      "max": 1,
      "min": 0,
      "orientation": "horizontal",
      "style": "IPY_MODEL_a019241a318242819dc9a0e11c201ed6",
      "value": 1
     }
    },
    "eb674ac6f8df4eba87f6218f52d31bb0": {
     "model_module": "@jupyter-widgets/base",
     "model_module_version": "1.2.0",
     "model_name": "LayoutModel",
     "state": {
      "_model_module": "@jupyter-widgets/base",
      "_model_module_version": "1.2.0",
      "_model_name": "LayoutModel",
      "_view_count": null,
      "_view_module": "@jupyter-widgets/base",
      "_view_module_version": "1.2.0",
      "_view_name": "LayoutView",
      "align_content": null,
      "align_items": null,
      "align_self": null,
      "border": null,
      "bottom": null,
      "display": null,
      "flex": null,
      "flex_flow": null,
      "grid_area": null,
      "grid_auto_columns": null,
      "grid_auto_flow": null,
      "grid_auto_rows": null,
      "grid_column": null,
      "grid_gap": null,
      "grid_row": null,
      "grid_template_areas": null,
      "grid_template_columns": null,
      "grid_template_rows": null,
      "height": null,
      "justify_content": null,
      "justify_items": null,
      "left": null,
      "margin": null,
      "max_height": null,
      "max_width": null,
      "min_height": null,
      "min_width": null,
      "object_fit": null,
      "object_position": null,
      "order": null,
      "overflow": null,
      "overflow_x": null,
      "overflow_y": null,
      "padding": null,
      "right": null,
      "top": null,
      "visibility": null,
      "width": null
     }
    },
    "ec8bb07e89d94d4087db156bc2ec814e": {
     "model_module": "@jupyter-widgets/controls",
     "model_module_version": "1.5.0",
     "model_name": "ProgressStyleModel",
     "state": {
      "_model_module": "@jupyter-widgets/controls",
      "_model_module_version": "1.5.0",
      "_model_name": "ProgressStyleModel",
      "_view_count": null,
      "_view_module": "@jupyter-widgets/base",
      "_view_module_version": "1.2.0",
      "_view_name": "StyleView",
      "bar_color": null,
      "description_width": ""
     }
    },
    "edf20283cd6f45669e1e4e737d29992f": {
     "model_module": "@jupyter-widgets/controls",
     "model_module_version": "1.5.0",
     "model_name": "DescriptionStyleModel",
     "state": {
      "_model_module": "@jupyter-widgets/controls",
      "_model_module_version": "1.5.0",
      "_model_name": "DescriptionStyleModel",
      "_view_count": null,
      "_view_module": "@jupyter-widgets/base",
      "_view_module_version": "1.2.0",
      "_view_name": "StyleView",
      "description_width": ""
     }
    },
    "eea6a8737b7e46f48655d13d8772b9bd": {
     "model_module": "@jupyter-widgets/controls",
     "model_module_version": "1.5.0",
     "model_name": "HTMLModel",
     "state": {
      "_dom_classes": [],
      "_model_module": "@jupyter-widgets/controls",
      "_model_module_version": "1.5.0",
      "_model_name": "HTMLModel",
      "_view_count": null,
      "_view_module": "@jupyter-widgets/controls",
      "_view_module_version": "1.5.0",
      "_view_name": "HTMLView",
      "description": "",
      "description_tooltip": null,
      "layout": "IPY_MODEL_c92d9739bc6049fe89bc31ecc7209253",
      "placeholder": "​",
      "style": "IPY_MODEL_48ec22d6a8b8453ea758fb45cd95f96a",
      "value": "Downloading readme: 100%"
     }
    },
    "eeb6fdf53e83499d967556b8cd1cac6c": {
     "model_module": "@jupyter-widgets/base",
     "model_module_version": "1.2.0",
     "model_name": "LayoutModel",
     "state": {
      "_model_module": "@jupyter-widgets/base",
      "_model_module_version": "1.2.0",
      "_model_name": "LayoutModel",
      "_view_count": null,
      "_view_module": "@jupyter-widgets/base",
      "_view_module_version": "1.2.0",
      "_view_name": "LayoutView",
      "align_content": null,
      "align_items": null,
      "align_self": null,
      "border": null,
      "bottom": null,
      "display": null,
      "flex": null,
      "flex_flow": null,
      "grid_area": null,
      "grid_auto_columns": null,
      "grid_auto_flow": null,
      "grid_auto_rows": null,
      "grid_column": null,
      "grid_gap": null,
      "grid_row": null,
      "grid_template_areas": null,
      "grid_template_columns": null,
      "grid_template_rows": null,
      "height": null,
      "justify_content": null,
      "justify_items": null,
      "left": null,
      "margin": null,
      "max_height": null,
      "max_width": null,
      "min_height": null,
      "min_width": null,
      "object_fit": null,
      "object_position": null,
      "order": null,
      "overflow": null,
      "overflow_x": null,
      "overflow_y": null,
      "padding": null,
      "right": null,
      "top": null,
      "visibility": null,
      "width": null
     }
    },
    "ef550b2e30c5482285d282c9522faa0f": {
     "model_module": "@jupyter-widgets/base",
     "model_module_version": "1.2.0",
     "model_name": "LayoutModel",
     "state": {
      "_model_module": "@jupyter-widgets/base",
      "_model_module_version": "1.2.0",
      "_model_name": "LayoutModel",
      "_view_count": null,
      "_view_module": "@jupyter-widgets/base",
      "_view_module_version": "1.2.0",
      "_view_name": "LayoutView",
      "align_content": null,
      "align_items": null,
      "align_self": null,
      "border": null,
      "bottom": null,
      "display": null,
      "flex": null,
      "flex_flow": null,
      "grid_area": null,
      "grid_auto_columns": null,
      "grid_auto_flow": null,
      "grid_auto_rows": null,
      "grid_column": null,
      "grid_gap": null,
      "grid_row": null,
      "grid_template_areas": null,
      "grid_template_columns": null,
      "grid_template_rows": null,
      "height": null,
      "justify_content": null,
      "justify_items": null,
      "left": null,
      "margin": null,
      "max_height": null,
      "max_width": null,
      "min_height": null,
      "min_width": null,
      "object_fit": null,
      "object_position": null,
      "order": null,
      "overflow": null,
      "overflow_x": null,
      "overflow_y": null,
      "padding": null,
      "right": null,
      "top": null,
      "visibility": null,
      "width": null
     }
    },
    "efe12c724daa4af990af83d5be7de666": {
     "model_module": "@jupyter-widgets/base",
     "model_module_version": "1.2.0",
     "model_name": "LayoutModel",
     "state": {
      "_model_module": "@jupyter-widgets/base",
      "_model_module_version": "1.2.0",
      "_model_name": "LayoutModel",
      "_view_count": null,
      "_view_module": "@jupyter-widgets/base",
      "_view_module_version": "1.2.0",
      "_view_name": "LayoutView",
      "align_content": null,
      "align_items": null,
      "align_self": null,
      "border": null,
      "bottom": null,
      "display": null,
      "flex": null,
      "flex_flow": null,
      "grid_area": null,
      "grid_auto_columns": null,
      "grid_auto_flow": null,
      "grid_auto_rows": null,
      "grid_column": null,
      "grid_gap": null,
      "grid_row": null,
      "grid_template_areas": null,
      "grid_template_columns": null,
      "grid_template_rows": null,
      "height": null,
      "justify_content": null,
      "justify_items": null,
      "left": null,
      "margin": null,
      "max_height": null,
      "max_width": null,
      "min_height": null,
      "min_width": null,
      "object_fit": null,
      "object_position": null,
      "order": null,
      "overflow": null,
      "overflow_x": null,
      "overflow_y": null,
      "padding": null,
      "right": null,
      "top": null,
      "visibility": null,
      "width": null
     }
    },
    "f101320c9a334c83bb3dcde9f0f4bde4": {
     "model_module": "@jupyter-widgets/controls",
     "model_module_version": "1.5.0",
     "model_name": "HBoxModel",
     "state": {
      "_dom_classes": [],
      "_model_module": "@jupyter-widgets/controls",
      "_model_module_version": "1.5.0",
      "_model_name": "HBoxModel",
      "_view_count": null,
      "_view_module": "@jupyter-widgets/controls",
      "_view_module_version": "1.5.0",
      "_view_name": "HBoxView",
      "box_style": "",
      "children": [
       "IPY_MODEL_d4c1a351eb394eb7a610a58b25892dab",
       "IPY_MODEL_7cdeb6edf1a241dda83689b54abacdaa",
       "IPY_MODEL_b991aa54bb86411da986f5a5132ccbbd"
      ],
      "layout": "IPY_MODEL_b11044bea3de47c5870df17d7c12453c"
     }
    },
    "f34ff7677a5d4442840fcca2d5ffbe44": {
     "model_module": "@jupyter-widgets/base",
     "model_module_version": "1.2.0",
     "model_name": "LayoutModel",
     "state": {
      "_model_module": "@jupyter-widgets/base",
      "_model_module_version": "1.2.0",
      "_model_name": "LayoutModel",
      "_view_count": null,
      "_view_module": "@jupyter-widgets/base",
      "_view_module_version": "1.2.0",
      "_view_name": "LayoutView",
      "align_content": null,
      "align_items": null,
      "align_self": null,
      "border": null,
      "bottom": null,
      "display": null,
      "flex": null,
      "flex_flow": null,
      "grid_area": null,
      "grid_auto_columns": null,
      "grid_auto_flow": null,
      "grid_auto_rows": null,
      "grid_column": null,
      "grid_gap": null,
      "grid_row": null,
      "grid_template_areas": null,
      "grid_template_columns": null,
      "grid_template_rows": null,
      "height": null,
      "justify_content": null,
      "justify_items": null,
      "left": null,
      "margin": null,
      "max_height": null,
      "max_width": null,
      "min_height": null,
      "min_width": null,
      "object_fit": null,
      "object_position": null,
      "order": null,
      "overflow": null,
      "overflow_x": null,
      "overflow_y": null,
      "padding": null,
      "right": null,
      "top": null,
      "visibility": null,
      "width": null
     }
    },
    "f490c904b9464249b9f07d19b7d91005": {
     "model_module": "@jupyter-widgets/controls",
     "model_module_version": "1.5.0",
     "model_name": "HBoxModel",
     "state": {
      "_dom_classes": [],
      "_model_module": "@jupyter-widgets/controls",
      "_model_module_version": "1.5.0",
      "_model_name": "HBoxModel",
      "_view_count": null,
      "_view_module": "@jupyter-widgets/controls",
      "_view_module_version": "1.5.0",
      "_view_name": "HBoxView",
      "box_style": "",
      "children": [
       "IPY_MODEL_9f8cc826f6484c84a4a8c4ccafc2a108",
       "IPY_MODEL_650f0afb24ce463280215307f4e6dd59",
       "IPY_MODEL_67bf6c446a204968b28453859f0ef3c1"
      ],
      "layout": "IPY_MODEL_9bd3733dfc77446689be61ec3b7f23b9"
     }
    },
    "f5984b71307c4c969f78adb6ceb834d9": {
     "model_module": "@jupyter-widgets/controls",
     "model_module_version": "1.5.0",
     "model_name": "DescriptionStyleModel",
     "state": {
      "_model_module": "@jupyter-widgets/controls",
      "_model_module_version": "1.5.0",
      "_model_name": "DescriptionStyleModel",
      "_view_count": null,
      "_view_module": "@jupyter-widgets/base",
      "_view_module_version": "1.2.0",
      "_view_name": "StyleView",
      "description_width": ""
     }
    },
    "f59f182ad22041c3bed51f3a75aa9869": {
     "model_module": "@jupyter-widgets/controls",
     "model_module_version": "1.5.0",
     "model_name": "DescriptionStyleModel",
     "state": {
      "_model_module": "@jupyter-widgets/controls",
      "_model_module_version": "1.5.0",
      "_model_name": "DescriptionStyleModel",
      "_view_count": null,
      "_view_module": "@jupyter-widgets/base",
      "_view_module_version": "1.2.0",
      "_view_name": "StyleView",
      "description_width": ""
     }
    },
    "f6c07f8e7746487294eb3912ff1bb0bc": {
     "model_module": "@jupyter-widgets/base",
     "model_module_version": "1.2.0",
     "model_name": "LayoutModel",
     "state": {
      "_model_module": "@jupyter-widgets/base",
      "_model_module_version": "1.2.0",
      "_model_name": "LayoutModel",
      "_view_count": null,
      "_view_module": "@jupyter-widgets/base",
      "_view_module_version": "1.2.0",
      "_view_name": "LayoutView",
      "align_content": null,
      "align_items": null,
      "align_self": null,
      "border": null,
      "bottom": null,
      "display": null,
      "flex": null,
      "flex_flow": null,
      "grid_area": null,
      "grid_auto_columns": null,
      "grid_auto_flow": null,
      "grid_auto_rows": null,
      "grid_column": null,
      "grid_gap": null,
      "grid_row": null,
      "grid_template_areas": null,
      "grid_template_columns": null,
      "grid_template_rows": null,
      "height": null,
      "justify_content": null,
      "justify_items": null,
      "left": null,
      "margin": null,
      "max_height": null,
      "max_width": null,
      "min_height": null,
      "min_width": null,
      "object_fit": null,
      "object_position": null,
      "order": null,
      "overflow": null,
      "overflow_x": null,
      "overflow_y": null,
      "padding": null,
      "right": null,
      "top": null,
      "visibility": null,
      "width": null
     }
    },
    "f76a8f1845524b709e70fa91bfbcd43a": {
     "model_module": "@jupyter-widgets/controls",
     "model_module_version": "1.5.0",
     "model_name": "DescriptionStyleModel",
     "state": {
      "_model_module": "@jupyter-widgets/controls",
      "_model_module_version": "1.5.0",
      "_model_name": "DescriptionStyleModel",
      "_view_count": null,
      "_view_module": "@jupyter-widgets/base",
      "_view_module_version": "1.2.0",
      "_view_name": "StyleView",
      "description_width": ""
     }
    },
    "f8f677ae54ee49a7b39633c6aa6470c9": {
     "model_module": "@jupyter-widgets/controls",
     "model_module_version": "1.5.0",
     "model_name": "FloatProgressModel",
     "state": {
      "_dom_classes": [],
      "_model_module": "@jupyter-widgets/controls",
      "_model_module_version": "1.5.0",
      "_model_name": "FloatProgressModel",
      "_view_count": null,
      "_view_module": "@jupyter-widgets/controls",
      "_view_module_version": "1.5.0",
      "_view_name": "ProgressView",
      "bar_style": "success",
      "description": "",
      "description_tooltip": null,
      "layout": "IPY_MODEL_fdd7ad8d609a4ed89042d8c7905b95b8",
      "max": 1,
      "min": 0,
      "orientation": "horizontal",
      "style": "IPY_MODEL_972290f2e9204b3493638391dc99bf5a",
      "value": 1
     }
    },
    "f9560e882aaf43ce96ba0a35e6205e1d": {
     "model_module": "@jupyter-widgets/base",
     "model_module_version": "1.2.0",
     "model_name": "LayoutModel",
     "state": {
      "_model_module": "@jupyter-widgets/base",
      "_model_module_version": "1.2.0",
      "_model_name": "LayoutModel",
      "_view_count": null,
      "_view_module": "@jupyter-widgets/base",
      "_view_module_version": "1.2.0",
      "_view_name": "LayoutView",
      "align_content": null,
      "align_items": null,
      "align_self": null,
      "border": null,
      "bottom": null,
      "display": null,
      "flex": null,
      "flex_flow": null,
      "grid_area": null,
      "grid_auto_columns": null,
      "grid_auto_flow": null,
      "grid_auto_rows": null,
      "grid_column": null,
      "grid_gap": null,
      "grid_row": null,
      "grid_template_areas": null,
      "grid_template_columns": null,
      "grid_template_rows": null,
      "height": null,
      "justify_content": null,
      "justify_items": null,
      "left": null,
      "margin": null,
      "max_height": null,
      "max_width": null,
      "min_height": null,
      "min_width": null,
      "object_fit": null,
      "object_position": null,
      "order": null,
      "overflow": null,
      "overflow_x": null,
      "overflow_y": null,
      "padding": null,
      "right": null,
      "top": null,
      "visibility": null,
      "width": null
     }
    },
    "fc8fc85e891f4d05ae9b9f9f89412133": {
     "model_module": "@jupyter-widgets/base",
     "model_module_version": "1.2.0",
     "model_name": "LayoutModel",
     "state": {
      "_model_module": "@jupyter-widgets/base",
      "_model_module_version": "1.2.0",
      "_model_name": "LayoutModel",
      "_view_count": null,
      "_view_module": "@jupyter-widgets/base",
      "_view_module_version": "1.2.0",
      "_view_name": "LayoutView",
      "align_content": null,
      "align_items": null,
      "align_self": null,
      "border": null,
      "bottom": null,
      "display": null,
      "flex": null,
      "flex_flow": null,
      "grid_area": null,
      "grid_auto_columns": null,
      "grid_auto_flow": null,
      "grid_auto_rows": null,
      "grid_column": null,
      "grid_gap": null,
      "grid_row": null,
      "grid_template_areas": null,
      "grid_template_columns": null,
      "grid_template_rows": null,
      "height": null,
      "justify_content": null,
      "justify_items": null,
      "left": null,
      "margin": null,
      "max_height": null,
      "max_width": null,
      "min_height": null,
      "min_width": null,
      "object_fit": null,
      "object_position": null,
      "order": null,
      "overflow": null,
      "overflow_x": null,
      "overflow_y": null,
      "padding": null,
      "right": null,
      "top": null,
      "visibility": null,
      "width": null
     }
    },
    "fdd7ad8d609a4ed89042d8c7905b95b8": {
     "model_module": "@jupyter-widgets/base",
     "model_module_version": "1.2.0",
     "model_name": "LayoutModel",
     "state": {
      "_model_module": "@jupyter-widgets/base",
      "_model_module_version": "1.2.0",
      "_model_name": "LayoutModel",
      "_view_count": null,
      "_view_module": "@jupyter-widgets/base",
      "_view_module_version": "1.2.0",
      "_view_name": "LayoutView",
      "align_content": null,
      "align_items": null,
      "align_self": null,
      "border": null,
      "bottom": null,
      "display": null,
      "flex": null,
      "flex_flow": null,
      "grid_area": null,
      "grid_auto_columns": null,
      "grid_auto_flow": null,
      "grid_auto_rows": null,
      "grid_column": null,
      "grid_gap": null,
      "grid_row": null,
      "grid_template_areas": null,
      "grid_template_columns": null,
      "grid_template_rows": null,
      "height": null,
      "justify_content": null,
      "justify_items": null,
      "left": null,
      "margin": null,
      "max_height": null,
      "max_width": null,
      "min_height": null,
      "min_width": null,
      "object_fit": null,
      "object_position": null,
      "order": null,
      "overflow": null,
      "overflow_x": null,
      "overflow_y": null,
      "padding": null,
      "right": null,
      "top": null,
      "visibility": null,
      "width": null
     }
    },
    "fe0a8c4275fe43f788115617b4624adb": {
     "model_module": "@jupyter-widgets/controls",
     "model_module_version": "1.5.0",
     "model_name": "HTMLModel",
     "state": {
      "_dom_classes": [],
      "_model_module": "@jupyter-widgets/controls",
      "_model_module_version": "1.5.0",
      "_model_name": "HTMLModel",
      "_view_count": null,
      "_view_module": "@jupyter-widgets/controls",
      "_view_module_version": "1.5.0",
      "_view_name": "HTMLView",
      "description": "",
      "description_tooltip": null,
      "layout": "IPY_MODEL_53277751064a49e0a04dd246972aafa2",
      "placeholder": "​",
      "style": "IPY_MODEL_e9edbcc576814407a3068ac9af3ddbd3",
      "value": " 15.1k/15.1k [00:00&lt;00:00, 320kB/s]"
     }
    },
    "fe5b9a3b0fcc425a96d2d75ef39e81ec": {
     "model_module": "@jupyter-widgets/controls",
     "model_module_version": "1.5.0",
     "model_name": "FloatProgressModel",
     "state": {
      "_dom_classes": [],
      "_model_module": "@jupyter-widgets/controls",
      "_model_module_version": "1.5.0",
      "_model_name": "FloatProgressModel",
      "_view_count": null,
      "_view_module": "@jupyter-widgets/controls",
      "_view_module_version": "1.5.0",
      "_view_name": "ProgressView",
      "bar_style": "success",
      "description": "",
      "description_tooltip": null,
      "layout": "IPY_MODEL_df35dd489eb74ebe9a0a26eab3c9b65a",
      "max": 1,
      "min": 0,
      "orientation": "horizontal",
      "style": "IPY_MODEL_a30153942a2a41ff805e04e6c60e19ee",
      "value": 1
     }
    }
   }
  }
 },
 "nbformat": 4,
 "nbformat_minor": 1
}
