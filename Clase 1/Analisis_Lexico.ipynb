{
 "cells": [
  {
   "cell_type": "markdown",
   "metadata": {
    "id": "1agIVAMNpp3w"
   },
   "source": [
    "# **Análisis Léxico**"
   ]
  },
  {
   "cell_type": "markdown",
   "metadata": {
    "id": "As_tpYQppynA"
   },
   "source": [
    "Este programa realiza un análisis léxico. Para lo anterior, primero se deben instalar algunas librerias:"
   ]
  },
  {
   "cell_type": "code",
   "execution_count": null,
   "metadata": {
    "id": "ERgM8224md89"
   },
   "outputs": [],
   "source": [
    "# !pip install spacy\n",
    "# !python -m spacy download es_core_news_sm"
   ]
  },
  {
   "cell_type": "code",
   "execution_count": 1,
   "metadata": {},
   "outputs": [
    {
     "name": "stdout",
     "output_type": "stream",
     "text": [
      "La/DET fuerte/ADJ crisis/NOUN económica/ADJ que/PRON provocó/VERB en/ADP el/DET fútbol/NOUN la/DET pandemia/NOUN del/ADP coronavirus/NOUN trajo/VERB nuevamente/ADV a/ADP escena/NOUN una/PRON de/ADP las/DET modalidades/NOUN de/ADP intercambio/NOUN más/ADV viejas/ADJ de/ADP la/DET historia/NOUN :/PUNCT el/DET trueque/NOUN ./PUNCT Ante/ADP la/DET falta/NOUN de/ADP dinero/NOUN ,/PUNCT muchas/DET instituciones/NOUN saldrán/VERB al/ADP mercado/NOUN de/ADP pases/NOUN ofreciendo/VERB a/ADP algunas/PRON de/ADP sus/DET figuras/NOUN ./PUNCT \n",
      "\n",
      "/SPACE En/ADP las/DET últimas/ADJ horas/NOUN la/DET prensa/NOUN italiana/ADJ ,/PUNCT y/CCONJ luego/ADV Deportes/PROPN Quatro/PROPN de/ADP España/PROPN ,/PUNCT se/PRON hicieron/VERB eco/NOUN de/ADP una/DET serie/NOUN de/ADP movimientos/NOUN en/ADP la/DET próxima/ADJ ventana/NOUN de/ADP transferencias/NOUN que/PRON cambiaría/VERB el/DET mapa/PROPN por/ADP completo/NOUN en/ADP toda/DET Europa/PROPN ./PUNCT \n",
      "\n",
      "/SPACE Esta/DET información/NOUN asegura/VERB que/SCONJ Juventus/PROPN intentará/VERB recuperar/VERB algo/PRON del/ADP dinero/NOUN invertido/ADJ por/ADP Cristiano/PROPN Ronaldo/PROPN (/PUNCT 35/NUM años/NOUN de/ADP edad/NOUN )/PUNCT para/ADP ir/VERB en/ADP búsqueda/NOUN de/ADP una/DET figura/NOUN más/ADV joven/ADJ ./PUNCT Su/DET destino/NOUN sería/AUX el/DET París/PROPN Saint/PROPN Germain/PROPN ,/PUNCT club/NOUN que/PRON abonaría/VERB una/DET cifra/NOUN que/PRON oscilaría/VERB entre/ADP los/DET 60/NUM y/CCONJ 70/NUM millones/NOUN de/ADP euros/NOUN por/ADP el/DET delantero/NOUN portugués/ADJ ./PUNCT\n"
     ]
    }
   ],
   "source": [
    "import es_core_news_sm\n",
    "from spacy import displacy\n",
    "\n",
    "FILENAME = 'C:/Users/Diego/Text Mining/Clase 1/clase 1/d20.txt'\n",
    "\n",
    "nlp = es_core_news_sm.load()\n",
    "\n",
    "def Etiquetar(texto):\n",
    "    doc = nlp(texto)\n",
    "    etiquetado = ''.join(t.text + \"/\" + t.pos_ + \" \" for t in doc)\n",
    "    return etiquetado.rstrip()\n",
    "\n",
    "\n",
    "with open(FILENAME, 'r', encoding=\"utf-8\") as file:\n",
    "    texto = file.read()\n",
    "\n",
    "texto_etiquetado = Etiquetar(texto)\n",
    "print(texto_etiquetado)\n"
   ]
  },
  {
   "cell_type": "markdown",
   "metadata": {
    "id": "oQEgV59LqJ2M"
   },
   "source": [
    "A diferencia del análisis morfológico, acá no podemos realizar preprocesamiento previo, pues el modelo de etiquedado ha sido entrenado sobre corpus de textos en lenguaje natural completo, y no solo sobre elementos de éste. Una vez que se ejecuta el programa, podrá observar la salida para un texto de entrada leído (con fines de visualización, solo se muestra un parte del etiquetado resultante)."
   ]
  },
  {
   "cell_type": "markdown",
   "metadata": {},
   "source": [
    "### DET = Determinantes\n",
    "### ADJ = Adjetivos\n",
    "### NOUN = Pronombres"
   ]
  }
 ],
 "metadata": {
  "colab": {
   "provenance": []
  },
  "kernelspec": {
   "display_name": "Python 3 (ipykernel)",
   "language": "python",
   "name": "python3"
  },
  "language_info": {
   "codemirror_mode": {
    "name": "ipython",
    "version": 3
   },
   "file_extension": ".py",
   "mimetype": "text/x-python",
   "name": "python",
   "nbconvert_exporter": "python",
   "pygments_lexer": "ipython3",
   "version": "3.11.5"
  }
 },
 "nbformat": 4,
 "nbformat_minor": 1
}
