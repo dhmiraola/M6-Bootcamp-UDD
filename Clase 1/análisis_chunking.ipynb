{
 "cells": [
  {
   "cell_type": "markdown",
   "metadata": {
    "id": "eUMTKwmFApT3"
   },
   "source": [
    "# **Análisis** **Superficial**"
   ]
  },
  {
   "cell_type": "markdown",
   "metadata": {
    "id": "Iz5NTRCJBAAz"
   },
   "source": [
    "En este programa realizar un análisis superficial para detectar segmentos sintácticos que no se solapen, es decir, sin considerar la estructura completa."
   ]
  },
  {
   "cell_type": "code",
   "execution_count": null,
   "metadata": {
    "id": "fW1w5Arm-J2R"
   },
   "outputs": [],
   "source": [
    "# !pip install spacy\n",
    "# !python -m spacy download es_core_news_sm"
   ]
  },
  {
   "cell_type": "code",
   "execution_count": 1,
   "metadata": {
    "id": "7mlIUFVZ-ePf"
   },
   "outputs": [],
   "source": [
    "import es_core_news_sm\n",
    "from spacy import displacy\n",
    "from nltk.chunk import RegexpParser as RE_Parser\n",
    "import es_core_news_sm"
   ]
  },
  {
   "cell_type": "code",
   "execution_count": 2,
   "metadata": {
    "id": "TPRV9eNt-ue1"
   },
   "outputs": [],
   "source": [
    "def Chunk_FN(texto):\n",
    "   doc = nlp(texto)\n",
    "   lista_FN = [chunk.text for chunk in doc.noun_chunks]\n",
    "   return(lista_FN)  "
   ]
  },
  {
   "cell_type": "code",
   "execution_count": 3,
   "metadata": {
    "id": "4cLJ8zLr-yOq"
   },
   "outputs": [],
   "source": [
    "def Chunk(texto):\n",
    "  tagged1 = Etiquetar(texto). split()\n",
    "  tagged = [tuple(s.split('/')) for s in tagged1]\n",
    "  print(tagged)\n",
    "  # Definir un chunk del tipo Frase Nominal (FN). \n",
    "  # Ejemplo: articulo* nombre* adjetivo*\n",
    "  gramatica = '''                                                                                                              \n",
    "    FN:                                                                                                                    \n",
    "        {<DET>*(<PROPN|NOUN>)+<ADJ>*}\n",
    "    '''\n",
    "  chunker = RE_Parser(gramatica)\n",
    "  Arbol = chunker.parse(tagged)\n",
    "  matches =[]\n",
    "  for subarbol in Arbol.subtrees():\n",
    "        if subarbol.label() == 'FN': \n",
    "            matches.append(subarbol)\n",
    "  return(matches)\n",
    "\n",
    "def Subarbol_a_Lista(Chunks):\n",
    "  lista =[]\n",
    "  for c in Chunks:\n",
    "    palabras = []\n",
    "    for (palabra,_pos) in c:\n",
    "        palabras.append(palabra)\n",
    "    lista.append(' '.join(palabras))\n",
    "  return(lista) \n",
    "\n",
    "def Etiquetar(texto):\n",
    "   doc = nlp(texto)\n",
    "   Etiquetado = ''.join(t.text+\"/\"+t.pos_+\" \" for t in doc)\n",
    "   return(Etiquetado.rstrip())"
   ]
  },
  {
   "cell_type": "code",
   "execution_count": 4,
   "metadata": {
    "id": "umO3l-yM-2UR"
   },
   "outputs": [],
   "source": [
    "FILENAME='d1.txt'"
   ]
  },
  {
   "cell_type": "code",
   "execution_count": 5,
   "metadata": {
    "colab": {
     "base_uri": "https://localhost:8080/"
    },
    "id": "8FHolp7l-6VI",
    "outputId": "fdd1662a-7145-4105-f2b2-6d110e45fb3b"
   },
   "outputs": [
    {
     "name": "stdout",
     "output_type": "stream",
     "text": [
      "['El golfista chileno', 'la segunda jornada', 'una tarjeta', '+1', 'la parte final', 'certamen', 'que', 'Texas', ', Estados Unidos', 'Joaquín Niemann', 'lo', 'El golfista chileno', 'el corte', 'fin de semana', 'el Charles Schwab Challenge del PGA Tour', 'El chileno', 'día', 'muy parejo', 'Texas', ', con mejor rendimiento', 'la primera parte', ', pero con una segunda ronda', 'que', 'una tarjeta acumulada', '+1', 'El talagantino', 'varias horas', 'los resultados', 'los otros rivales', 'el corte', '+2', 'competencia', 'Niemann', 'dos birdies', 'dos bogeys', '(banderas', 'su registro', 'Este sabado', 'su participación', 'partir de las 09:35 horas', 'Chile', 'El sueco Jonas Blixt', 'como líder', '-9', 'cuatro birdies', 'hoyos', 'un águila', 'la bandera']\n",
      "[('El', 'DET'), ('golfista', 'NOUN'), ('chileno', 'ADJ'), ('terminó', 'VERB'), ('la', 'DET'), ('segunda', 'ADJ'), ('jornada', 'NOUN'), ('con', 'ADP'), ('una', 'DET'), ('tarjeta', 'NOUN'), ('de', 'ADP'), ('+1', 'PROPN'), ('y', 'CCONJ'), ('clasificó', 'VERB'), ('a', 'ADP'), ('la', 'DET'), ('parte', 'NOUN'), ('final', 'ADJ'), ('del', 'ADP'), ('certamen', 'NOUN'), ('que', 'PRON'), ('se', 'PRON'), ('disputa', 'VERB'), ('en', 'ADP'), ('Texas', 'PROPN'), (',', 'PUNCT'), ('Estados', 'PROPN'), ('Unidos', 'PROPN'), ('.', 'PUNCT'), ('', 'SPACE'), ('Joaquín', 'PROPN'), ('Niemann', 'PROPN'), ('lo', 'PRON'), ('logró', 'VERB'), ('.', 'PUNCT'), ('El', 'DET'), ('golfista', 'NOUN'), ('chileno', 'ADJ'), ('pasó', 'VERB'), ('el', 'DET'), ('corte', 'NOUN'), ('y', 'CCONJ'), ('clasificó', 'VERB'), ('al', 'ADP'), ('fin', 'NOUN'), ('de', 'ADP'), ('semana', 'NOUN'), ('en', 'ADP'), ('el', 'DET'), ('Charles', 'PROPN'), ('Schwab', 'PROPN'), ('Challenge', 'PROPN'), ('del', 'ADP'), ('PGA', 'PROPN'), ('Tour', 'PROPN'), ('.', 'PUNCT'), ('', 'SPACE'), ('El', 'DET'), ('chileno', 'NOUN'), ('tuvo', 'VERB'), ('día', 'NOUN'), ('muy', 'ADV'), ('parejo', 'NOUN'), ('en', 'ADP'), ('Texas', 'PROPN'), (',', 'PUNCT'), ('con', 'ADP'), ('mejor', 'ADJ'), ('rendimiento', 'NOUN'), ('en', 'ADP'), ('la', 'DET'), ('primera', 'ADJ'), ('parte', 'NOUN'), (',', 'PUNCT'), ('pero', 'CCONJ'), ('con', 'ADP'), ('una', 'DET'), ('segunda', 'ADJ'), ('ronda', 'NOUN'), ('que', 'PRON'), ('le', 'PRON'), ('permitió', 'VERB'), ('terminar', 'VERB'), ('con', 'ADP'), ('una', 'DET'), ('tarjeta', 'NOUN'), ('acumulada', 'ADJ'), ('de', 'ADP'), ('+1', 'PROPN'), ('.', 'PUNCT'), ('', 'SPACE'), ('El', 'DET'), ('talagantino', 'NOUN'), ('debió', 'AUX'), ('esperar', 'VERB'), ('varias', 'DET'), ('horas', 'NOUN'), ('para', 'ADP'), ('saber', 'VERB'), ('si', 'SCONJ'), ('avanzaba', 'VERB'), ('o', 'CCONJ'), ('no', 'ADV'), (',', 'PUNCT'), ('dependiendo', 'VERB'), ('de', 'ADP'), ('los', 'DET'), ('resultados', 'NOUN'), ('de', 'ADP'), ('los', 'DET'), ('otros', 'DET'), ('rivales', 'NOUN'), ('.', 'PUNCT'), ('Como', 'SCONJ'), ('el', 'DET'), ('corte', 'NOUN'), ('se', 'PRON'), ('cerró', 'VERB'), ('en', 'ADP'), ('+2', 'PROPN'), (',', 'PUNCT'), ('seguirá', 'VERB'), ('en', 'ADP'), ('competencia', 'NOUN'), ('.', 'PUNCT'), ('', 'SPACE'), ('Niemann', 'PROPN'), ('registró', 'VERB'), ('dos', 'NUM'), ('birdies', 'NOUN'), ('(', 'PUNCT'), ('hoyos', 'NOUN'), ('2', 'NUM'), ('y', 'CCONJ'), ('16', 'NUM'), (')', 'PUNCT'), ('y', 'CCONJ'), ('dos', 'NUM'), ('bogeys', 'NOUN'), ('(', 'PUNCT'), ('banderas', 'NOUN'), ('5', 'NUM'), ('y', 'CCONJ'), ('9', 'NUM'), (')', 'PUNCT'), ('en', 'ADP'), ('su', 'DET'), ('registro', 'NOUN'), ('.', 'PUNCT'), ('Este', 'DET'), ('sabado', 'NOUN'), ('comenzará', 'VERB'), ('su', 'DET'), ('participación', 'NOUN'), ('a', 'ADP'), ('partir', 'NOUN'), ('de', 'ADP'), ('las', 'DET'), ('09:35', 'NUM'), ('horas', 'NOUN'), ('de', 'ADP'), ('Chile', 'PROPN'), ('.', 'PUNCT'), ('', 'SPACE'), ('El', 'DET'), ('sueco', 'ADJ'), ('Jonas', 'PROPN'), ('Blixt', 'PROPN'), ('terminó', 'VERB'), ('como', 'SCONJ'), ('líder', 'NOUN'), ('con', 'ADP'), ('-9', 'PROPN'), (',', 'PUNCT'), ('registrando', 'VERB'), ('cuatro', 'NUM'), ('birdies', 'NOUN'), ('(', 'PUNCT'), ('hoyos', 'NOUN'), ('1', 'NUM'), (',', 'PUNCT'), ('2', 'NUM'), (',', 'PUNCT'), ('12', 'NUM'), ('y', 'CCONJ'), ('13', 'NUM'), (')', 'PUNCT'), ('y', 'CCONJ'), ('un', 'DET'), ('águila', 'NOUN'), ('en', 'ADP'), ('la', 'DET'), ('bandera', 'NOUN'), ('17', 'NUM'), ('.', 'PUNCT')]\n",
      "['El golfista chileno', 'jornada', 'una tarjeta', '+1', 'la parte final', 'certamen', 'Texas', 'Estados Unidos', 'Joaquín Niemann', 'El golfista chileno', 'el corte', 'fin', 'semana', 'el Charles Schwab Challenge', 'PGA Tour', 'El chileno', 'día', 'parejo', 'Texas', 'rendimiento', 'parte', 'ronda', 'una tarjeta acumulada', '+1', 'El talagantino', 'varias horas', 'los resultados', 'los otros rivales', 'el corte', '+2', 'competencia', 'Niemann', 'birdies', 'hoyos', 'bogeys', 'banderas', 'su registro', 'Este sabado', 'su participación', 'partir', 'horas', 'Chile', 'Jonas Blixt', 'líder', '-9', 'birdies', 'hoyos', 'un águila', 'la bandera']\n"
     ]
    }
   ],
   "source": [
    "nlp = es_core_news_sm.load()\n",
    "\n",
    "texto = open(FILENAME, 'r',encoding='latin1').read()\n",
    "FN = Chunk_FN(texto)\n",
    "print(FN)\n",
    "FN2 = Subarbol_a_Lista(Chunk(texto))\n",
    "print(FN2)    "
   ]
  },
  {
   "cell_type": "markdown",
   "metadata": {
    "id": "9hj2iWRUCpE1"
   },
   "source": [
    "Al ejecutar el programa podemos deplegar el contenido de la variable FN que contiene la lista con todos los chunks reconocidos. Notar que se cometen errores con algunas frases incompletas, por lo que podría haber realizado predicciones incorrectas. Por otro lado, el modelo de lenguaje que utiliza SpaCY en su entrenamiento no necesariamente cubre el estilo de los textos que estamos utilizando como entrada, por lo que eventualmente se podrán evaluar otros modelos preentredados."
   ]
  }
 ],
 "metadata": {
  "colab": {
   "provenance": []
  },
  "kernelspec": {
   "display_name": "Python 3 (ipykernel)",
   "language": "python",
   "name": "python3"
  },
  "language_info": {
   "codemirror_mode": {
    "name": "ipython",
    "version": 3
   },
   "file_extension": ".py",
   "mimetype": "text/x-python",
   "name": "python",
   "nbconvert_exporter": "python",
   "pygments_lexer": "ipython3",
   "version": "3.11.4"
  }
 },
 "nbformat": 4,
 "nbformat_minor": 1
}
