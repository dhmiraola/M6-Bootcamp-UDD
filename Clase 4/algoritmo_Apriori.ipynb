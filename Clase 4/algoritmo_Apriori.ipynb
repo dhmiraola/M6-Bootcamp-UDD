{
 "cells": [
  {
   "cell_type": "markdown",
   "metadata": {
    "id": "lOdgef9zOwYV"
   },
   "source": [
    "# Reglas de Asociacion Usando Algoritmo **Apriori**"
   ]
  },
  {
   "cell_type": "markdown",
   "metadata": {
    "id": "Pf3gCZzF4Kq1"
   },
   "source": [
    "Este programa aplica el algoritmo apriori al problema de la \"canasta de compra\" de un set de transacciones y el cálculo de las métricas de asociación:"
   ]
  },
  {
   "cell_type": "code",
   "execution_count": 1,
   "metadata": {},
   "outputs": [
    {
     "name": "stdout",
     "output_type": "stream",
     "text": [
      "Collecting apyori\n",
      "  Using cached apyori-1.1.2.tar.gz (8.6 kB)\n",
      "  Preparing metadata (setup.py): started\n",
      "  Preparing metadata (setup.py): finished with status 'done'\n",
      "Building wheels for collected packages: apyori\n",
      "  Building wheel for apyori (setup.py): started\n",
      "  Building wheel for apyori (setup.py): finished with status 'done'\n",
      "  Created wheel for apyori: filename=apyori-1.1.2-py3-none-any.whl size=5975 sha256=bfe74c3ce2e4f0b4542cc34a9c51c51d095d6c8e61637fb4785a87ea30ef4b41\n",
      "  Stored in directory: c:\\users\\usuario\\appdata\\local\\pip\\cache\\wheels\\77\\3d\\a6\\d317a6fb32be58a602b1e8c6b5d6f31f79322da554cad2a5ea\n",
      "Successfully built apyori\n",
      "Installing collected packages: apyori\n",
      "Successfully installed apyori-1.1.2\n"
     ]
    },
    {
     "name": "stderr",
     "output_type": "stream",
     "text": [
      "WARNING: Ignoring invalid distribution ~pencv-python-headless (C:\\Users\\Usuario\\AppData\\Roaming\\Python\\Python311\\site-packages)\n",
      "WARNING: Ignoring invalid distribution ~pencv-python-headless (C:\\Users\\Usuario\\AppData\\Roaming\\Python\\Python311\\site-packages)\n",
      "WARNING: Ignoring invalid distribution ~pencv-python-headless (C:\\Users\\Usuario\\AppData\\Roaming\\Python\\Python311\\site-packages)\n",
      "WARNING: Ignoring invalid distribution ~pencv-python-headless (C:\\Users\\Usuario\\AppData\\Roaming\\Python\\Python311\\site-packages)\n",
      "WARNING: Ignoring invalid distribution ~pencv-python-headless (C:\\Users\\Usuario\\AppData\\Roaming\\Python\\Python311\\site-packages)\n",
      "WARNING: Ignoring invalid distribution ~pencv-python-headless (C:\\Users\\Usuario\\AppData\\Roaming\\Python\\Python311\\site-packages)\n"
     ]
    }
   ],
   "source": [
    "!pip install apyori"
   ]
  },
  {
   "cell_type": "code",
   "execution_count": 2,
   "metadata": {
    "id": "SJ2ME5rrhD7p"
   },
   "outputs": [],
   "source": [
    "import numpy as np\n",
    "import matplotlib.pyplot as plt\n",
    "import pandas as pd\n",
    "from apyori import apriori"
   ]
  },
  {
   "cell_type": "markdown",
   "metadata": {
    "id": "8cmltMCyhVF3"
   },
   "source": [
    "Ahora importamos el data set: \"store_data\""
   ]
  },
  {
   "cell_type": "code",
   "execution_count": 3,
   "metadata": {
    "id": "3ekHu5-fheLX"
   },
   "outputs": [],
   "source": [
    "store_data = pd.read_csv('store_data.csv')"
   ]
  },
  {
   "cell_type": "markdown",
   "metadata": {
    "id": "t7IcIb_ghpNZ"
   },
   "source": [
    "Llamemos a la función head() para ver cómo se ve el conjunto de datos:"
   ]
  },
  {
   "cell_type": "code",
   "execution_count": 4,
   "metadata": {
    "colab": {
     "base_uri": "https://localhost:8080/",
     "height": 319
    },
    "id": "Un923mavhsL5",
    "outputId": "186436f3-3ff8-4abe-a0a3-62e07e11d46a"
   },
   "outputs": [
    {
     "data": {
      "text/html": [
       "<div>\n",
       "<style scoped>\n",
       "    .dataframe tbody tr th:only-of-type {\n",
       "        vertical-align: middle;\n",
       "    }\n",
       "\n",
       "    .dataframe tbody tr th {\n",
       "        vertical-align: top;\n",
       "    }\n",
       "\n",
       "    .dataframe thead th {\n",
       "        text-align: right;\n",
       "    }\n",
       "</style>\n",
       "<table border=\"1\" class=\"dataframe\">\n",
       "  <thead>\n",
       "    <tr style=\"text-align: right;\">\n",
       "      <th></th>\n",
       "      <th>shrimp</th>\n",
       "      <th>almonds</th>\n",
       "      <th>avocado</th>\n",
       "      <th>vegetables mix</th>\n",
       "      <th>green grapes</th>\n",
       "      <th>whole weat flour</th>\n",
       "      <th>yams</th>\n",
       "      <th>cottage cheese</th>\n",
       "      <th>energy drink</th>\n",
       "      <th>tomato juice</th>\n",
       "      <th>low fat yogurt</th>\n",
       "      <th>green tea</th>\n",
       "      <th>honey</th>\n",
       "      <th>salad</th>\n",
       "      <th>mineral water</th>\n",
       "      <th>salmon</th>\n",
       "      <th>antioxydant juice</th>\n",
       "      <th>frozen smoothie</th>\n",
       "      <th>spinach</th>\n",
       "      <th>olive oil</th>\n",
       "    </tr>\n",
       "  </thead>\n",
       "  <tbody>\n",
       "    <tr>\n",
       "      <th>0</th>\n",
       "      <td>burgers</td>\n",
       "      <td>meatballs</td>\n",
       "      <td>eggs</td>\n",
       "      <td>NaN</td>\n",
       "      <td>NaN</td>\n",
       "      <td>NaN</td>\n",
       "      <td>NaN</td>\n",
       "      <td>NaN</td>\n",
       "      <td>NaN</td>\n",
       "      <td>NaN</td>\n",
       "      <td>NaN</td>\n",
       "      <td>NaN</td>\n",
       "      <td>NaN</td>\n",
       "      <td>NaN</td>\n",
       "      <td>NaN</td>\n",
       "      <td>NaN</td>\n",
       "      <td>NaN</td>\n",
       "      <td>NaN</td>\n",
       "      <td>NaN</td>\n",
       "      <td>NaN</td>\n",
       "    </tr>\n",
       "    <tr>\n",
       "      <th>1</th>\n",
       "      <td>chutney</td>\n",
       "      <td>NaN</td>\n",
       "      <td>NaN</td>\n",
       "      <td>NaN</td>\n",
       "      <td>NaN</td>\n",
       "      <td>NaN</td>\n",
       "      <td>NaN</td>\n",
       "      <td>NaN</td>\n",
       "      <td>NaN</td>\n",
       "      <td>NaN</td>\n",
       "      <td>NaN</td>\n",
       "      <td>NaN</td>\n",
       "      <td>NaN</td>\n",
       "      <td>NaN</td>\n",
       "      <td>NaN</td>\n",
       "      <td>NaN</td>\n",
       "      <td>NaN</td>\n",
       "      <td>NaN</td>\n",
       "      <td>NaN</td>\n",
       "      <td>NaN</td>\n",
       "    </tr>\n",
       "    <tr>\n",
       "      <th>2</th>\n",
       "      <td>turkey</td>\n",
       "      <td>avocado</td>\n",
       "      <td>NaN</td>\n",
       "      <td>NaN</td>\n",
       "      <td>NaN</td>\n",
       "      <td>NaN</td>\n",
       "      <td>NaN</td>\n",
       "      <td>NaN</td>\n",
       "      <td>NaN</td>\n",
       "      <td>NaN</td>\n",
       "      <td>NaN</td>\n",
       "      <td>NaN</td>\n",
       "      <td>NaN</td>\n",
       "      <td>NaN</td>\n",
       "      <td>NaN</td>\n",
       "      <td>NaN</td>\n",
       "      <td>NaN</td>\n",
       "      <td>NaN</td>\n",
       "      <td>NaN</td>\n",
       "      <td>NaN</td>\n",
       "    </tr>\n",
       "    <tr>\n",
       "      <th>3</th>\n",
       "      <td>mineral water</td>\n",
       "      <td>milk</td>\n",
       "      <td>energy bar</td>\n",
       "      <td>whole wheat rice</td>\n",
       "      <td>green tea</td>\n",
       "      <td>NaN</td>\n",
       "      <td>NaN</td>\n",
       "      <td>NaN</td>\n",
       "      <td>NaN</td>\n",
       "      <td>NaN</td>\n",
       "      <td>NaN</td>\n",
       "      <td>NaN</td>\n",
       "      <td>NaN</td>\n",
       "      <td>NaN</td>\n",
       "      <td>NaN</td>\n",
       "      <td>NaN</td>\n",
       "      <td>NaN</td>\n",
       "      <td>NaN</td>\n",
       "      <td>NaN</td>\n",
       "      <td>NaN</td>\n",
       "    </tr>\n",
       "    <tr>\n",
       "      <th>4</th>\n",
       "      <td>low fat yogurt</td>\n",
       "      <td>NaN</td>\n",
       "      <td>NaN</td>\n",
       "      <td>NaN</td>\n",
       "      <td>NaN</td>\n",
       "      <td>NaN</td>\n",
       "      <td>NaN</td>\n",
       "      <td>NaN</td>\n",
       "      <td>NaN</td>\n",
       "      <td>NaN</td>\n",
       "      <td>NaN</td>\n",
       "      <td>NaN</td>\n",
       "      <td>NaN</td>\n",
       "      <td>NaN</td>\n",
       "      <td>NaN</td>\n",
       "      <td>NaN</td>\n",
       "      <td>NaN</td>\n",
       "      <td>NaN</td>\n",
       "      <td>NaN</td>\n",
       "      <td>NaN</td>\n",
       "    </tr>\n",
       "  </tbody>\n",
       "</table>\n",
       "</div>"
      ],
      "text/plain": [
       "           shrimp    almonds     avocado    vegetables mix green grapes  \\\n",
       "0         burgers  meatballs        eggs               NaN          NaN   \n",
       "1         chutney        NaN         NaN               NaN          NaN   \n",
       "2          turkey    avocado         NaN               NaN          NaN   \n",
       "3   mineral water       milk  energy bar  whole wheat rice    green tea   \n",
       "4  low fat yogurt        NaN         NaN               NaN          NaN   \n",
       "\n",
       "  whole weat flour yams cottage cheese energy drink tomato juice  \\\n",
       "0              NaN  NaN            NaN          NaN          NaN   \n",
       "1              NaN  NaN            NaN          NaN          NaN   \n",
       "2              NaN  NaN            NaN          NaN          NaN   \n",
       "3              NaN  NaN            NaN          NaN          NaN   \n",
       "4              NaN  NaN            NaN          NaN          NaN   \n",
       "\n",
       "  low fat yogurt green tea honey salad mineral water salmon antioxydant juice  \\\n",
       "0            NaN       NaN   NaN   NaN           NaN    NaN               NaN   \n",
       "1            NaN       NaN   NaN   NaN           NaN    NaN               NaN   \n",
       "2            NaN       NaN   NaN   NaN           NaN    NaN               NaN   \n",
       "3            NaN       NaN   NaN   NaN           NaN    NaN               NaN   \n",
       "4            NaN       NaN   NaN   NaN           NaN    NaN               NaN   \n",
       "\n",
       "  frozen smoothie spinach  olive oil  \n",
       "0             NaN     NaN        NaN  \n",
       "1             NaN     NaN        NaN  \n",
       "2             NaN     NaN        NaN  \n",
       "3             NaN     NaN        NaN  \n",
       "4             NaN     NaN        NaN  "
      ]
     },
     "execution_count": 4,
     "metadata": {},
     "output_type": "execute_result"
    }
   ],
   "source": [
    "store_data.head()"
   ]
  },
  {
   "cell_type": "markdown",
   "metadata": {
    "id": "ANMDy-8uh2UF"
   },
   "source": [
    "Si observa detenidamente los datos, podemos ver que el encabezado es en realidad la primera transacción. Cada fila corresponde a una transacción y cada columna corresponde a un artículo comprado en esa transacción específica. El NaN nos dice que el artículo representado por la columna no fue comprado en esa transacción específica.\n",
    "\n",
    "En este conjunto de datos no hay ninguna fila de encabezado. Pero, de forma predeterminada, la función pd.read_csv trata la primera fila como encabezado. Para deshacerse de este problema, agregue la opción header=None a la función pd.read_csv, como se muestra a continuación:"
   ]
  },
  {
   "cell_type": "code",
   "execution_count": 5,
   "metadata": {
    "colab": {
     "base_uri": "https://localhost:8080/",
     "height": 285
    },
    "id": "5YKuVMb8h6S7",
    "outputId": "669b362d-d340-4885-aa4e-5c508b778e2f"
   },
   "outputs": [
    {
     "data": {
      "text/html": [
       "<div>\n",
       "<style scoped>\n",
       "    .dataframe tbody tr th:only-of-type {\n",
       "        vertical-align: middle;\n",
       "    }\n",
       "\n",
       "    .dataframe tbody tr th {\n",
       "        vertical-align: top;\n",
       "    }\n",
       "\n",
       "    .dataframe thead th {\n",
       "        text-align: right;\n",
       "    }\n",
       "</style>\n",
       "<table border=\"1\" class=\"dataframe\">\n",
       "  <thead>\n",
       "    <tr style=\"text-align: right;\">\n",
       "      <th></th>\n",
       "      <th>0</th>\n",
       "      <th>1</th>\n",
       "      <th>2</th>\n",
       "      <th>3</th>\n",
       "      <th>4</th>\n",
       "      <th>5</th>\n",
       "      <th>6</th>\n",
       "      <th>7</th>\n",
       "      <th>8</th>\n",
       "      <th>9</th>\n",
       "      <th>10</th>\n",
       "      <th>11</th>\n",
       "      <th>12</th>\n",
       "      <th>13</th>\n",
       "      <th>14</th>\n",
       "      <th>15</th>\n",
       "      <th>16</th>\n",
       "      <th>17</th>\n",
       "      <th>18</th>\n",
       "      <th>19</th>\n",
       "    </tr>\n",
       "  </thead>\n",
       "  <tbody>\n",
       "    <tr>\n",
       "      <th>0</th>\n",
       "      <td>shrimp</td>\n",
       "      <td>almonds</td>\n",
       "      <td>avocado</td>\n",
       "      <td>vegetables mix</td>\n",
       "      <td>green grapes</td>\n",
       "      <td>whole weat flour</td>\n",
       "      <td>yams</td>\n",
       "      <td>cottage cheese</td>\n",
       "      <td>energy drink</td>\n",
       "      <td>tomato juice</td>\n",
       "      <td>low fat yogurt</td>\n",
       "      <td>green tea</td>\n",
       "      <td>honey</td>\n",
       "      <td>salad</td>\n",
       "      <td>mineral water</td>\n",
       "      <td>salmon</td>\n",
       "      <td>antioxydant juice</td>\n",
       "      <td>frozen smoothie</td>\n",
       "      <td>spinach</td>\n",
       "      <td>olive oil</td>\n",
       "    </tr>\n",
       "    <tr>\n",
       "      <th>1</th>\n",
       "      <td>burgers</td>\n",
       "      <td>meatballs</td>\n",
       "      <td>eggs</td>\n",
       "      <td>NaN</td>\n",
       "      <td>NaN</td>\n",
       "      <td>NaN</td>\n",
       "      <td>NaN</td>\n",
       "      <td>NaN</td>\n",
       "      <td>NaN</td>\n",
       "      <td>NaN</td>\n",
       "      <td>NaN</td>\n",
       "      <td>NaN</td>\n",
       "      <td>NaN</td>\n",
       "      <td>NaN</td>\n",
       "      <td>NaN</td>\n",
       "      <td>NaN</td>\n",
       "      <td>NaN</td>\n",
       "      <td>NaN</td>\n",
       "      <td>NaN</td>\n",
       "      <td>NaN</td>\n",
       "    </tr>\n",
       "    <tr>\n",
       "      <th>2</th>\n",
       "      <td>chutney</td>\n",
       "      <td>NaN</td>\n",
       "      <td>NaN</td>\n",
       "      <td>NaN</td>\n",
       "      <td>NaN</td>\n",
       "      <td>NaN</td>\n",
       "      <td>NaN</td>\n",
       "      <td>NaN</td>\n",
       "      <td>NaN</td>\n",
       "      <td>NaN</td>\n",
       "      <td>NaN</td>\n",
       "      <td>NaN</td>\n",
       "      <td>NaN</td>\n",
       "      <td>NaN</td>\n",
       "      <td>NaN</td>\n",
       "      <td>NaN</td>\n",
       "      <td>NaN</td>\n",
       "      <td>NaN</td>\n",
       "      <td>NaN</td>\n",
       "      <td>NaN</td>\n",
       "    </tr>\n",
       "    <tr>\n",
       "      <th>3</th>\n",
       "      <td>turkey</td>\n",
       "      <td>avocado</td>\n",
       "      <td>NaN</td>\n",
       "      <td>NaN</td>\n",
       "      <td>NaN</td>\n",
       "      <td>NaN</td>\n",
       "      <td>NaN</td>\n",
       "      <td>NaN</td>\n",
       "      <td>NaN</td>\n",
       "      <td>NaN</td>\n",
       "      <td>NaN</td>\n",
       "      <td>NaN</td>\n",
       "      <td>NaN</td>\n",
       "      <td>NaN</td>\n",
       "      <td>NaN</td>\n",
       "      <td>NaN</td>\n",
       "      <td>NaN</td>\n",
       "      <td>NaN</td>\n",
       "      <td>NaN</td>\n",
       "      <td>NaN</td>\n",
       "    </tr>\n",
       "    <tr>\n",
       "      <th>4</th>\n",
       "      <td>mineral water</td>\n",
       "      <td>milk</td>\n",
       "      <td>energy bar</td>\n",
       "      <td>whole wheat rice</td>\n",
       "      <td>green tea</td>\n",
       "      <td>NaN</td>\n",
       "      <td>NaN</td>\n",
       "      <td>NaN</td>\n",
       "      <td>NaN</td>\n",
       "      <td>NaN</td>\n",
       "      <td>NaN</td>\n",
       "      <td>NaN</td>\n",
       "      <td>NaN</td>\n",
       "      <td>NaN</td>\n",
       "      <td>NaN</td>\n",
       "      <td>NaN</td>\n",
       "      <td>NaN</td>\n",
       "      <td>NaN</td>\n",
       "      <td>NaN</td>\n",
       "      <td>NaN</td>\n",
       "    </tr>\n",
       "  </tbody>\n",
       "</table>\n",
       "</div>"
      ],
      "text/plain": [
       "              0          1           2                 3             4   \\\n",
       "0         shrimp    almonds     avocado    vegetables mix  green grapes   \n",
       "1        burgers  meatballs        eggs               NaN           NaN   \n",
       "2        chutney        NaN         NaN               NaN           NaN   \n",
       "3         turkey    avocado         NaN               NaN           NaN   \n",
       "4  mineral water       milk  energy bar  whole wheat rice     green tea   \n",
       "\n",
       "                 5     6               7             8             9   \\\n",
       "0  whole weat flour  yams  cottage cheese  energy drink  tomato juice   \n",
       "1               NaN   NaN             NaN           NaN           NaN   \n",
       "2               NaN   NaN             NaN           NaN           NaN   \n",
       "3               NaN   NaN             NaN           NaN           NaN   \n",
       "4               NaN   NaN             NaN           NaN           NaN   \n",
       "\n",
       "               10         11     12     13             14      15  \\\n",
       "0  low fat yogurt  green tea  honey  salad  mineral water  salmon   \n",
       "1             NaN        NaN    NaN    NaN            NaN     NaN   \n",
       "2             NaN        NaN    NaN    NaN            NaN     NaN   \n",
       "3             NaN        NaN    NaN    NaN            NaN     NaN   \n",
       "4             NaN        NaN    NaN    NaN            NaN     NaN   \n",
       "\n",
       "                  16               17       18         19  \n",
       "0  antioxydant juice  frozen smoothie  spinach  olive oil  \n",
       "1                NaN              NaN      NaN        NaN  \n",
       "2                NaN              NaN      NaN        NaN  \n",
       "3                NaN              NaN      NaN        NaN  \n",
       "4                NaN              NaN      NaN        NaN  "
      ]
     },
     "execution_count": 5,
     "metadata": {},
     "output_type": "execute_result"
    }
   ],
   "source": [
    "store_data = pd.read_csv('store_data.csv', header=None)\n",
    "store_data.head()"
   ]
  },
  {
   "cell_type": "markdown",
   "metadata": {
    "id": "js_n2gR-iDKh"
   },
   "source": [
    "## Data Proprocessing\n",
    "\n",
    "La biblioteca Apriori que vamos a usar requiere que nuestro conjunto de datos tenga la forma de una lista de listas, donde todo el conjunto de datos es una lista grande y cada transacción en el conjunto de datos es una lista interna dentro de la lista grande externa. Actualmente tenemos datos en forma de marco de datos de pandas. Para convertir nuestro marco de datos de pandas en una lista de listas, ejecute el siguiente script:"
   ]
  },
  {
   "cell_type": "code",
   "execution_count": 6,
   "metadata": {
    "id": "RwJwtADyiHkM"
   },
   "outputs": [],
   "source": [
    "records = []\n",
    "for i in range(0, 7501):\n",
    "    records.append([str(store_data.values[i,j]) for j in range(0, 20)])"
   ]
  },
  {
   "cell_type": "markdown",
   "metadata": {
    "id": "GBr6pd8JiNtV"
   },
   "source": [
    "## Aplicando el Algoritmo Apriori\n",
    "\n",
    "El siguiente paso es aplicar el algoritmo Apriori en el conjunto de datos. Para hacerlo, podemos usar la clase a priori que importamos de la biblioteca apyori.\n",
    "\n",
    "La clase a priori requiere algunos valores de parámetros para funcionar. El primer parámetro es la lista de lista de la que desea extraer reglas. El segundo parámetro es el parámetro min_support. Este parámetro se utiliza para seleccionar los elementos con valores de soporte superiores al valor especificado por el parámetro. A continuación, el parámetro min_confidence filtra aquellas reglas que tienen una confianza superior al umbral de confianza especificado por el parámetro. De manera similar, el parámetro min_lift especifica el valor de elevación mínimo para las reglas preseleccionadas. Finalmente, el parámetro min_length especifica la cantidad mínima de elementos que desea en sus reglas.\n",
    "\n",
    "Supongamos que queremos reglas solo para aquellos artículos que se compran al menos 5 veces al día, o 7 x 5 = 35 veces en una semana, ya que nuestro conjunto de datos es para un período de una semana. El soporte para esos artículos se puede calcular como 35/7500 = 0.0045. La confianza mínima para las reglas es 20% o 0.2. De manera similar, especificamos el valor de lift como 3 y finalmente min_length es 2 ya que queremos al menos dos productos en nuestras reglas. Estos valores en su mayoría se eligen arbitrariamente, por lo que puede jugar con estos valores y ver qué diferencia hace en las reglas que recupera."
   ]
  },
  {
   "cell_type": "code",
   "execution_count": 7,
   "metadata": {
    "id": "bkDTGvlniSIp"
   },
   "outputs": [],
   "source": [
    "association_rules = apriori(records, min_support=0.0045, min_confidence=0.2, min_lift=3, min_length=2)\n",
    "association_results = list(association_rules)"
   ]
  },
  {
   "cell_type": "markdown",
   "metadata": {
    "id": "L1MTqGwMinb4"
   },
   "source": [
    "En la segunda línea aquí convertimos las reglas encontradas por la clase a priori en una lista ya que es más fácil ver los resultados de esta forma.\n",
    "\n",
    "## Visualización de Resultados:\n",
    "\n",
    "Primero encontremos el número total de reglas extraídas por la clase a priori. Ejecute el siguiente script:"
   ]
  },
  {
   "cell_type": "code",
   "execution_count": 8,
   "metadata": {
    "colab": {
     "base_uri": "https://localhost:8080/"
    },
    "id": "laiaMEDNioOO",
    "outputId": "1de7073d-64e3-4702-ed81-b3dc65ac57d5"
   },
   "outputs": [
    {
     "name": "stdout",
     "output_type": "stream",
     "text": [
      "48\n"
     ]
    }
   ],
   "source": [
    "print(len(association_results))"
   ]
  },
  {
   "cell_type": "markdown",
   "metadata": {
    "id": "b2e-JmmJi9G-"
   },
   "source": [
    "El script anterior debería devolver 48. Cada elemento corresponde a una regla.\n",
    "\n",
    "Imprimamos el primer elemento de la lista Association_rules para ver la primera regla. Ejecute el siguiente script:"
   ]
  },
  {
   "cell_type": "code",
   "execution_count": 9,
   "metadata": {
    "colab": {
     "base_uri": "https://localhost:8080/"
    },
    "id": "hgUQhk3bjAb4",
    "outputId": "cb62468b-3e55-4570-bef9-501b8d84e943"
   },
   "outputs": [
    {
     "name": "stdout",
     "output_type": "stream",
     "text": [
      "RelationRecord(items=frozenset({'chicken', 'light cream'}), support=0.004532728969470737, ordered_statistics=[OrderedStatistic(items_base=frozenset({'light cream'}), items_add=frozenset({'chicken'}), confidence=0.29059829059829057, lift=4.84395061728395)])\n"
     ]
    }
   ],
   "source": [
    "print(association_results[0])"
   ]
  },
  {
   "cell_type": "markdown",
   "metadata": {
    "id": "IdGdmSExjI5k"
   },
   "source": [
    "El primer elemento de la lista es una lista que contiene tres elementos. El primer elemento de la lista muestra los artículos de abarrotes de la regla.\n",
    "\n",
    "Por ejemplo, desde el primer artículo, podemos ver que la crema ligera y el pollo se compran comúnmente juntos. Esto tiene sentido ya que las personas que compran crema ligera tienen cuidado con lo que comen, por lo que es más probable que compren pollo, es decir, carne blanca, en lugar de carne roja, es decir, carne de res. O esto podría significar que la crema ligera se usa comúnmente en las recetas de pollo.\n",
    "\n",
    "El valor de soporte para la primera regla es 0.0045. Este número se calcula dividiendo el número de transacciones que contienen crema ligera entre el número total de transacciones. El nivel de confianza de la regla es 0,2905, lo que muestra que de todas las transacciones que contienen crema ligera, el 29,05 % de las transacciones también contienen pollo. Finalmente, el aumento de 4.84 nos dice que los clientes que compran crema light tienen 4.84 veces más probabilidades de comprar pollo en comparación con la probabilidad predeterminada de la venta de pollo.\n",
    "\n",
    "La siguiente secuencia de comandos muestra la regla, Support, Confidence y Lift de manera más clara:"
   ]
  },
  {
   "cell_type": "code",
   "execution_count": 10,
   "metadata": {
    "colab": {
     "base_uri": "https://localhost:8080/"
    },
    "id": "56UPdDoOjMfM",
    "outputId": "f1affb52-3973-4fea-8b6e-02d234af8a47"
   },
   "outputs": [
    {
     "name": "stdout",
     "output_type": "stream",
     "text": [
      "Rule: chicken -> light cream\n",
      "Support: 0.004532728969470737\n",
      "Confidence: 0.29059829059829057\n",
      "Lift: 4.84395061728395\n",
      "=====================================\n",
      "Rule: escalope -> mushroom cream sauce\n",
      "Support: 0.005732568990801226\n",
      "Confidence: 0.3006993006993007\n",
      "Lift: 3.790832696715049\n",
      "=====================================\n",
      "Rule: escalope -> pasta\n",
      "Support: 0.005865884548726837\n",
      "Confidence: 0.3728813559322034\n",
      "Lift: 4.700811850163794\n",
      "=====================================\n",
      "Rule: herb & pepper -> ground beef\n",
      "Support: 0.015997866951073192\n",
      "Confidence: 0.3234501347708895\n",
      "Lift: 3.2919938411349285\n",
      "=====================================\n",
      "Rule: tomato sauce -> ground beef\n",
      "Support: 0.005332622317024397\n",
      "Confidence: 0.3773584905660377\n",
      "Lift: 3.840659481324083\n",
      "=====================================\n",
      "Rule: olive oil -> whole wheat pasta\n",
      "Support: 0.007998933475536596\n",
      "Confidence: 0.2714932126696833\n",
      "Lift: 4.122410097642296\n",
      "=====================================\n",
      "Rule: shrimp -> pasta\n",
      "Support: 0.005065991201173177\n",
      "Confidence: 0.3220338983050847\n",
      "Lift: 4.506672147735896\n",
      "=====================================\n",
      "Rule: chicken -> nan\n",
      "Support: 0.004532728969470737\n",
      "Confidence: 0.29059829059829057\n",
      "Lift: 4.84395061728395\n",
      "=====================================\n",
      "Rule: chocolate -> shrimp\n",
      "Support: 0.005332622317024397\n",
      "Confidence: 0.23255813953488375\n",
      "Lift: 3.2545123221103784\n",
      "=====================================\n",
      "Rule: spaghetti -> ground beef\n",
      "Support: 0.004799360085321957\n",
      "Confidence: 0.5714285714285714\n",
      "Lift: 3.2819951870487856\n",
      "=====================================\n",
      "Rule: nan -> escalope\n",
      "Support: 0.005732568990801226\n",
      "Confidence: 0.3006993006993007\n",
      "Lift: 3.790832696715049\n",
      "=====================================\n",
      "Rule: nan -> escalope\n",
      "Support: 0.005865884548726837\n",
      "Confidence: 0.3728813559322034\n",
      "Lift: 4.700811850163794\n",
      "=====================================\n",
      "Rule: spaghetti -> frozen vegetables\n",
      "Support: 0.008665511265164644\n",
      "Confidence: 0.31100478468899523\n",
      "Lift: 3.165328208890303\n",
      "=====================================\n",
      "Rule: milk -> olive oil\n",
      "Support: 0.004799360085321957\n",
      "Confidence: 0.20338983050847456\n",
      "Lift: 3.088314005352364\n",
      "=====================================\n",
      "Rule: shrimp -> frozen vegetables\n",
      "Support: 0.007199040127982935\n",
      "Confidence: 0.30508474576271183\n",
      "Lift: 3.200616332819722\n",
      "=====================================\n",
      "Rule: olive oil -> spaghetti\n",
      "Support: 0.005732568990801226\n",
      "Confidence: 0.20574162679425836\n",
      "Lift: 3.1240241752707125\n",
      "=====================================\n",
      "Rule: shrimp -> spaghetti\n",
      "Support: 0.005999200106652446\n",
      "Confidence: 0.21531100478468898\n",
      "Lift: 3.0131489680782684\n",
      "=====================================\n",
      "Rule: tomatoes -> spaghetti\n",
      "Support: 0.006665777896280496\n",
      "Confidence: 0.23923444976076558\n",
      "Lift: 3.4980460188216425\n",
      "=====================================\n",
      "Rule: spaghetti -> ground beef\n",
      "Support: 0.005332622317024397\n",
      "Confidence: 0.3225806451612903\n",
      "Lift: 3.283144395325426\n",
      "=====================================\n",
      "Rule: herb & pepper -> ground beef\n",
      "Support: 0.006665777896280496\n",
      "Confidence: 0.39062500000000006\n",
      "Lift: 3.975682666214383\n",
      "=====================================\n",
      "Rule: nan -> herb & pepper\n",
      "Support: 0.015997866951073192\n",
      "Confidence: 0.3234501347708895\n",
      "Lift: 3.2919938411349285\n",
      "=====================================\n",
      "Rule: herb & pepper -> spaghetti\n",
      "Support: 0.006399146780429276\n",
      "Confidence: 0.3934426229508197\n",
      "Lift: 4.004359721511667\n",
      "=====================================\n",
      "Rule: milk -> olive oil\n",
      "Support: 0.004932675643247567\n",
      "Confidence: 0.22424242424242427\n",
      "Lift: 3.40494417862839\n",
      "=====================================\n",
      "Rule: nan -> tomato sauce\n",
      "Support: 0.005332622317024397\n",
      "Confidence: 0.3773584905660377\n",
      "Lift: 3.840659481324083\n",
      "=====================================\n",
      "Rule: shrimp -> spaghetti\n",
      "Support: 0.005999200106652446\n",
      "Confidence: 0.5232558139534884\n",
      "Lift: 3.005315360233627\n",
      "=====================================\n",
      "Rule: milk -> olive oil\n",
      "Support: 0.007199040127982935\n",
      "Confidence: 0.20300751879699247\n",
      "Lift: 3.0825089038385434\n",
      "=====================================\n",
      "Rule: olive oil -> soup\n",
      "Support: 0.005199306759098787\n",
      "Confidence: 0.22543352601156072\n",
      "Lift: 3.4230301186492245\n",
      "=====================================\n",
      "Rule: olive oil -> nan\n",
      "Support: 0.007998933475536596\n",
      "Confidence: 0.2714932126696833\n",
      "Lift: 4.13077198425009\n",
      "=====================================\n",
      "Rule: nan -> shrimp\n",
      "Support: 0.005065991201173177\n",
      "Confidence: 0.3220338983050847\n",
      "Lift: 4.515095833993347\n",
      "=====================================\n",
      "Rule: olive oil -> spaghetti\n",
      "Support: 0.005065991201173177\n",
      "Confidence: 0.20105820105820105\n",
      "Lift: 3.0529100529100526\n",
      "=====================================\n",
      "Rule: chocolate -> nan\n",
      "Support: 0.005332622317024397\n",
      "Confidence: 0.23255813953488375\n",
      "Lift: 3.260595522712454\n",
      "=====================================\n",
      "Rule: nan -> spaghetti\n",
      "Support: 0.004799360085321957\n",
      "Confidence: 0.5714285714285714\n",
      "Lift: 3.2819951870487856\n",
      "=====================================\n",
      "Rule: nan -> spaghetti\n",
      "Support: 0.008665511265164644\n",
      "Confidence: 0.31100478468899523\n",
      "Lift: 3.165328208890303\n",
      "=====================================\n",
      "Rule: milk -> spaghetti\n",
      "Support: 0.004532728969470737\n",
      "Confidence: 0.28813559322033894\n",
      "Lift: 3.0228043143297376\n",
      "=====================================\n",
      "Rule: milk -> olive oil\n",
      "Support: 0.004799360085321957\n",
      "Confidence: 0.20338983050847456\n",
      "Lift: 3.094578333963626\n",
      "=====================================\n",
      "Rule: nan -> frozen vegetables\n",
      "Support: 0.007199040127982935\n",
      "Confidence: 0.30508474576271183\n",
      "Lift: 3.200616332819722\n",
      "=====================================\n",
      "Rule: olive oil -> nan\n",
      "Support: 0.005732568990801226\n",
      "Confidence: 0.20574162679425836\n",
      "Lift: 3.1303609383037156\n",
      "=====================================\n",
      "Rule: nan -> spaghetti\n",
      "Support: 0.005999200106652446\n",
      "Confidence: 0.21531100478468898\n",
      "Lift: 3.0187810222242093\n",
      "=====================================\n",
      "Rule: tomatoes -> nan\n",
      "Support: 0.006665777896280496\n",
      "Confidence: 0.23923444976076558\n",
      "Lift: 3.4980460188216425\n",
      "=====================================\n",
      "Rule: nan -> spaghetti\n",
      "Support: 0.005332622317024397\n",
      "Confidence: 0.3225806451612903\n",
      "Lift: 3.283144395325426\n",
      "=====================================\n",
      "Rule: nan -> herb & pepper\n",
      "Support: 0.006665777896280496\n",
      "Confidence: 0.39062500000000006\n",
      "Lift: 3.975682666214383\n",
      "=====================================\n",
      "Rule: nan -> herb & pepper\n",
      "Support: 0.006399146780429276\n",
      "Confidence: 0.3934426229508197\n",
      "Lift: 4.004359721511667\n",
      "=====================================\n",
      "Rule: milk -> olive oil\n",
      "Support: 0.004932675643247567\n",
      "Confidence: 0.22424242424242427\n",
      "Lift: 3.4118507591124225\n",
      "=====================================\n",
      "Rule: nan -> spaghetti\n",
      "Support: 0.005999200106652446\n",
      "Confidence: 0.5232558139534884\n",
      "Lift: 3.005315360233627\n",
      "=====================================\n",
      "Rule: milk -> olive oil\n",
      "Support: 0.007199040127982935\n",
      "Confidence: 0.20300751879699247\n",
      "Lift: 3.088761457396025\n",
      "=====================================\n",
      "Rule: soup -> olive oil\n",
      "Support: 0.005199306759098787\n",
      "Confidence: 0.22543352601156072\n",
      "Lift: 3.429973384609973\n",
      "=====================================\n",
      "Rule: olive oil -> nan\n",
      "Support: 0.005065991201173177\n",
      "Confidence: 0.20105820105820105\n",
      "Lift: 3.0591025682303568\n",
      "=====================================\n",
      "Rule: milk -> spaghetti\n",
      "Support: 0.004532728969470737\n",
      "Confidence: 0.28813559322033894\n",
      "Lift: 3.0228043143297376\n",
      "=====================================\n"
     ]
    }
   ],
   "source": [
    "for item in association_results:\n",
    "\n",
    "    pair = item[0]\n",
    "    items = [x for x in pair]\n",
    "    print(\"Rule: \" + items[0] + \" -> \" + items[1])\n",
    "\n",
    "    print(\"Support: \" + str(item[1]))\n",
    "\n",
    "    print(\"Confidence: \" + str(item[2][0][2]))\n",
    "    print(\"Lift: \" + str(item[2][0][3]))\n",
    "    print(\"=====================================\")"
   ]
  },
  {
   "cell_type": "markdown",
   "metadata": {
    "id": "VYIJQqLajaac"
   },
   "source": [
    "Ya hemos discutido la primera regla. Analicemos ahora la segunda regla. La segunda regla establece que mushroom cream sauce y el escalope se compran con frecuencia. El soporte para mushroom cream sauce es 0,0057. La confianza para esta regla es 0,3006, lo que significa que, de todas las transacciones que contienen hongos, es probable que el 30,06 % de las transacciones también contengan escalope. Finalmente, el aumento de 3,79 muestra que el escalope tiene 3,79 más probabilidades de ser comprado por los clientes que compran cream sauce, en comparación con su venta predeterminada."
   ]
  },
  {
   "cell_type": "code",
   "execution_count": null,
   "metadata": {},
   "outputs": [],
   "source": []
  },
  {
   "cell_type": "code",
   "execution_count": null,
   "metadata": {},
   "outputs": [],
   "source": []
  },
  {
   "cell_type": "code",
   "execution_count": null,
   "metadata": {},
   "outputs": [],
   "source": []
  }
 ],
 "metadata": {
  "anaconda-cloud": {},
  "colab": {
   "provenance": []
  },
  "kernelspec": {
   "display_name": "Python 3 (ipykernel)",
   "language": "python",
   "name": "python3"
  },
  "language_info": {
   "codemirror_mode": {
    "name": "ipython",
    "version": 3
   },
   "file_extension": ".py",
   "mimetype": "text/x-python",
   "name": "python",
   "nbconvert_exporter": "python",
   "pygments_lexer": "ipython3",
   "version": "3.11.4"
  }
 },
 "nbformat": 4,
 "nbformat_minor": 1
}
